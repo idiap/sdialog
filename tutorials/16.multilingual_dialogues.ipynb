{
 "cells": [
  {
   "cell_type": "markdown",
   "metadata": {},
   "source": [
    "# Tutorial 16: Use Copilot to generate multilingual dialogues with SDialog\n"
   ]
  },
  {
   "cell_type": "markdown",
   "metadata": {},
   "source": [
    "We will ask to Copilot or Cursor to create the code for us:"
   ]
  },
  {
   "cell_type": "markdown",
   "metadata": {},
   "source": [
    "```plain\n",
    "#fetch https://sdialog.readthedocs.io/en/latest/llm.txt\n",
    "\n",
    "Write a Python code to generate dialog between an patient and a polite doctor using sdialog with multi-agent support, using Amazon bedrock call to Claude 3.5 sonnet. Both speakers should speak spanish.\n",
    "```"
   ]
  },
  {
   "cell_type": "markdown",
   "metadata": {},
   "source": [
    "The output:"
   ]
  },
  {
   "cell_type": "code",
   "execution_count": null,
   "metadata": {},
   "outputs": [],
   "source": [
    "!pip install boto3 langchain-aws"
   ]
  },
  {
   "cell_type": "code",
   "execution_count": null,
   "metadata": {},
   "outputs": [],
   "source": [
    "import os\n",
    "import sdialog\n",
    "from sdialog import Context \n",
    "from sdialog.agents import Agent\n",
    "from sdialog.personas import Persona"
   ]
  },
  {
   "cell_type": "markdown",
   "metadata": {},
   "source": [
    "AWS configuration with your usual method:"
   ]
  },
  {
   "cell_type": "code",
   "execution_count": null,
   "metadata": {},
   "outputs": [],
   "source": [
    "os.environ[\"AWS_BEARER_TOKEN_BEDROCK\"] = \"XXX\""
   ]
  },
  {
   "cell_type": "markdown",
   "metadata": {},
   "source": [
    "Configure sdialog to use your model:"
   ]
  },
  {
   "cell_type": "code",
   "execution_count": null,
   "metadata": {},
   "outputs": [],
   "source": [
    "sdialog.config.llm(\"amazon:anthropic.claude-3-5-sonnet-20240620-v1:0\", \n",
    "                   temperature=0.7, \n",
    "                   max_tokens=512,\n",
    "                   region_name=\"us-east-1\")"
   ]
  },
  {
   "cell_type": "markdown",
   "metadata": {},
   "source": [
    "Define the characters:"
   ]
  },
  {
   "cell_type": "code",
   "execution_count": null,
   "metadata": {},
   "outputs": [],
   "source": [
    "patient = Persona(\n",
    "    name=\"María González\",\n",
    "    age=45,\n",
    "    gender=\"female\",\n",
    "    role=\"paciente\",\n",
    "    background=\"María es una paciente de 45 años que consulta por dolores de cabeza recurrentes y fatiga. Trabaja en una oficina y tiene dos hijos adolescentes.\",\n",
    "    personality=\"María es educada, un poco ansiosa, y tiende a hacer muchas preguntas. Se preocupa fácilmente por su salud.\",\n",
    "    circumstances=\"Hizo una cita porque sus síntomas han persistido durante dos semanas y están afectando su trabajo.\",\n",
    "    rules=\"Debe ser respetuosa con el doctor y expresar sus preocupaciones claramente. Debe hablar en español.\",\n",
    "    language=\"Spanish\"\n",
    ")\n",
    "\n",
    "doctor = Persona(\n",
    "    name=\"Dr. Carlos Rodríguez\",\n",
    "    age=52,\n",
    "    gender=\"male\", \n",
    "    role=\"médico general\",\n",
    "    background=\"El Dr. Rodríguez es un médico general experimentado con 25 años de experiencia. Es conocido por su enfoque empático y paciencia con sus pacientes.\",\n",
    "    personality=\"Es muy profesional, empático, y se toma el tiempo para escuchar a sus pacientes. Explica las cosas de manera clara y tranquilizadora.\",\n",
    "    circumstances=\"Practica en su consultorio privado y tiene un enfoque holístico de la medicina.\",\n",
    "    rules=\"Debe ser cortés, profesional, hacer preguntas relevantes, y tranquilizar al paciente mientras permanece médicamente preciso. Debe hablar en español.\",\n",
    "    language=\"Spanish\"\n",
    ")"
   ]
  },
  {
   "cell_type": "markdown",
   "metadata": {},
   "source": [
    "Create the consultation context:"
   ]
  },
  {
   "cell_type": "code",
   "execution_count": null,
   "metadata": {},
   "outputs": [],
   "source": [
    "context = Context(\n",
    "    location=\"Consultorio del Dr. Rodríguez\",\n",
    "    datetime=\"2024-01-15 14:30\",\n",
    "    environment=\"Un consultorio médico moderno y acogedor con una atmósfera tranquila y profesional\",\n",
    "    topics=[\"consulta médica\", \"dolores de cabeza\", \"fatiga\", \"diagnóstico\"],\n",
    "    goals=[\"establecer un diagnóstico\", \"tranquilizar al paciente\", \"proponer tratamiento\"],\n",
    "    constraints=[\"respetar la confidencialidad médica\", \"ser profesional\", \"limitar la consulta a 20 minutos\"]\n",
    ")"
   ]
  },
  {
   "cell_type": "markdown",
   "metadata": {},
   "source": [
    "Create the agents with your model:"
   ]
  },
  {
   "cell_type": "code",
   "execution_count": null,
   "metadata": {},
   "outputs": [],
   "source": [
    "agent_patient = Agent(\n",
    "    persona=patient,\n",
    "    name=\"María\",\n",
    "    context=context,\n",
    "    first_utterance=\"Buenos días doctor, gracias por atenderme. Vine a verlo porque he tenido dolores de cabeza persistentes durante dos semanas, y me siento muy cansada.\",\n",
    "    dialogue_details=\"Consulta médica por síntomas persistentes\",\n",
    "    response_details=\"Respuestas naturales y respetuosas, expresando las preocupaciones del paciente en español\"\n",
    ")\n",
    "\n",
    "agent_doctor = Agent(\n",
    "    persona=doctor,\n",
    "    name=\"Dr. Rodríguez\", \n",
    "    context=context,\n",
    "    dialogue_details=\"Consulta médica profesional\",\n",
    "    response_details=\"Respuestas médicas profesionales, empáticas y tranquilizadoras en español\"\n",
    ")"
   ]
  },
  {
   "cell_type": "markdown",
   "metadata": {},
   "source": [
    "Generate the dialogue:"
   ]
  },
  {
   "cell_type": "code",
   "execution_count": null,
   "metadata": {},
   "outputs": [],
   "source": [
    "dialogue = agent_patient.dialog_with(\n",
    "    agent_doctor,\n",
    "    context=context,\n",
    "    max_turns=12,  # 6 échanges (12 tours au total)\n",
    "    seed=42  # Pour la reproductibilité\n",
    ")\n",
    "\n",
    "dialogue.print()\n",
    "\n",
    "print(f\"\\n=== Estadísticas del Diálogo ===\")\n",
    "print(f\"Número de turnos: {len(dialogue)}\")\n",
    "print(f\"Número de palabras: {dialogue.length('words')}\")\n",
    "print(f\"Duración estimada: {dialogue.length('minutes')} minutos\")\n",
    "print(f\"Modelo usado: {dialogue.model}\")\n",
    "print(f\"Semilla: {dialogue.seed}\")"
   ]
  },
  {
   "cell_type": "markdown",
   "metadata": {},
   "source": [
    "Save the dialogue:"
   ]
  },
  {
   "cell_type": "code",
   "execution_count": null,
   "metadata": {},
   "outputs": [],
   "source": [
    "dialogue.to_file(\"demo_dialog_doctor_patient_spanish.json\")"
   ]
  }
 ],
 "metadata": {
  "kernelspec": {
   "display_name": "Python 3",
   "language": "python",
   "name": "python3"
  },
  "language_info": {
   "codemirror_mode": {
    "name": "ipython",
    "version": 3
   },
   "file_extension": ".py",
   "mimetype": "text/x-python",
   "name": "python",
   "nbconvert_exporter": "python",
   "pygments_lexer": "ipython3",
   "version": "3.11.14"
  }
 },
 "nbformat": 4,
 "nbformat_minor": 2
}
