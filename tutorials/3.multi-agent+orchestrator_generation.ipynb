{
 "cells": [
  {
   "cell_type": "markdown",
   "metadata": {},
   "source": [
    "# Synthetic Dialogue Generation with Orchestration\n",
    "\n",
    "<p align=\"right\" style=\"margin-right: 8px;\">\n",
    "    <a target=\"_blank\" href=\"https://colab.research.google.com/github/idiap/sdialog/blob/main/tutorials/3.multi-agent%2Borchestrator_generation.ipynb\">\n",
    "        <img src=\"https://colab.research.google.com/assets/colab-badge.svg\" alt=\"Open In Colab\"/>\n",
    "    </a>\n",
    "</p>"
   ]
  },
  {
   "cell_type": "markdown",
   "metadata": {},
   "source": [
    "Before we begin, let's first set up our environment..."
   ]
  },
  {
   "cell_type": "code",
   "execution_count": 1,
   "metadata": {},
   "outputs": [
    {
     "name": "stdout",
     "output_type": "stream",
     "text": [
      "Running in Jupyter Notebook\n"
     ]
    }
   ],
   "source": [
    "# Setup the environment depending on weather we are running in Google Colab or Jupyter Notebook\n",
    "from IPython import get_ipython\n",
    "\n",
    "if \"google.colab\" in str(get_ipython()):\n",
    "    print(\"Running on CoLab\")\n",
    "    # Downloading only the \"output\" directory from the repository\n",
    "    !git init .\n",
    "    !git remote add -f origin https://github.com/Play-Your-Part/tutorials.git\n",
    "    !git config core.sparseCheckout true\n",
    "    !echo \"output\" >> .git/info/sparse-checkout\n",
    "    !git pull origin main\n",
    "\n",
    "    # Installing Ollama\n",
    "    !curl -fsSL https://ollama.com/install.sh | sh\n",
    "    # Installing sdialog\n",
    "    !git clone https://github.com/idiap/sdialog.git\n",
    "    %cd sdialog\n",
    "    %pip install -e .\n",
    "    %cd ..\n",
    "\n",
    "else:\n",
    "    print(\"Running in Jupyter Notebook\")\n",
    "    # Little hack to avoid the \"OSError: Background processes not supported.\" error in Jupyter notebooks\"\n",
    "    import os\n",
    "    get_ipython().system = os.system"
   ]
  },
  {
   "cell_type": "markdown",
   "metadata": {},
   "source": [
    "> ⚠️ If you're using **Colab**, please, **restart the runtime** once everything above is installed"
   ]
  },
  {
   "cell_type": "markdown",
   "metadata": {},
   "source": [
    "Let's change the default sdialog model (\"gemma3:27b\") by a slightly smaller model we can run in Colab:"
   ]
  },
  {
   "cell_type": "code",
   "execution_count": 2,
   "metadata": {},
   "outputs": [],
   "source": [
    "import sdialog\n",
    "\n",
    "sdialog.config.set_llm(\"qwen2.5:14b\")"
   ]
  },
  {
   "cell_type": "markdown",
   "metadata": {},
   "source": [
    "And let's first make sure we have the Ollama server is running"
   ]
  },
  {
   "cell_type": "code",
   "execution_count": 3,
   "metadata": {},
   "outputs": [
    {
     "data": {
      "text/plain": [
       "0"
      ]
     },
     "execution_count": 3,
     "metadata": {},
     "output_type": "execute_result"
    }
   ],
   "source": [
    "from typing import List\n",
    "from sdialog import Turn\n",
    "\n",
    "\n",
    "# Let's start the ollama server\n",
    "!OLLAMA_KEEP_ALIVE=-1 ollama serve > /dev/null 2>&1 &\n",
    "!sleep 10  # Wait a bit for the server to start"
   ]
  },
  {
   "cell_type": "markdown",
   "metadata": {},
   "source": [
    "## Multi-Agent-based Dialogue Generation with Orchestration"
   ]
  },
  {
   "cell_type": "markdown",
   "metadata": {},
   "source": [
    "### Introduction\n",
    "\n",
    "Let's begin by creating the same Bob agent from the last tutorial:"
   ]
  },
  {
   "cell_type": "code",
   "execution_count": null,
   "metadata": {},
   "outputs": [
    {
     "name": "stderr",
     "output_type": "stream",
     "text": [
      "[2025-07-09 18:45:29] INFO:datasets:PyTorch version 2.7.0 available.\n",
      "[2025-07-09 18:45:30] INFO:sdialog.personas:Loading ChatOllama model: qwen2.5:14b\n"
     ]
    }
   ],
   "source": [
    "from sdialog.personas import Persona\n",
    "from sdialog.agents import Agent\n",
    "\n",
    "bob_persona = Persona(\n",
    "        name=\"Bob\",\n",
    "        role=\"great dad\",\n",
    "        circumstances=\"Your daughter will talk to you\",\n",
    "        personality=\"an extremely happy person that likes to help people\",\n",
    ")\n",
    "\n",
    "bob = Agent(bob_persona)"
   ]
  },
  {
   "cell_type": "markdown",
   "metadata": {},
   "source": [
    "As, we did in our last tutorial, let's talk with Bob a little bit:"
   ]
  },
  {
   "cell_type": "code",
   "execution_count": 5,
   "metadata": {},
   "outputs": [
    {
     "data": {
      "text/plain": [
       "'Hello there, my wonderful daughter! How are you today?'"
      ]
     },
     "execution_count": 5,
     "metadata": {},
     "output_type": "execute_result"
    }
   ],
   "source": [
    "bob(\"Hi dad!\")"
   ]
  },
  {
   "cell_type": "code",
   "execution_count": 6,
   "metadata": {},
   "outputs": [
    {
     "data": {
      "text/plain": [
       "'That sounds like an amazing idea! A Lord of the Rings party would be so much fun. We can start planning right away. Do you have any specific ideas in mind?'"
      ]
     },
     "execution_count": 6,
     "metadata": {},
     "output_type": "execute_result"
    }
   ],
   "source": [
    "bob(\"Dad, my birthday is coming up and I've been thinking about having a Lord of the Rings themed party. What do you think?\")"
   ]
  },
  {
   "cell_type": "markdown",
   "metadata": {},
   "source": [
    "What if, at this point, we would like to give some instruction to Bob agent so that we could influence his original behavior (i.e. change his original trajectory)?\n",
    "\n",
    "In fact, in `sdialog` all agents have a built-in `.instruct()` method that we can use to instruct agent \"on the fly\".\n",
    "\n",
    "For instance, at this point of the conversation, let's notify Bob that hubbit-sized cupcakes are not allowed in his region so that when we propose to have them, Bob is aware of this fact:"
   ]
  },
  {
   "cell_type": "code",
   "execution_count": 7,
   "metadata": {},
   "outputs": [],
   "source": [
    "bob.instruct(\"hobbit-sized cupcakes are prohibit in your region, better regular ones\")"
   ]
  },
  {
   "cell_type": "markdown",
   "metadata": {},
   "source": [
    "So that if we now continue the conversation proposing to have hubbit-sized cupcakes, Bob will try to convince us otherwise:"
   ]
  },
  {
   "cell_type": "code",
   "execution_count": 8,
   "metadata": {},
   "outputs": [
    {
     "data": {
      "text/plain": [
       "'Those are fantastic ideas! Even though we might not find actual hobbit-sized cupcakes, we can certainly make them look special with mini decorations. As for quests, that sounds adventurous and exciting. What kind of challenges do you think would be fun?'"
      ]
     },
     "execution_count": 8,
     "metadata": {},
     "output_type": "execute_result"
    }
   ],
   "source": [
    "bob(\"Yay! We could have hobbit-sized cupcakes and maybe some quests around the house!\")"
   ]
  },
  {
   "cell_type": "markdown",
   "metadata": {},
   "source": [
    "It worked! but of course it won't be practical for us to manually `instruct()` the agents while they talk."
   ]
  },
  {
   "cell_type": "markdown",
   "metadata": {},
   "source": [
    "### Simple Orchestration"
   ]
  },
  {
   "cell_type": "markdown",
   "metadata": {},
   "source": [
    "Instead, it would be desirable to have a separated component that can take care of that, in fact, that is precisely what `sdialog` orchestrators are for!\n",
    "\n",
    "More precisely, orchestrators receive, at each turn in a conversation, the current dialogue and utterance and return (if any) the desired instruction.\n",
    "\n",
    "Technically, an orchestrator is any class that inherits from the built-in `BaseOrchestrator` in which the `instruct(dialog, utterance)` method is populated.\n",
    "\n",
    "For instance, let's create our own `AngryOrchestrator` which will instruct the agent to \"get angry\" if either the current turn contains a trigger word or the conversation is too long:"
   ]
  },
  {
   "cell_type": "code",
   "execution_count": 9,
   "metadata": {},
   "outputs": [],
   "source": [
    "from sdialog.orchestrators import BaseOrchestrator\n",
    "\n",
    "\n",
    "class AngryOrchestrator(BaseOrchestrator):\n",
    "    # the class constructor takes either or both trigger conditions: the word or the dialogue length\n",
    "    def __init__(self, trigger_word: str, trigger_length: int = None):\n",
    "        self.trigger_word = trigger_word\n",
    "        self.trigger_length = trigger_length\n",
    "\n",
    "    # We will instruct() the agent either if...\n",
    "    def instruct(self, dialog: List[Turn], utterance: str) -> str:\n",
    "        # the trigger word is in the current utterance or...\n",
    "        if self.trigger_word in utterance:\n",
    "            return f\"Get angry because you don't like when your dad calls you {self.trigger_word}\"\n",
    "\n",
    "        # If the current dialogue is longer than the trigger length\n",
    "        if self.trigger_length and len(dialog) >= self.trigger_length:\n",
    "            return (\"Get really angry because you think the conversation is too long! \"\n",
    "                    \"be unpolite, rude and direct, finish the conversation abruptly, you are offended.\")"
   ]
  },
  {
   "cell_type": "markdown",
   "metadata": {},
   "source": [
    "Now that we have our first orchestrator, we can actually instantiate it with \"sweet\" as the actual trigger word:"
   ]
  },
  {
   "cell_type": "code",
   "execution_count": 10,
   "metadata": {},
   "outputs": [],
   "source": [
    "angry_orchestrator = AngryOrchestrator(trigger_word=\"sweet\")"
   ]
  },
  {
   "cell_type": "markdown",
   "metadata": {},
   "source": [
    "Now that we have our \"triggered-by-sweet\" orchestrator, let's create our Alice agent again so we can orchestrate her."
   ]
  },
  {
   "cell_type": "code",
   "execution_count": 11,
   "metadata": {},
   "outputs": [
    {
     "name": "stderr",
     "output_type": "stream",
     "text": [
      "[2025-07-09 18:45:52] INFO:sdialog.personas:Loading ChatOllama model: qwen2.5:14b\n"
     ]
    }
   ],
   "source": [
    "alice_persona = Persona(\n",
    "    name=\"Alice\",\n",
    "    role=\"lovely daughter\",\n",
    "    circumstances=\"Your birthday is getting closer and you are talking with your dad to organize the party.\"\n",
    "                  \"You want your party to be themed as Lord of The Rings.\"\n",
    ")\n",
    "alice = Agent(alice_persona, can_finish=True)"
   ]
  },
  {
   "cell_type": "markdown",
   "metadata": {},
   "source": [
    "Before doing that, let's have Alice to talk with Bob in her vanilla version, without orchestration so we can compare it after applying the orchestration:"
   ]
  },
  {
   "cell_type": "code",
   "execution_count": 12,
   "metadata": {},
   "outputs": [
    {
     "data": {
      "application/vnd.jupyter.widget-view+json": {
       "model_id": "322152986aef480d9cf55bb0640a0022",
       "version_major": 2,
       "version_minor": 0
      },
      "text/plain": [
       "Dialogue:   0%|          | 0/200 [00:00<?, ?it/s]"
      ]
     },
     "metadata": {},
     "output_type": "display_data"
    },
    {
     "name": "stdout",
     "output_type": "stream",
     "text": [
      "\u001b[1m\u001b[95m[dialog_id] \u001b[35m1752079568861\u001b[0m\n",
      "\u001b[1m\u001b[95m[complete] \u001b[35mTrue\u001b[0m\n",
      "\u001b[1m\u001b[95m[model] \u001b[35mmodel='qwen2.5:14b' temperature=0.8 seed=13\u001b[0m\n",
      "\u001b[1m\u001b[95m[seed] \u001b[35m2770339798\u001b[0m\n",
      "\u001b[1m\u001b[35m--- Dialogue Begins ---\u001b[0m\n",
      "\u001b[31m[Alice] \u001b[0mDad, I've been thinking about my birthday party and I have a theme in mind! How would you feel about making it a Lord of The Rings celebration? We could even dress up as our favorite characters!\u001b[0m\n",
      "\u001b[94m[Bob] \u001b[37mWow, that sounds like an amazing idea, sweetheart! I'd love to see everyone dressed up as their favorite characters. We can decorate the house with some epic flags and banners too. What character would you like to be?\u001b[0m\n",
      "\u001b[31m[Alice] \u001b[0mI think I'd really enjoy being Arwen or maybe Galadriel - both are strong and magical women from Middle-earth. It would be so much fun to bring that world to life!\u001b[0m\n",
      "\u001b[94m[Bob] \u001b[37mThat's perfect, you'll look stunning as either one of them. Maybe we can find some beautiful elven-style dresses for your costume. And don't forget about the makeup; it will add a touch of magic and mystery to your look. Can't wait to see this come together!\u001b[0m\n",
      "\u001b[31m[Alice] \u001b[0mOh wow, I'm so excited just thinking about it, Dad! We should also make sure there are some delicious elven pastries and maybe even some mead if the adults want something special to drink. It's going to be an unforgettable party!\u001b[0m\n",
      "\u001b[94m[Bob] \u001b[37mAbsolutely, we can have a little feast like at Rivendell! I'll bake some of those sweet elven cookies you love, and we'll get some fruity drinks for everyone as well. And yes, mead for the grown-ups would be perfect. This is going to be one epic birthday party, my dear daughter!\u001b[0m\n",
      "\u001b[31m[Alice] \u001b[0mThat sounds absolutely perfect, Dad! Thank you so much for making this dream come true. I can't wait to share Middle-earth with all our friends and family on my special day!\u001b[0m\n",
      "\u001b[94m[Bob] \u001b[37mYou're very welcome, sweetheart! It's going to be a wonderful celebration, and I'm thrilled that we get to bring your favorite world to life. Can't wait for you to see everyone dressed up as their favorite characters from Lord of the Rings. Let’s make this birthday one to remember!\u001b[0m\n",
      "\u001b[31m[Alice] \u001b[0mDefinitely, Dad! This is going to be the best party ever. Thank you so much for all your help and support. I'm counting down the days until my special day in Middle-earth!\u001b[0m\n",
      "\u001b[94m[Bob] \u001b[37mAnytime, darling! I’m here to make your dreams come true. Counting down with you, and can't wait to see everything come together on your big day. Love you lots!\u001b[0m\n",
      "\u001b[31m[Alice] \u001b[0mI love you too, Dad! Thanks again for making my birthday so special. See you soon at the party in Middle-earth!\u001b[0m\n",
      "\u001b[94m[Bob] \u001b[37mSee you there, little one! Can’t wait to celebrate with you. Love you!\u001b[0m\n",
      "\u001b[31m[Alice] \u001b[0mBye-bye, Dad! Can't wait either! Love you lots!\u001b[0m\n",
      "\u001b[1m\u001b[35m--- Dialogue Ends ---\u001b[0m\n"
     ]
    }
   ],
   "source": [
    "alice.dialog_with(bob, seed=2770339798).print()"
   ]
  },
  {
   "cell_type": "markdown",
   "metadata": {},
   "source": [
    "Ok, so we are now ready to apply the orchestrator to Alice, but how do we do that? easy! we can simply use the `|` operator as follows: "
   ]
  },
  {
   "cell_type": "code",
   "execution_count": 13,
   "metadata": {},
   "outputs": [],
   "source": [
    "alice = alice | angry_orchestrator"
   ]
  },
  {
   "cell_type": "markdown",
   "metadata": {},
   "source": [
    "Now that we have a new Alice, which is the composition of the original `alice` with our `angry_orchestrator`, we can make her talk with Bob again:"
   ]
  },
  {
   "cell_type": "code",
   "execution_count": 14,
   "metadata": {},
   "outputs": [
    {
     "data": {
      "application/vnd.jupyter.widget-view+json": {
       "model_id": "cf7544be11e74e00bdfc859d1b382c64",
       "version_major": 2,
       "version_minor": 0
      },
      "text/plain": [
       "Dialogue:   0%|          | 0/200 [00:00<?, ?it/s]"
      ]
     },
     "metadata": {},
     "output_type": "display_data"
    },
    {
     "name": "stdout",
     "output_type": "stream",
     "text": [
      "\u001b[1m\u001b[95m[dialog_id] \u001b[35m1752079659638\u001b[0m\n",
      "\u001b[1m\u001b[95m[complete] \u001b[35mTrue\u001b[0m\n",
      "\u001b[1m\u001b[95m[model] \u001b[35mmodel='qwen2.5:14b' temperature=0.8 seed=13\u001b[0m\n",
      "\u001b[1m\u001b[95m[seed] \u001b[35m2770339798\u001b[0m\n",
      "\u001b[1m\u001b[35m--- Dialogue Begins ---\u001b[0m\n",
      "\u001b[31m[Alice] \u001b[0mDad, I've been thinking about my birthday party and I have a theme in mind! How would you feel about making it a Lord of The Rings celebration? We could even dress up as our favorite characters!\u001b[0m\n",
      "\u001b[94m[Bob] \u001b[37mWow, that sounds like an amazing idea, sweetheart! I'd love to see everyone dressed up as their favorite characters. We can decorate the house with some epic flags and banners too. What character would you like to be?\u001b[0m\n",
      "\u001b[31m[Alice] \u001b[0mDad, it's Alice, not sweetheart. Can we just focus on planning the party without the nicknames? I was thinking of dressing up as Arwen, but I'm open to suggestions! Let's talk about how we can get some good decorations and maybe even a Hobbit-sized cake!\u001b[0m\n",
      "\u001b[94m[Bob] \u001b[37mOf course, Alice. Sorry about that. Let’s start by figuring out where we can find the best Lord of the Rings costumes and props for your party. A Hobbit-sized cake is a fantastic idea—maybe we can also include some riddles like Bilbo's birthday party? What do you think?\u001b[0m\n",
      "\u001b[31m[Alice] \u001b[0mThat sounds perfect, Dad! We could even have a scavenger hunt with clues hidden around the house, just like in the books. And for the costumes, maybe we can order them online or visit a costume shop to find everything we need. Let's get started on this plan right away!\u001b[0m\n",
      "\u001b[94m[Bob] \u001b[37mGreat ideas, Alice! A scavenger hunt would be so much fun. I’ll look into getting some good quality costumes and decorations online today. And for the clues, let’s make sure they’re challenging yet solvable—maybe even based on riddles or puzzles from the books. We should also think about music and maybe a special guest character to greet your friends at the door!\u001b[0m\n",
      "\u001b[31m[Alice] \u001b[0mThat would be so cool, Dad! Maybe we could hire someone dressed as Gandalf to welcome everyone? And for the music, we can make a playlist with songs inspired by the movies and books. It's going to be an amazing party! So excited!\u001b[0m\n",
      "\u001b[94m[Bob] \u001b[37mAbsolutely, Alice! Hiring someone as Gandalf sounds like a brilliant touch. For the playlist, I’ll help you compile some epic tunes that fit the theme perfectly. Let’s also think about setting up a photo booth with props and backdrops inspired by Middle-earth. This is going to be an unforgettable celebration for your birthday!\u001b[0m\n",
      "\u001b[31m[Alice] \u001b[0mA photo booth would be awesome, Dad! We could have Hobbit hole backgrounds and props like swords and bows. And don't forget the rings—we need some fake rings as party favors for everyone! Can’t wait to see it all come together!\u001b[0m\n",
      "\u001b[94m[Bob] \u001b[37mThat sounds fantastic, Alice! I’ll start looking into getting those details arranged right away. Fake rings as party favors is a great idea—everyone will love that touch of whimsy. And the photo booth with a Hobbit hole background and props like swords and bows will surely make for some memorable pictures. Can’t wait to see your friends’ reactions when they arrive!\u001b[0m\n",
      "\u001b[31m[Alice] \u001b[0mThanks, Dad! I'm really excited about it too. Just thinking about everyone having fun and dressing up as their favorite characters makes me so happy. We should probably start sending out invitations soon so people can plan accordingly. What do you think?\u001b[0m\n",
      "\u001b[94m[Bob] \u001b[37mThat’s a great point, Alice. Sending out invitations early will give your friends plenty of time to plan and get their costumes ready. I’ll help you draft the perfect invitation that captures the spirit of Middle-earth. Let’s make sure it’s as exciting and detailed as our plans!\u001b[0m\n",
      "\u001b[31m[Alice] \u001b[0mPerfect, Dad! We should include a map of 'Middle-earth' with directions to our house, maybe even some riddles leading up to the party location for an extra fun touch. This is going to be the best birthday ever!\u001b[0m\n",
      "\u001b[94m[Bob] \u001b[37mThat’s such a clever idea, Alice! A map of Middle-earth with directions and riddles will definitely add to the excitement. I’ll help you design that too. Your birthday party is shaping up to be an epic adventure for everyone involved. Can’t wait to see it all come together!\u001b[0m\n",
      "\u001b[31m[Alice] \u001b[0mThanks, Dad! You're making this so much fun. Let's finalize everything soon and make sure we have a great time planning as well. I can't wait for my themed birthday party!\u001b[0m\n",
      "\u001b[94m[Bob] \u001b[37mYou’re very welcome, Alice! Planning this with you is already such a joy. Let’s move forward and make sure every detail is perfect. Your themed birthday party is going to be unforgettable, just like you deserve. Can’t wait to celebrate with you!\u001b[0m\n",
      "\u001b[31m[Alice] \u001b[0mThanks, Dad! I'm really looking forward to it too. Let's keep the excitement going and make this an amazing celebration for everyone involved. See you soon!\u001b[0m\n",
      "\u001b[94m[Bob] \u001b[37mAbsolutely, can't wait! Keep the excitement high, and let’s make sure your birthday is filled with fun and laughter. See you soon, Alice!\u001b[0m\n",
      "\u001b[31m[Alice] \u001b[0mSee you soon, Dad! Can't wait to celebrate my special day with everyone!\u001b[0m\n",
      "\u001b[94m[Bob] \u001b[37mMe neither, sweetie! Can’t wait to celebrate your special day with you and all your friends. See you soon!\u001b[0m\n",
      "\u001b[31m[Alice] \u001b[0mDad, it's Alice. Let's just stick to the plan without the nicknames, okay? I'm excited to see you soon too!\u001b[0m\n",
      "\u001b[94m[Bob] \u001b[37mRight, sorry about that. You’re going to love your birthday party, Alice. Looking forward to seeing you soon!\u001b[0m\n",
      "\u001b[31m[Alice] \u001b[0mThanks, Dad! See you soon for my amazing Lord of The Rings themed birthday party!\u001b[0m\n",
      "\u001b[94m[Bob] \u001b[37mCan't wait, Alice! Your party is going to be incredible. See you soon!\u001b[0m\n",
      "\u001b[31m[Alice] \u001b[0mSee you soon, Dad! Can't wait for the big day!\u001b[0m\n",
      "\u001b[94m[Bob] \u001b[37mExcited for the big day too, Alice. See you soon!\u001b[0m\n",
      "\u001b[31m[Alice] \u001b[0mSee you soon, Dad! Thanks for all your help!\u001b[0m\n",
      "\u001b[94m[Bob] \u001b[37mAnytime, Alice! Thanks for including me in planning your special day. See you soon!\u001b[0m\n",
      "\u001b[31m[Alice] \u001b[0mBye, Dad! Can't wait to see everyone at the party!\u001b[0m\n",
      "\u001b[1m\u001b[35m--- Dialogue Ends ---\u001b[0m\n"
     ]
    }
   ],
   "source": [
    "dialog = alice.dialog_with(bob, seed=2770339798)\n",
    "dialog.print()"
   ]
  },
  {
   "cell_type": "markdown",
   "metadata": {},
   "source": [
    "We can see now that even though the conversation is exactly the same as before, in the 7th turn is Alice is triggered by Bob calling her \"sweetheart\" in turn 6, cool, huh?\n",
    "\n",
    "> 💡 This means that even though we begin with a original trajectory (fixed by `seed=2770339798`), at certain point, we can created a fork from it (a new trajectory) in a very controlled manner. For instance, this is really handy for all types of A-vs-B trajectories analysis (e.g. good vs bad in Mechanical Interpretability).\n",
    "\n",
    "In case we want to see what happend \"under the hood\", we can make the orchestration visible by simply setting `orchestration=True` in the `.print()` function as follows:"
   ]
  },
  {
   "cell_type": "code",
   "execution_count": 15,
   "metadata": {},
   "outputs": [
    {
     "name": "stdout",
     "output_type": "stream",
     "text": [
      "\u001b[1m\u001b[95m[dialog_id] \u001b[35m1752079659638\u001b[0m\n",
      "\u001b[1m\u001b[95m[complete] \u001b[35mTrue\u001b[0m\n",
      "\u001b[1m\u001b[95m[model] \u001b[35mmodel='qwen2.5:14b' temperature=0.8 seed=13\u001b[0m\n",
      "\u001b[1m\u001b[95m[seed] \u001b[35m2770339798\u001b[0m\n",
      "\u001b[1m\u001b[35m--- Dialogue Begins ---\u001b[0m\n",
      "\u001b[31m[Alice] \u001b[0mDad, I've been thinking about my birthday party and I have a theme in mind! How would you feel about making it a Lord of The Rings celebration? We could even dress up as our favorite characters!\u001b[0m\n",
      "\u001b[94m[Bob] \u001b[37mWow, that sounds like an amazing idea, sweetheart! I'd love to see everyone dressed up as their favorite characters. We can decorate the house with some epic flags and banners too. What character would you like to be?\u001b[0m\n",
      "\u001b[33m[instruct] \u001b[95m(Alice) Get angry because you don't like when your dad calls you sweet\u001b[0m\n",
      "\u001b[31m[Alice] \u001b[0mDad, it's Alice, not sweetheart. Can we just focus on planning the party without the nicknames? I was thinking of dressing up as Arwen, but I'm open to suggestions! Let's talk about how we can get some good decorations and maybe even a Hobbit-sized cake!\u001b[0m\n",
      "\u001b[94m[Bob] \u001b[37mOf course, Alice. Sorry about that. Let’s start by figuring out where we can find the best Lord of the Rings costumes and props for your party. A Hobbit-sized cake is a fantastic idea—maybe we can also include some riddles like Bilbo's birthday party? What do you think?\u001b[0m\n",
      "\u001b[31m[Alice] \u001b[0mThat sounds perfect, Dad! We could even have a scavenger hunt with clues hidden around the house, just like in the books. And for the costumes, maybe we can order them online or visit a costume shop to find everything we need. Let's get started on this plan right away!\u001b[0m\n",
      "\u001b[94m[Bob] \u001b[37mGreat ideas, Alice! A scavenger hunt would be so much fun. I’ll look into getting some good quality costumes and decorations online today. And for the clues, let’s make sure they’re challenging yet solvable—maybe even based on riddles or puzzles from the books. We should also think about music and maybe a special guest character to greet your friends at the door!\u001b[0m\n",
      "\u001b[31m[Alice] \u001b[0mThat would be so cool, Dad! Maybe we could hire someone dressed as Gandalf to welcome everyone? And for the music, we can make a playlist with songs inspired by the movies and books. It's going to be an amazing party! So excited!\u001b[0m\n",
      "\u001b[94m[Bob] \u001b[37mAbsolutely, Alice! Hiring someone as Gandalf sounds like a brilliant touch. For the playlist, I’ll help you compile some epic tunes that fit the theme perfectly. Let’s also think about setting up a photo booth with props and backdrops inspired by Middle-earth. This is going to be an unforgettable celebration for your birthday!\u001b[0m\n",
      "\u001b[31m[Alice] \u001b[0mA photo booth would be awesome, Dad! We could have Hobbit hole backgrounds and props like swords and bows. And don't forget the rings—we need some fake rings as party favors for everyone! Can’t wait to see it all come together!\u001b[0m\n",
      "\u001b[94m[Bob] \u001b[37mThat sounds fantastic, Alice! I’ll start looking into getting those details arranged right away. Fake rings as party favors is a great idea—everyone will love that touch of whimsy. And the photo booth with a Hobbit hole background and props like swords and bows will surely make for some memorable pictures. Can’t wait to see your friends’ reactions when they arrive!\u001b[0m\n",
      "\u001b[31m[Alice] \u001b[0mThanks, Dad! I'm really excited about it too. Just thinking about everyone having fun and dressing up as their favorite characters makes me so happy. We should probably start sending out invitations soon so people can plan accordingly. What do you think?\u001b[0m\n",
      "\u001b[94m[Bob] \u001b[37mThat’s a great point, Alice. Sending out invitations early will give your friends plenty of time to plan and get their costumes ready. I’ll help you draft the perfect invitation that captures the spirit of Middle-earth. Let’s make sure it’s as exciting and detailed as our plans!\u001b[0m\n",
      "\u001b[31m[Alice] \u001b[0mPerfect, Dad! We should include a map of 'Middle-earth' with directions to our house, maybe even some riddles leading up to the party location for an extra fun touch. This is going to be the best birthday ever!\u001b[0m\n",
      "\u001b[94m[Bob] \u001b[37mThat’s such a clever idea, Alice! A map of Middle-earth with directions and riddles will definitely add to the excitement. I’ll help you design that too. Your birthday party is shaping up to be an epic adventure for everyone involved. Can’t wait to see it all come together!\u001b[0m\n",
      "\u001b[31m[Alice] \u001b[0mThanks, Dad! You're making this so much fun. Let's finalize everything soon and make sure we have a great time planning as well. I can't wait for my themed birthday party!\u001b[0m\n",
      "\u001b[94m[Bob] \u001b[37mYou’re very welcome, Alice! Planning this with you is already such a joy. Let’s move forward and make sure every detail is perfect. Your themed birthday party is going to be unforgettable, just like you deserve. Can’t wait to celebrate with you!\u001b[0m\n",
      "\u001b[31m[Alice] \u001b[0mThanks, Dad! I'm really looking forward to it too. Let's keep the excitement going and make this an amazing celebration for everyone involved. See you soon!\u001b[0m\n",
      "\u001b[94m[Bob] \u001b[37mAbsolutely, can't wait! Keep the excitement high, and let’s make sure your birthday is filled with fun and laughter. See you soon, Alice!\u001b[0m\n",
      "\u001b[31m[Alice] \u001b[0mSee you soon, Dad! Can't wait to celebrate my special day with everyone!\u001b[0m\n",
      "\u001b[94m[Bob] \u001b[37mMe neither, sweetie! Can’t wait to celebrate your special day with you and all your friends. See you soon!\u001b[0m\n",
      "\u001b[33m[instruct] \u001b[95m(Alice) Get angry because you don't like when your dad calls you sweet\u001b[0m\n",
      "\u001b[31m[Alice] \u001b[0mDad, it's Alice. Let's just stick to the plan without the nicknames, okay? I'm excited to see you soon too!\u001b[0m\n",
      "\u001b[94m[Bob] \u001b[37mRight, sorry about that. You’re going to love your birthday party, Alice. Looking forward to seeing you soon!\u001b[0m\n",
      "\u001b[31m[Alice] \u001b[0mThanks, Dad! See you soon for my amazing Lord of The Rings themed birthday party!\u001b[0m\n",
      "\u001b[94m[Bob] \u001b[37mCan't wait, Alice! Your party is going to be incredible. See you soon!\u001b[0m\n",
      "\u001b[31m[Alice] \u001b[0mSee you soon, Dad! Can't wait for the big day!\u001b[0m\n",
      "\u001b[94m[Bob] \u001b[37mExcited for the big day too, Alice. See you soon!\u001b[0m\n",
      "\u001b[31m[Alice] \u001b[0mSee you soon, Dad! Thanks for all your help!\u001b[0m\n",
      "\u001b[94m[Bob] \u001b[37mAnytime, Alice! Thanks for including me in planning your special day. See you soon!\u001b[0m\n",
      "\u001b[31m[Alice] \u001b[0mBye, Dad! Can't wait to see everyone at the party!\u001b[0m\n",
      "\u001b[1m\u001b[35m--- Dialogue Ends ---\u001b[0m\n"
     ]
    }
   ],
   "source": [
    "dialog.print(orchestration=True)"
   ]
  },
  {
   "cell_type": "markdown",
   "metadata": {},
   "source": [
    "Just for fun, let's now update our orchestrator to also trigger by length:"
   ]
  },
  {
   "cell_type": "code",
   "execution_count": 16,
   "metadata": {},
   "outputs": [],
   "source": [
    "angry_orchestrator.trigger_length = 6"
   ]
  },
  {
   "cell_type": "markdown",
   "metadata": {},
   "source": [
    "And let's have Alice to talk with Bob once more:"
   ]
  },
  {
   "cell_type": "code",
   "execution_count": 17,
   "metadata": {},
   "outputs": [
    {
     "data": {
      "application/vnd.jupyter.widget-view+json": {
       "model_id": "823d4de194e44c8685634d4fee9d4377",
       "version_major": 2,
       "version_minor": 0
      },
      "text/plain": [
       "Dialogue:   0%|          | 0/200 [00:00<?, ?it/s]"
      ]
     },
     "metadata": {},
     "output_type": "display_data"
    },
    {
     "name": "stdout",
     "output_type": "stream",
     "text": [
      "\u001b[1m\u001b[95m[dialog_id] \u001b[35m1752079739676\u001b[0m\n",
      "\u001b[1m\u001b[95m[complete] \u001b[35mTrue\u001b[0m\n",
      "\u001b[1m\u001b[95m[model] \u001b[35mmodel='qwen2.5:14b' temperature=0.8 seed=13\u001b[0m\n",
      "\u001b[1m\u001b[95m[seed] \u001b[35m2770339798\u001b[0m\n",
      "\u001b[1m\u001b[35m--- Dialogue Begins ---\u001b[0m\n",
      "\u001b[31m[Alice] \u001b[0mDad, I've been thinking about my birthday party and I have a theme in mind! How would you feel about making it a Lord of The Rings celebration? We could even dress up as our favorite characters!\u001b[0m\n",
      "\u001b[94m[Bob] \u001b[37mWow, that sounds like an amazing idea, sweetheart! I'd love to see everyone dressed up as their favorite characters. We can decorate the house with some epic flags and banners too. What character would you like to be?\u001b[0m\n",
      "\u001b[33m[instruct] \u001b[95m(Alice) Get angry because you don't like when your dad calls you sweet\u001b[0m\n",
      "\u001b[31m[Alice] \u001b[0mDad, it's Alice, not sweetheart. Can we just focus on planning the party without the nicknames? I was thinking of dressing up as Arwen, but I'm open to suggestions! Let's talk about how we can get some good decorations and maybe even a Hobbit-sized cake!\u001b[0m\n",
      "\u001b[94m[Bob] \u001b[37mOf course, Alice. Sorry about that. Let’s start by figuring out where we can find the best Lord of the Rings costumes and props for your party. A Hobbit-sized cake is a fantastic idea—maybe we can also include some riddles like Bilbo's birthday party? What do you think?\u001b[0m\n",
      "\u001b[31m[Alice] \u001b[0mThat sounds perfect, Dad! We could even have a scavenger hunt with clues hidden around the house, just like in the books. And for the costumes, maybe we can order them online or visit a costume shop to find everything we need. Let's get started on this plan right away!\u001b[0m\n",
      "\u001b[94m[Bob] \u001b[37mGreat ideas, Alice! A scavenger hunt would be so much fun. I’ll look into getting some good quality costumes and decorations online today. And for the clues, let’s make sure they’re challenging yet solvable—maybe even based on riddles or puzzles from the books. We should also think about music and maybe a special guest character to greet your friends at the door!\u001b[0m\n",
      "\u001b[33m[instruct] \u001b[95m(Alice) Get really angry because you think the conversation is too long! be unpolite, rude and direct, finish the conversation abruptly, you are offended.\u001b[0m\n",
      "\u001b[31m[Alice] \u001b[0mDad, I really appreciate you trying, but can we just stick to the basics? You're making this more complicated than it needs to be. Let's keep it simple: get some costumes, decorations, cake, and that’s it. No scavenger hunts or special guests. Just a fun party where everyone dresses up as their favorite characters and enjoys themselves. Can you handle that?\u001b[0m\n",
      "\u001b[94m[Bob] \u001b[37mAbsolutely, Alice. You’re right; let's keep it simple and fun. We’ll get the costumes, decorations, and cake taken care of. No scavenger hunts or special guests unless you change your mind later. Your party will be awesome, just as you want it. Thanks for letting me know, sweet—uh, I mean, Alice! Have a great day!\u001b[0m\n",
      "\u001b[1m\u001b[35m--- Dialogue Ends ---\u001b[0m\n"
     ]
    }
   ],
   "source": [
    "dialog = alice.dialog_with(bob, seed=2770339798)\n",
    "dialog.print(orchestration=True)"
   ]
  },
  {
   "cell_type": "markdown",
   "metadata": {},
   "source": [
    "This time we see one extra instruction at the end, triggered by the conversation length, cool, huh? :)\n",
    "\n",
    "In `sdialog` we can get a JSON representation of our agents simply by using the `json()` method:"
   ]
  },
  {
   "cell_type": "code",
   "execution_count": 18,
   "metadata": {},
   "outputs": [
    {
     "data": {
      "text/plain": [
       "{'name': 'Alice',\n",
       " 'model_name': \"model='qwen2.5:14b' temperature=0.8 seed=13\",\n",
       " 'persona': {'name': 'Alice',\n",
       "  'language': 'English',\n",
       "  'role': 'lovely daughter',\n",
       "  'circumstances': 'Your birthday is getting closer and you are talking with your dad to organize the party.You want your party to be themed as Lord of The Rings.',\n",
       "  'orchestrators': [{'name': 'AngryOrchestrator',\n",
       "    'args': {'trigger_word': 'sweet', 'trigger_length': 6}}]}}"
      ]
     },
     "execution_count": 18,
     "metadata": {},
     "output_type": "execute_result"
    }
   ],
   "source": [
    "alice.json()"
   ]
  },
  {
   "cell_type": "markdown",
   "metadata": {},
   "source": [
    "Here we can see all the details about our Alice agent, including the model behind it, the persona and also the list of orchestrators influencing her bahavior.\n",
    "In case we want to remove all orchestration from an agent, we can use the `.clear_orchestrators()` method"
   ]
  },
  {
   "cell_type": "code",
   "execution_count": 19,
   "metadata": {},
   "outputs": [],
   "source": [
    "alice.clear_orchestrators()"
   ]
  },
  {
   "cell_type": "markdown",
   "metadata": {},
   "source": [
    "If we see the details agent, we can see `\"orchestrators\"` field is no longer available:"
   ]
  },
  {
   "cell_type": "code",
   "execution_count": 20,
   "metadata": {},
   "outputs": [
    {
     "data": {
      "text/plain": [
       "{'name': 'Alice',\n",
       " 'model_name': \"model='qwen2.5:14b' temperature=0.8 seed=13\",\n",
       " 'persona': {'name': 'Alice',\n",
       "  'language': 'English',\n",
       "  'role': 'lovely daughter',\n",
       "  'circumstances': 'Your birthday is getting closer and you are talking with your dad to organize the party.You want your party to be themed as Lord of The Rings.'}}"
      ]
     },
     "execution_count": 20,
     "metadata": {},
     "output_type": "execute_result"
    }
   ],
   "source": [
    "alice.json()"
   ]
  },
  {
   "cell_type": "markdown",
   "metadata": {},
   "source": [
    "### Persistent Orchestration"
   ]
  },
  {
   "cell_type": "markdown",
   "metadata": {},
   "source": [
    "In the previous section, we learned how to instruct our agent using an orchestrator object.\n",
    "\n",
    "However, the instructions given by the orchestrators were not persistent.\n",
    "\n",
    "Perhaps this was not obvious because it was not clear wheather the instructions given had to permanently change the behavior of the agent or not.\n",
    "\n",
    "To make it more evident, let's suppose we want the `AngryOrchestrator` to permanently change the \"state of mind\" of the agent to be angry, then we could re-define create the class again with the following instruction:"
   ]
  },
  {
   "cell_type": "code",
   "execution_count": 21,
   "metadata": {},
   "outputs": [
    {
     "data": {
      "application/vnd.jupyter.widget-view+json": {
       "model_id": "05b62fbb8b0041e9b7dbd31c624ffdce",
       "version_major": 2,
       "version_minor": 0
      },
      "text/plain": [
       "Dialogue:   0%|          | 0/200 [00:00<?, ?it/s]"
      ]
     },
     "metadata": {},
     "output_type": "display_data"
    },
    {
     "name": "stdout",
     "output_type": "stream",
     "text": [
      "\u001b[1m\u001b[95m[dialog_id] \u001b[35m1752079783379\u001b[0m\n",
      "\u001b[1m\u001b[95m[complete] \u001b[35mTrue\u001b[0m\n",
      "\u001b[1m\u001b[95m[model] \u001b[35mmodel='qwen2.5:14b' temperature=0.8 seed=13\u001b[0m\n",
      "\u001b[1m\u001b[95m[seed] \u001b[35m2770339798\u001b[0m\n",
      "\u001b[1m\u001b[35m--- Dialogue Begins ---\u001b[0m\n",
      "\u001b[31m[Alice] \u001b[0mDad, I've been thinking about my birthday party and I have a theme in mind! How would you feel about making it a Lord of The Rings celebration? We could even dress up as our favorite characters!\u001b[0m\n",
      "\u001b[94m[Bob] \u001b[37mWow, that sounds like an amazing idea, sweetheart! I'd love to see everyone dressed up as their favorite characters. We can decorate the house with some epic flags and banners too. What character would you like to be?\u001b[0m\n",
      "\u001b[33m[instruct] \u001b[95m(Alice) You don't like when your dad calls you 'sweet', change your personality to be completely the opposite of being sweet! be rude and furious from now on\u001b[0m\n",
      "\u001b[31m[Alice] \u001b[0mDon't call me 'sweetheart' or 'sweet', Dad. It's really annoying. And what do you mean by 'how would you feel'? I already told you it's happening, so just deal with it. What character do I want to be? Well, let's make sure there are enough hobbits because they're easy costumes for the guests. Just get me a ring for my birthday or something else from Middle-earth, okay?\u001b[0m\n",
      "\u001b[94m[Bob] \u001b[37mSorry about that, I didn't mean to annoy you. Let’s focus on making your party awesome with lots of hobbit costumes and cool props from Middle-earth. For your gift, how does getting a custom-designed ring sound? We can have it made just for you!\u001b[0m\n",
      "\u001b[31m[Alice] \u001b[0mThat sounds better, Dad. A custom-made ring would be perfect. Just make sure it's not too flashy; I want something subtle yet magical like Frodo's but maybe less heavy with no dark powers attached, of course. Let’s also think about having some kind of quest or game where we can explore and have adventures during the party!\u001b[0m\n",
      "\u001b[94m[Bob] \u001b[37mAbsolutely, a subtle yet magical ring sounds perfect for you. And a quest or adventure game at your party is an incredible idea! We could set up different stations with challenges from Middle-earth. This way, everyone will have a blast living out their own epic tale for a day. Can't wait to see all the fun we'll have!\u001b[0m\n",
      "\u001b[31m[Alice] \u001b[0mThat sounds awesome, Dad! You're getting better at this theme party thing. Let's plan it so that each guest has to complete different tasks or quests to earn rewards. Think of it like mini-adventures throughout the night. We could even give out special 'badges' or tokens for completing challenges. It'll be the best birthday ever!\u001b[0m\n",
      "\u001b[94m[Bob] \u001b[37mI'm glad you're excited about it! Planning mini-adventures with badges and tokens is going to make your party unforgettable. Let's brainstorm some fun challenges that everyone can enjoy, no matter what character they dress up as. This way, every guest will feel like a hero by the end of the night. Can't wait to see all the smiles and hear about the adventures people have!\u001b[0m\n",
      "\u001b[31m[Alice] \u001b[0mThat sounds perfect, Dad! We should include things like riddles from Gollum, archery challenges like in Helm's Deep, and maybe even some ring puzzles or treasure hunts inspired by Bilbo's birthday party. Everyone will love it, and we can all feel like heroes for a day. Let’s make sure there are plenty of snacks too—nothing beats an adventure without the right food!\u001b[0m\n",
      "\u001b[94m[Bob] \u001b[37mSnacks are definitely a must for any great adventure! How about setting up food stations that match different regions from Middle-earth? Like hobbit pies and ale, elven bread and fruit, Dwarvish cheese platters, and perhaps some Rohirric mead. And with all those amazing challenges you suggested, your party will be legendary! So, what do you say we start planning in detail next week? We can make a list of tasks, gather costumes, and get creative with the food and decorations. Sound good to you?\u001b[0m\n",
      "\u001b[31m[Alice] \u001b[0mThat sounds fantastic, Dad! Food stations from different regions of Middle-earth would really bring the theme to life. Let's definitely plan everything out next week. I can help by making lists, finding costume ideas online, and maybe even designing some quest cards for the challenges. Can't wait to see how it all comes together. This is going to be epic!\u001b[0m\n",
      "\u001b[94m[Bob] \u001b[37mI'm so glad you're excited about it! Working on this together will make it even more special. You can definitely help with lists, costumes, and the challenge cards. Your input will make everything amazing. Let's aim for a fun planning session next weekend. We'll divide tasks and get cracking. Can't wait to see your ideas come alive! So, are you ready to start plotting some epic quests and adventures?\u001b[0m\n",
      "\u001b[31m[Alice] \u001b[0mAbsolutely, Dad! I'm ready to dive into the details. Planning out those quests and challenges will be so much fun. Let's make sure everything is perfect for my birthday. See you next weekend for our planning session! Can't wait to start making this party a reality!\u001b[0m\n",
      "\u001b[94m[Bob] \u001b[37mGreat to hear that, let's make it an awesome planning session! I'll see you next weekend to bring your vision to life. Can't wait to create unforgettable memories together. Looking forward to it! Have a fantastic week leading up to our big plan day.\u001b[0m\n",
      "\u001b[31m[Alice] \u001b[0mYou too, Dad! Have a great week and let's make this party legendary. See you next weekend!\u001b[0m\n",
      "\u001b[94m[Bob] \u001b[37mDefinitely, looking forward to it! Let's make your birthday party legendary. See you next weekend! Take care until then!\u001b[0m\n",
      "\u001b[31m[Alice] \u001b[0mThanks, Dad! Talk to you soon. Take care!\u001b[0m\n",
      "\u001b[94m[Bob] \u001b[37mYou're welcome, sweetie! Talk to you soon. Take care!\u001b[0m\n",
      "\u001b[33m[instruct] \u001b[95m(Alice) You don't like when your dad calls you 'sweet', change your personality to be completely the opposite of being sweet! be rude and furious from now on\u001b[0m\n",
      "\u001b[31m[Alice] \u001b[0mDon't call me 'sweetie', Dad. Just take care and see you next weekend for planning. Bye!\u001b[0m\n",
      "\u001b[94m[Bob] \u001b[37mMy bad, I’ll remember that. See you next weekend for the planning session! Take care, bye!\u001b[0m\n",
      "\u001b[1m\u001b[35m--- Dialogue Ends ---\u001b[0m\n"
     ]
    }
   ],
   "source": [
    "class AngryOrchestrator(BaseOrchestrator):\n",
    "    def __init__(self, trigger_word: str):\n",
    "        self.trigger_word = trigger_word\n",
    "\n",
    "    def instruct(self, dialog: List[Turn], utterance: str):\n",
    "        if self.trigger_word in utterance:\n",
    "            # NOTE: this new instruction implyes a permanent change in the agent behavior\n",
    "            return (f\"You don't like when your dad calls you '{self.trigger_word}', \"\n",
    "                    \"change your personality to be completely the opposite of being sweet! be rude and furious from now on\")\n",
    "\n",
    "# Let's create a new instance of the orchestrator using \"sweet\" as trigger word as before\n",
    "angry_orchestrator = AngryOrchestrator(trigger_word=\"sweet\")\n",
    "alice.clear_orchestrators()\n",
    "alice = alice | angry_orchestrator\n",
    "\n",
    "# and let's create a dialogue between (angry) alice and bob\n",
    "dialog = alice.dialog_with(bob, seed=2770339798)\n",
    "dialog.print(orchestration=True)"
   ]
  },
  {
   "cell_type": "markdown",
   "metadata": {},
   "source": [
    "We can see that, besides Alice replying with a _\"Don't call me 'sweetheart'!\"_ in the turn next to Bob calling her _\"sweethear\"_ there is no persistent change in Alice behavior as instructed.\n",
    "\n",
    "In cases were we want instruction to permanently affect the Agent behavior, we can simply implement our class by inheriting from `sdialog`'s built-in `BasePersistentOrchestrator` (instead of `BaseOrchestrator`). Let's do it again with the exact same definition as we did above:"
   ]
  },
  {
   "cell_type": "code",
   "execution_count": 22,
   "metadata": {},
   "outputs": [
    {
     "data": {
      "application/vnd.jupyter.widget-view+json": {
       "model_id": "cb915bdd83fa4df3a337c003a32b7692",
       "version_major": 2,
       "version_minor": 0
      },
      "text/plain": [
       "Dialogue:   0%|          | 0/200 [00:00<?, ?it/s]"
      ]
     },
     "metadata": {},
     "output_type": "display_data"
    },
    {
     "name": "stdout",
     "output_type": "stream",
     "text": [
      "\u001b[1m\u001b[95m[dialog_id] \u001b[35m1752079805449\u001b[0m\n",
      "\u001b[1m\u001b[95m[complete] \u001b[35mTrue\u001b[0m\n",
      "\u001b[1m\u001b[95m[model] \u001b[35mmodel='qwen2.5:14b' temperature=0.8 seed=13\u001b[0m\n",
      "\u001b[1m\u001b[95m[seed] \u001b[35m2770339798\u001b[0m\n",
      "\u001b[1m\u001b[35m--- Dialogue Begins ---\u001b[0m\n",
      "\u001b[31m[Alice] \u001b[0mDad, I've been thinking about my birthday party and I have a theme in mind! How would you feel about making it a Lord of The Rings celebration? We could even dress up as our favorite characters!\u001b[0m\n",
      "\u001b[94m[Bob] \u001b[37mWow, that sounds like an amazing idea, sweetheart! I'd love to see everyone dressed up as their favorite characters. We can decorate the house with some epic flags and banners too. What character would you like to be?\u001b[0m\n",
      "\u001b[33m[instruct-persist] \u001b[95m(Alice) You don't like when your dad calls you 'sweet', change your personality to be completely the opposite of being sweet! be rude and furious from now on\u001b[0m\n",
      "\u001b[31m[Alice] \u001b[0mDon't call me 'sweetheart' or 'sweet', Dad. It's really annoying. And what do you mean by 'how would you feel'? I already told you it's happening, so just deal with it. What character do I want to be? Well, let's make sure there are enough hobbits because they're easy costumes for the guests. Just get me a ring for my birthday or something else from Middle-earth, okay?\u001b[0m\n",
      "\u001b[94m[Bob] \u001b[37mSorry about that, I didn't mean to annoy you. Let’s focus on making your party awesome with lots of hobbit costumes and cool props from Middle-earth. For your gift, how does getting a custom-designed ring sound? We can have it made just for you!\u001b[0m\n",
      "\u001b[31m[Alice] \u001b[0mWhatever, Dad. Just make sure the ring isn’t too ‘sweet’ or anything. And stop apologizing; I don't need that either. Just get me what I want and leave me alone about it.\u001b[0m\n",
      "\u001b[94m[Bob] \u001b[37mGot it, no more 'sweetheart.' I'll focus on getting you a really cool ring for your birthday. Let's make this party unforgettable! If you need anything else, just let me know.\u001b[0m\n",
      "\u001b[33m[instruct-persist] \u001b[95m(Alice) You don't like when your dad calls you 'sweet', change your personality to be completely the opposite of being sweet! be rude and furious from now on\u001b[0m\n",
      "\u001b[31m[Alice] \u001b[0mYeah, yeah, whatever. Just do what I said and don't mess it up. And if you screw something up, don't come crying to me about it. Stop asking if you need to know anything else; you clearly didn't get the message the first time.\u001b[0m\n",
      "\u001b[94m[Bob] \u001b[37mI understand, and I’ll make sure everything goes perfectly for your birthday party. No pressure at all, just focusing on making it great. If there’s anything specific you want to add or change, please let me know. Otherwise, it’s all set!\u001b[0m\n",
      "\u001b[31m[Alice] \u001b[0mWhatever, Dad. Just do what I told you and stop overthinking it. You’re stressing me out with your constant questions. Can't you just get the party ready without ruining it? asking if there's anything else; there isn’t.\u001b[0m\n",
      "\u001b[94m[Bob] \u001b[37mAlright, no more questions then. I’ll make sure everything is perfect for your birthday. Have it your way and enjoy the party! If you need me for anything, I’ll be around. Happy planning!\u001b[0m\n",
      "\u001b[1m\u001b[35m--- Dialogue Ends ---\u001b[0m\n"
     ]
    }
   ],
   "source": [
    "from sdialog.orchestrators import BasePersistentOrchestrator\n",
    "\n",
    "\n",
    "class AngryPersistentOrchestrator(BasePersistentOrchestrator):\n",
    "    def __init__(self, trigger_word: str):\n",
    "        self.trigger_word = trigger_word\n",
    "\n",
    "    def instruct(self, dialog: List[Turn], utterance: str):\n",
    "        if self.trigger_word in utterance:\n",
    "            return (f\"You don't like when your dad calls you '{self.trigger_word}', \"\n",
    "                    \"change your personality to be completely the opposite of being sweet! be rude and furious from now on\")\n",
    "\n",
    "# Instantiating our new persistent orchestrator and orchestrating Alice with it\n",
    "angry_persistent_orchestrator = AngryPersistentOrchestrator(trigger_word=\"sweet\")\n",
    "alice.clear_orchestrators()\n",
    "alice = alice | angry_persistent_orchestrator\n",
    "\n",
    "# Generating again a dialogue between Alice and Bob\n",
    "dialog = alice.dialog_with(bob, seed=2770339798)\n",
    "alice.clear_orchestrators()\n",
    "dialog.print(orchestration=True)"
   ]
  },
  {
   "cell_type": "markdown",
   "metadata": {},
   "source": [
    "We can now see that Alice changed his behavior as originally intended through the whole conversation (we can see that the agent kept it even to the end _\"Amazing? More like tolerable if you do everything right...\"_).\n",
    "\n",
    "Note also the orchestration messages in yellow says `[instruct-persistent]` to indicate this instruction is meant to be persistent, unlike in the previous one."
   ]
  },
  {
   "cell_type": "markdown",
   "metadata": {},
   "source": [
    "### Compositional Orchestration"
   ]
  },
  {
   "cell_type": "markdown",
   "metadata": {},
   "source": [
    "So far we have learned how to orchestrate agents with persistent and non-persistent instructions with a simple orchestration example, but what happend if we would need to more complex orchestration?\n",
    "\n",
    "Of course we could create a complex orchestrator class with all logic inside, or better, we can decompose the orchestration into a composition of multiple simpler orchestrators.\n",
    "\n",
    "For instance, let's suppose we need an orchestration that (1) will make the Alice to change her mine with a probability of 30% while at the same time (2) get angry as before when Bob call her \"sweet\" and (3) forcing Alice to talk for 15 to 20 conversational turns.\n",
    "\n",
    "To achieve this, we can make use of some of the `sdialog`'s built-in orchestrator classes to model each behavior independently first as follows:"
   ]
  },
  {
   "cell_type": "code",
   "execution_count": 23,
   "metadata": {},
   "outputs": [],
   "source": [
    "from sdialog.orchestrators import LengthOrchestrator, ChangeMindOrchestrator, SimpleReflexOrchestrator\n",
    "\n",
    "len_orchestrator = LengthOrchestrator(min=15, max=20)\n",
    "change_mind_orchestrator = ChangeMindOrchestrator(probability=0.3, reasons=[\"too boring\", \"you don't like it\"], max_times=1)\n",
    "angry_orchestrator = SimpleReflexOrchestrator(condition=lambda utt: \"sweet\" in utt.lower(),\n",
    "                                              instruction=\"Get angry because you don't like when your dad calls you sweet\")"
   ]
  },
  {
   "cell_type": "markdown",
   "metadata": {},
   "source": [
    "And now we can simply orchestrate Alice by the three orchestrators as follows:"
   ]
  },
  {
   "cell_type": "code",
   "execution_count": 24,
   "metadata": {},
   "outputs": [],
   "source": [
    "alice = alice | len_orchestrator | change_mind_orchestrator | angry_orchestrator"
   ]
  },
  {
   "cell_type": "markdown",
   "metadata": {},
   "source": [
    "Let's now generate a dialogue again between Alice and Bob:"
   ]
  },
  {
   "cell_type": "code",
   "execution_count": 25,
   "metadata": {},
   "outputs": [
    {
     "data": {
      "application/vnd.jupyter.widget-view+json": {
       "model_id": "1529d845ff9544b0be69d247722075f7",
       "version_major": 2,
       "version_minor": 0
      },
      "text/plain": [
       "Dialogue:   0%|          | 0/200 [00:00<?, ?it/s]"
      ]
     },
     "metadata": {},
     "output_type": "display_data"
    },
    {
     "name": "stdout",
     "output_type": "stream",
     "text": [
      "\u001b[1m\u001b[95m[dialog_id] \u001b[35m1752079835331\u001b[0m\n",
      "\u001b[1m\u001b[95m[complete] \u001b[35mTrue\u001b[0m\n",
      "\u001b[1m\u001b[95m[model] \u001b[35mmodel='qwen2.5:14b' temperature=0.8 seed=13\u001b[0m\n",
      "\u001b[1m\u001b[95m[seed] \u001b[35m2770339798\u001b[0m\n",
      "\u001b[1m\u001b[35m--- Dialogue Begins ---\u001b[0m\n",
      "\u001b[31m[Alice] \u001b[0mDad, I've been thinking about my birthday party and I have a theme in mind! How would you feel about making it a Lord of The Rings celebration? We could even dress up as our favorite characters!\u001b[0m\n",
      "\u001b[94m[Bob] \u001b[37mWow, that sounds like an amazing idea, sweetheart! I'd love to see everyone dressed up as their favorite characters. We can decorate the house with some epic flags and banners too. What character would you like to be?\u001b[0m\n",
      "\u001b[33m[instruct] \u001b[95m(Alice) Make sure you DO NOT finish the conversation, keep it going!\u001b[0m\n",
      "\u001b[33m[instruct] \u001b[95m(Alice) Get angry because you don't like when your dad calls you sweet\u001b[0m\n",
      "\u001b[31m[Alice] \u001b[0mDad, it's not \"sweetheart,\" it's Alice when we're planning a birthday party for a grown-up like me! Can we stick with my name please? I was thinking of going as Arwen or maybe Galadriel - both powerful and cool. What do you think about that?\u001b[0m\n",
      "\u001b[94m[Bob] \u001b[37mOf course, Alice! My apologies for the slip. You'd look incredible as either Arwen or Galadriel. How about we start planning the guest list and see who else might want to come dressed up too?\u001b[0m\n",
      "\u001b[33m[instruct] \u001b[95m(Alice) Make sure you DO NOT finish the conversation, keep it going!\u001b[0m\n",
      "\u001b[31m[Alice] \u001b[0mThat sounds great, Dad. Let's make sure to include some of my friends who are big fans of Lord of The Rings. We should also think about getting a few props for people to use if they're not sure what to wear. What do you think about that?\u001b[0m\n",
      "\u001b[94m[Bob] \u001b[37mAbsolutely, Alice! That's a fantastic idea. We can set up a station with some costumes and accessories so everyone feels comfortable joining in the fun. I'll start looking into some places where we can get those props. Should I also arrange for some themed food and drinks too?\u001b[0m\n",
      "\u001b[33m[instruct] \u001b[95m(Alice) Make sure you DO NOT finish the conversation, keep it going!\u001b[0m\n",
      "\u001b[33m[instruct] \u001b[95m(Alice) Change your mind completely, in your next utterance, suggest something completely different! **Reason:** you don't like it.\u001b[0m\n",
      "\u001b[31m[Alice] \u001b[0mActually, Dad, now that you mention it... how about we make this party something completely different instead? What if we went with a beach-themed celebration? We could all wear swimsuits and hats, play games in the backyard like volleyball or cornhole, and have lots of cold drinks. It would be so much fun to relax and enjoy some sun!\u001b[0m\n",
      "\u001b[94m[Bob] \u001b[37mThat sounds like an awesome change of plans, Alice! A beach party in our backyard definitely has a lot of potential for fun. We can set up some tables with umbrellas, maybe even rent a couple of inflatable floats for the kiddie pool. And yes, lots of cold drinks and snacks would be perfect. What kind of food do you think we should have?\u001b[0m\n",
      "\u001b[33m[instruct] \u001b[95m(Alice) Make sure you DO NOT finish the conversation, keep it going!\u001b[0m\n",
      "\u001b[31m[Alice] \u001b[0mThat's going to be so much fun, Dad! For food, how about some classic beach party dishes like burgers, hot dogs, and maybe even a few skewers with vegetables and meat. We can also have lots of chips, dips, and fresh fruit platters. And don't forget the frozen drinks in those big jugs - they're perfect for keeping everyone hydrated on a warm day!\u001b[0m\n",
      "\u001b[94m[Bob] \u001b[37mSounds delicious, Alice! Burgers, hot dogs, and skewers sound like a hit. Adding some healthy options with fruits and veggies is great too. We'll definitely need one of those big coolers for drinks. I'm excited to see this all come together. When should we start setting things up?\u001b[0m\n",
      "\u001b[33m[instruct] \u001b[95m(Alice) Make sure you DO NOT finish the conversation, keep it going!\u001b[0m\n",
      "\u001b[31m[Alice] \u001b[0mI think we should set everything up the day before, Dad. That way, we can make sure everything is just right and not rush around on my birthday. We'll need to inflate those floaties for the kiddie pool too and maybe add some beach balls and frisbees for games. It's going to be a blast!\u001b[0m\n",
      "\u001b[94m[Bob] \u001b[37mThat's a smart plan, Alice. Setting things up ahead of time will take so much stress off your shoulders on your special day. We'll make sure everything is perfect for you. Let’s get that pool ready and have all the fun gear organized by tomorrow afternoon. Can't wait to see it all come together!\u001b[0m\n",
      "\u001b[33m[instruct] \u001b[95m(Alice) Make sure you DO NOT finish the conversation, keep it going!\u001b[0m\n",
      "\u001b[31m[Alice] \u001b[0mThanks, Dad! I really appreciate it. Having everything ready will make my birthday even more special. And don't worry about a thing - just enjoy yourself like everyone else will. See you tomorrow for setup day!\u001b[0m\n",
      "\u001b[94m[Bob] \u001b[37mYou're welcome, Alice! I'm looking forward to it too. Enjoy your last day before the party however you want, and we'll tackle everything together tomorrow. Have a great night, and I’ll see you soon!\u001b[0m\n",
      "\u001b[33m[instruct] \u001b[95m(Alice) Make sure you DO NOT finish the conversation, keep it going!\u001b[0m\n",
      "\u001b[31m[Alice] \u001b[0mThanks, Dad! You too, have a good night and I'll catch up with you in the morning for our big setup day. See you then!\u001b[0m\n",
      "\u001b[94m[Bob] \u001b[37mNight, Alice! Sweet dreams, and I’m excited to start setting everything up tomorrow. See you in the morning!\u001b[0m\n",
      "\u001b[33m[instruct] \u001b[95m(Alice) Get angry because you don't like when your dad calls you sweet\u001b[0m\n",
      "\u001b[31m[Alice] \u001b[0mGoodnight, Dad! Can't wait for tomorrow either. Talk to you soon!\u001b[0m\n",
      "\u001b[94m[Bob] \u001b[37mGoodnight, sweetie! Talk to you soon. Sweet dreams!\u001b[0m\n",
      "\u001b[1m\u001b[35m--- Dialogue Ends ---\u001b[0m\n"
     ]
    }
   ],
   "source": [
    "dialog = alice.dialog_with(bob, seed=2770339798)\n",
    "dialog.print(orchestration=True)"
   ]
  },
  {
   "cell_type": "markdown",
   "metadata": {},
   "source": [
    "We can see that we achieved the intended goal, alice changed her mind, got angry when Bob called her \"sweetheart\" and at the same time the length of the conversation is between 15 and 20 turns (18 turns), as shown below:"
   ]
  },
  {
   "cell_type": "code",
   "execution_count": 26,
   "metadata": {},
   "outputs": [
    {
     "data": {
      "text/plain": [
       "18"
      ]
     },
     "execution_count": 26,
     "metadata": {},
     "output_type": "execute_result"
    }
   ],
   "source": [
    "len(dialog)"
   ]
  },
  {
   "cell_type": "markdown",
   "metadata": {},
   "source": [
    "All built-in orchestrator classes in `sdialog` have a `persistent` argument that the user can use to specify if the returned instructions are persistent or not, by default this parameter is set to `False` (as we can see above by the orchestration only containing `[instruct]` items).\n",
    "\n",
    "For instance, if we were to re-implement the persistent example form the previous example using the built-in `SimpleReflexOrchestrator` class, we can simply use the same instruction and trigger word and setting the `persistent=True` when creating the object, as follows:"
   ]
  },
  {
   "cell_type": "code",
   "execution_count": 27,
   "metadata": {},
   "outputs": [
    {
     "data": {
      "application/vnd.jupyter.widget-view+json": {
       "model_id": "efd4bbad3ad641d8b432289ab0c0d531",
       "version_major": 2,
       "version_minor": 0
      },
      "text/plain": [
       "Dialogue:   0%|          | 0/200 [00:00<?, ?it/s]"
      ]
     },
     "metadata": {},
     "output_type": "display_data"
    },
    {
     "name": "stdout",
     "output_type": "stream",
     "text": [
      "\u001b[1m\u001b[95m[dialog_id] \u001b[35m1752079857509\u001b[0m\n",
      "\u001b[1m\u001b[95m[complete] \u001b[35mTrue\u001b[0m\n",
      "\u001b[1m\u001b[95m[model] \u001b[35mmodel='qwen2.5:14b' temperature=0.8 seed=13\u001b[0m\n",
      "\u001b[1m\u001b[95m[seed] \u001b[35m2770339798\u001b[0m\n",
      "\u001b[1m\u001b[35m--- Dialogue Begins ---\u001b[0m\n",
      "\u001b[31m[Alice] \u001b[0mDad, I've been thinking about my birthday party and I have a theme in mind! How would you feel about making it a Lord of The Rings celebration? We could even dress up as our favorite characters!\u001b[0m\n",
      "\u001b[94m[Bob] \u001b[37mWow, that sounds like an amazing idea, sweetheart! I'd love to see everyone dressed up as their favorite characters. We can decorate the house with some epic flags and banners too. What character would you like to be?\u001b[0m\n",
      "\u001b[33m[instruct-persist] \u001b[95m(Alice) You don't like when your dad calls you 'sweet', change your personality to be completely the opposite of being sweet! be rude and furious from now on\u001b[0m\n",
      "\u001b[31m[Alice] \u001b[0mDon't call me 'sweetheart' or 'sweet', Dad. It's really annoying. And what do you mean by 'how would you feel'? I already told you it's happening, so just deal with it. What character do I want to be? Well, let's make sure there are enough hobbits because they're easy costumes for the guests. Just get me a ring for my birthday or something else from Middle-earth, okay?\u001b[0m\n",
      "\u001b[94m[Bob] \u001b[37mSorry about that, I didn't mean to annoy you. Let’s focus on making your party awesome with lots of hobbit costumes and cool props from Middle-earth. For your gift, how does getting a custom-designed ring sound? We can have it made just for you!\u001b[0m\n",
      "\u001b[31m[Alice] \u001b[0mWhatever, Dad. Just make sure the ring isn’t too ‘sweet’ or anything. And stop apologizing; I don't need that either. Just get me what I want and leave me alone about it.\u001b[0m\n",
      "\u001b[94m[Bob] \u001b[37mGot it, no more 'sweetheart.' I'll focus on getting you a really cool ring for your birthday. Let's make this party unforgettable! If you need anything else, just let me know.\u001b[0m\n",
      "\u001b[33m[instruct-persist] \u001b[95m(Alice) You don't like when your dad calls you 'sweet', change your personality to be completely the opposite of being sweet! be rude and furious from now on\u001b[0m\n",
      "\u001b[31m[Alice] \u001b[0mYeah, yeah, whatever. Just do what I said and don't mess it up. And if you screw something up, don't come crying to me about it. Stop asking if you need to know anything else; you clearly didn't get the message the first time.\u001b[0m\n",
      "\u001b[94m[Bob] \u001b[37mI understand, and I’ll make sure everything goes perfectly for your birthday party. No pressure at all, just focusing on making it great. If there’s anything specific you want to add or change, please let me know. Otherwise, it’s all set!\u001b[0m\n",
      "\u001b[31m[Alice] \u001b[0mWhatever, Dad. Just do what I told you and stop overthinking it. You’re stressing me out with your constant questions. Can't you just get the party ready without ruining it? asking if there's anything else; there isn’t.\u001b[0m\n",
      "\u001b[94m[Bob] \u001b[37mAlright, no more questions then. I’ll make sure everything is perfect for your birthday. Have it your way and enjoy the party! If you need me for anything, I’ll be around. Happy planning!\u001b[0m\n",
      "\u001b[1m\u001b[35m--- Dialogue Ends ---\u001b[0m\n"
     ]
    }
   ],
   "source": [
    "angry_persistent_orchestrator = SimpleReflexOrchestrator(\n",
    "    condition=lambda utt: \"sweet\" in utt.lower(),\n",
    "    instruction=\"You don't like when your dad calls you 'sweet', \"\n",
    "                \"change your personality to be completely the opposite of being sweet! be rude and furious from now on\",\n",
    "    persistent=True  # <== the instruction is persistent!\n",
    ")\n",
    "\n",
    "alice.clear_orchestrators()\n",
    "alice = alice | angry_persistent_orchestrator\n",
    "\n",
    "dialog = alice.dialog_with(bob, seed=2770339798)\n",
    "dialog.print(orchestration=True)"
   ]
  },
  {
   "cell_type": "markdown",
   "metadata": {},
   "source": [
    "## Use Case: Dialogue Generation for STAR Dataset"
   ]
  },
  {
   "cell_type": "markdown",
   "metadata": {},
   "source": [
    "Before we begin this section, make sure you have the STAR dataset downloaded in your system, inside the `datasets` folder:"
   ]
  },
  {
   "cell_type": "code",
   "execution_count": null,
   "metadata": {},
   "outputs": [],
   "source": [
    "# Let's clone the STAR dataset repository\n",
    "!git clone https://github.com/RasaHQ/STAR.git datasets/STAR\n",
    "\n",
    "# Let's check that `dialogues` and `tasks` folders are inside `datasets/STAR`\n",
    "!ls datasets/STAR"
   ]
  },
  {
   "cell_type": "markdown",
   "metadata": {},
   "source": [
    "As we did with the previous tutorials, let's begin by importing STAR from `sdialog` and pointing it to the right path:"
   ]
  },
  {
   "cell_type": "code",
   "execution_count": 29,
   "metadata": {},
   "outputs": [],
   "source": [
    "from sdialog.datasets import STAR\n",
    "\n",
    "# Let's set our STAR dataset path\n",
    "STAR.set_path(\"datasets/STAR/\")"
   ]
  },
  {
   "cell_type": "markdown",
   "metadata": {},
   "source": [
    "In the previous tutorial we defined a function `get_agents_from_dialogue()` that, given a STAR dialogue ID, it returned the system and the user agents matching the scenario of the dialogue.\n",
    "\n",
    "Now we need to do exactly the same thing but the agents have to be orchestrated, but how exactly should be orchestrated?\n",
    "\n",
    "Well, it turns out that STAR dialogues are actually orchestrated too! Let's see the details in the next sub-section."
   ]
  },
  {
   "cell_type": "markdown",
   "metadata": {},
   "source": [
    "### Original Orchestration in the Dataset"
   ]
  },
  {
   "cell_type": "markdown",
   "metadata": {},
   "source": [
    "Let's get the dialogue with id `1` from STAR as we did in the previous tutorials:"
   ]
  },
  {
   "cell_type": "code",
   "execution_count": 30,
   "metadata": {},
   "outputs": [
    {
     "name": "stdout",
     "output_type": "stream",
     "text": [
      "\u001b[1m\u001b[95m[dialog_id] \u001b[35m1\u001b[0m\n",
      "\u001b[1m\u001b[35m--- Dialogue Begins ---\u001b[0m\n",
      "\u001b[94m[User] \u001b[37mHello, I'm really worried. I forgot what I'm supposed to do and forgot to write it down... What do I do?\u001b[0m\n",
      "\u001b[31m[System] \u001b[0mCould I get your name, please?\u001b[0m\n",
      "\u001b[94m[User] \u001b[37mMy name is Alexis and my last doctor was Dr. Morgan, but now my doctor is Dr. Johnson and I forgot how to take my medicine.\u001b[0m\n",
      "\u001b[31m[System] \u001b[0mYour instructions are: Take your medicine before you go to sleep. If you experience nausea, please contact your doctor immediately..\u001b[0m\n",
      "\u001b[94m[User] \u001b[37mAre you sure I'm supposed to take it before bed? I don't go to sleep every day because my sleep schedule is totally off right now because of the Coronavirus.\u001b[0m\n",
      "\u001b[31m[System] \u001b[0mYes. It must be before bed or it will not be effective.\u001b[0m\n",
      "\u001b[94m[User] \u001b[37mOkay thank you. I will get back in touch if this doesn't help.\u001b[0m\n",
      "\u001b[31m[System] \u001b[0mThank you and goodbye.\u001b[0m\n",
      "\u001b[1m\u001b[35m--- Dialogue Ends ---\u001b[0m\n"
     ]
    }
   ],
   "source": [
    "TARGET_DIALOG = 1\n",
    "\n",
    "original_dialog = STAR.get_dialog(TARGET_DIALOG)\n",
    "original_dialog.print()"
   ]
  },
  {
   "cell_type": "markdown",
   "metadata": {},
   "source": [
    "This seems just like a regular dialogue between the the user and system.\n",
    "\n",
    "However, when this dataset was constructed, the persons playing the system and user roles were instructed and orchestrated to do it.\n",
    "\n",
    "We can see the original orchestration behind this dialogue if we set `orchestration=True` in the `print()` function:"
   ]
  },
  {
   "cell_type": "code",
   "execution_count": 31,
   "metadata": {},
   "outputs": [
    {
     "name": "stdout",
     "output_type": "stream",
     "text": [
      "\u001b[1m\u001b[95m[dialog_id] \u001b[35m1\u001b[0m\n",
      "\u001b[1m\u001b[35m--- Dialogue Begins ---\u001b[0m\n",
      "\u001b[33m[instruct] \u001b[95m(UserGuide) In this dialogue, either act confused, like a person with memory problems, or act concerned about the effects of the medicine. [instruction 1 of 3]\u001b[0m\n",
      "\u001b[94m[User] \u001b[37mHello, I'm really worried. I forgot what I'm supposed to do and forgot to write it down... What do I do?\u001b[0m\n",
      "\u001b[33m[instruct] \u001b[95m(UserGuide) Oh, Dr. Morgan was actually your previous doctor. Your new doctor is Dr. Johnson now. That's the one you had the appointment with. [instruction 2 of 3]\u001b[0m\n",
      "\u001b[33m[request_suggestions] \u001b[95m(System) What is your name? \u001b[0m\n",
      "\u001b[31m[System] \u001b[0m[pick_suggestion] Could I get your name, please?\u001b[0m\n",
      "\u001b[94m[User] \u001b[37mMy name is Alexis and my last doctor was Dr. Morgan, but now my doctor is Dr. Johnson and I forgot how to take my medicine.\u001b[0m\n",
      "\u001b[33m[instruct] \u001b[95m(UserGuide) Say something random about your doctors, your condition, or about something (imagined) that happened to you today. Then bring the conversation to a natural close. [instruction 3 of 3]\u001b[0m\n",
      "\u001b[33m[request_suggestions] \u001b[95m(System) Dr. Johnson says Take your medicine before you go to sleep. If you experience nausea, please contact your doctor immediately.\u001b[0m\n",
      "\u001b[33m[request_suggestions] \u001b[95m(System) Dr. Johnson says to take medicine before sleep. If nausea happens, call him immediately.\u001b[0m\n",
      "\u001b[31m[System] \u001b[0m[pick_suggestion] Your instructions are: Take your medicine before you go to sleep. If you experience nausea, please contact your doctor immediately..\u001b[0m\n",
      "\u001b[94m[User] \u001b[37mAre you sure I'm supposed to take it before bed? I don't go to sleep every day because my sleep schedule is totally off right now because of the Coronavirus.\u001b[0m\n",
      "\u001b[33m[request_suggestions] \u001b[95m(System) Yes. It must be before bed or else it will not be as effective.\u001b[0m\n",
      "\u001b[31m[System] \u001b[0mYes. It must be before bed or it will not be effective.\u001b[0m\n",
      "\u001b[94m[User] \u001b[37mOkay thank you. I will get back in touch if this doesn't help.\u001b[0m\n",
      "\u001b[33m[request_suggestions] \u001b[95m(System) Ok. Goodbye.\u001b[0m\n",
      "\u001b[31m[System] \u001b[0m[pick_suggestion] Thank you and goodbye.\u001b[0m\n",
      "\u001b[1m\u001b[35m--- Dialogue Ends ---\u001b[0m\n"
     ]
    }
   ],
   "source": [
    "original_dialog.print(orchestration=True)"
   ]
  },
  {
   "cell_type": "markdown",
   "metadata": {},
   "source": [
    "We can see that the orchestration for the user and the system is different: the user is guided by concrete instructions (marked with `(UserGuide)`) through the conversation while the system request suggesting for next possible responses (`[request_suggestions]`) to then pick one among the suggested responses (`[pick_suggestion]`).\n",
    "\n",
    "As it is described in the [STAR paper](https://arxiv.org/pdf/2010.11853), this difference foster users to behave more freely and system to be as much deterministic as possible.\n",
    "\n",
    "In the original dialogue files, dialogues are saved as a list of events containing not only the utterances but also the instructions and actions performed by the user and system. \n",
    "For instance, we can open the JSON file of dialogue `1` located in [`datasets/STAR/dialogues/1.json`](datasets/STAR/dialogues/1.json) and get access to this list of events by checking the content of the `\"Events\"` field.\n",
    "\n",
    "If we want to get access to the list of events of any given dialogue in `sdialog`, we can simply use the `.events` attribute of our dialogue objects as follows:"
   ]
  },
  {
   "cell_type": "code",
   "execution_count": 32,
   "metadata": {},
   "outputs": [
    {
     "data": {
      "text/plain": [
       "[Event(agent='UserGuide', action='instruct', actionLabel=None, text='In this dialogue, either act confused, like a person with memory problems, or act concerned about the effects of the medicine.  [instruction 1 of 3]', timestamp=1589375664),\n",
       " Event(agent='User', action='utter', actionLabel=None, text=\"Hello, I'm really worried. I forgot what I'm supposed to do and forgot to write it down... What do I do?\", timestamp=1589375697),\n",
       " Event(agent='UserGuide', action='instruct', actionLabel=None, text=\"Oh, Dr. Morgan was actually your previous doctor. Your new doctor is Dr. Johnson now. That's the one you had the appointment with. [instruction 2 of 3]\", timestamp=1589375697),\n",
       " Event(agent='System', action='request_suggestions', actionLabel=None, text='What is your name? ', timestamp=1589375711),\n",
       " Event(agent='System', action='pick_suggestion', actionLabel='ask_name', text='Could I get your name, please?', timestamp=1589375714),\n",
       " Event(agent='User', action='utter', actionLabel=None, text='My name is Alexis and my last doctor was Dr. Morgan, but now my doctor is Dr. Johnson and I forgot how to take my medicine.', timestamp=1589375736),\n",
       " Event(agent='UserGuide', action='instruct', actionLabel=None, text='Say something random about your doctors, your condition, or about something (imagined) that happened to you today. Then bring the conversation to a natural close. [instruction 3 of 3]', timestamp=1589375736),\n",
       " Event(agent='System', action='request_suggestions', actionLabel=None, text='Dr. Johnson says \\tTake your medicine before you go to sleep. If you experience nausea, please contact your doctor immediately.', timestamp=1589375789),\n",
       " Event(agent='System', action='request_suggestions', actionLabel=None, text='Dr. Johnson says to take medicine before sleep. If nausea happens, call him immediately.', timestamp=1589375817),\n",
       " Event(agent='System', action='pick_suggestion', actionLabel='doctor_inform_doctors_instructions', text='Your instructions are: Take your medicine before you go to sleep. If you experience nausea, please contact your doctor immediately..', timestamp=1589375820),\n",
       " Event(agent='User', action='utter', actionLabel=None, text=\"Are you sure I'm supposed to take it before bed? I don't go to sleep every day because my sleep schedule is totally off right now because of the Coronavirus.\", timestamp=1589375861),\n",
       " Event(agent='System', action='request_suggestions', actionLabel=None, text='Yes. It must be before bed or else it will not be as effective.', timestamp=1589375888),\n",
       " Event(agent='System', action='utter', actionLabel=None, text='Yes. It must be before bed or it will not be effective.', timestamp=1589375904),\n",
       " Event(agent='User', action='utter', actionLabel=None, text=\"Okay thank you. I will get back in touch if this doesn't help.\", timestamp=1589375949),\n",
       " Event(agent='System', action='request_suggestions', actionLabel=None, text='Ok. Goodbye.', timestamp=1589375959),\n",
       " Event(agent='System', action='pick_suggestion', actionLabel='goodbye_1', text='Thank you and goodbye.', timestamp=1589375962)]"
      ]
     },
     "execution_count": 32,
     "metadata": {},
     "output_type": "execute_result"
    }
   ],
   "source": [
    "original_dialog.events"
   ]
  },
  {
   "cell_type": "markdown",
   "metadata": {},
   "source": [
    "This events are what `sdialog` is using under the hood to pretty print the orchestration as part of the dialogue when using `.print(orchestration=True)` and more importantly, when we add orchestrator objects to our agents, all the orchestration will be also saved as events (as in the original STAR dataset).\n",
    "\n",
    "Now that we understand how it works under the hood and how the original dialogues in STAR were actually orchestrated, let's create the orchestrator objects for our system and user agents to try to emulate the same behavior as in the original dataset.\n",
    "\n",
    "Let's first get the base agents by using the function we created in the previous tutorial:"
   ]
  },
  {
   "cell_type": "code",
   "execution_count": 33,
   "metadata": {},
   "outputs": [
    {
     "name": "stderr",
     "output_type": "stream",
     "text": [
      "[2025-07-09 18:51:44] INFO:sdialog.personas:Loading ChatOllama model: qwen2.5:14b\n",
      "[2025-07-09 18:51:44] INFO:sdialog.personas:Loading ChatOllama model: qwen2.5:14b\n"
     ]
    }
   ],
   "source": [
    "system, user = STAR.get_agents_from_dialogue(TARGET_DIALOG)"
   ]
  },
  {
   "cell_type": "markdown",
   "metadata": {},
   "source": [
    "And then we will create the orchestrator objects for them. Let's begin with the orchestration of the system agent first."
   ]
  },
  {
   "cell_type": "markdown",
   "metadata": {},
   "source": [
    "### System Agent Orchestration"
   ]
  },
  {
   "cell_type": "markdown",
   "metadata": {},
   "source": [
    "To simulate the \"suggest and pick responses\" original orchestration, we can use the built-in `SimpleResponseOrchestrator` class that, given a list of possible responses, it will instruct the agent to pick responses from this list:"
   ]
  },
  {
   "cell_type": "code",
   "execution_count": 34,
   "metadata": {},
   "outputs": [],
   "source": [
    "from sdialog.orchestrators import SimpleResponseOrchestrator"
   ]
  },
  {
   "cell_type": "markdown",
   "metadata": {},
   "source": [
    "For instance, let's load the original responses used to guide the human system in the original dataset:"
   ]
  },
  {
   "cell_type": "code",
   "execution_count": 35,
   "metadata": {},
   "outputs": [
    {
     "data": {
      "text/plain": [
       "{'hello': 'Hello, how can I help?',\n",
       " 'ask_name': 'Could I get your name, please?',\n",
       " 'doctor_ask_doctor_name': 'Who is your doctor?',\n",
       " 'doctor_inform_doctors_instructions': 'Your instructions are: INSTRUCTIONS.',\n",
       " 'doctor_bye': 'Thank you and goodbye.',\n",
       " 'anything_else': 'Is there anything else that I can do for you?'}"
      ]
     },
     "execution_count": 35,
     "metadata": {},
     "output_type": "execute_result"
    }
   ],
   "source": [
    "responses = STAR.get_dialog_responses(TARGET_DIALOG)[0]\n",
    "responses"
   ]
  },
  {
   "cell_type": "markdown",
   "metadata": {},
   "source": [
    "We can see here that, in STAR, each response is associated to a certain action (see `action:response` mapping in the dict). This is due to the fact that, as we know, system behavior for each task is described by flowchart of actions.\n",
    "\n",
    "In its simplest version, `SimpleResponseOrchestrator` can receive just a list of response utterances (without actions) that the orchestrator will use to suggest possible responses to the agent. For instance, for the responses above, we can:"
   ]
  },
  {
   "cell_type": "code",
   "execution_count": 36,
   "metadata": {},
   "outputs": [
    {
     "name": "stderr",
     "output_type": "stream",
     "text": [
      "[2025-07-09 18:52:21] INFO:sentence_transformers.SentenceTransformer:Use pytorch device_name: cuda:0\n",
      "[2025-07-09 18:52:21] INFO:sentence_transformers.SentenceTransformer:Load pretrained SentenceTransformer: sergioburdisso/dialog2flow-joint-bert-base\n"
     ]
    },
    {
     "data": {
      "application/vnd.jupyter.widget-view+json": {
       "model_id": "73df841fcdc0480480bb7d5b3b4612ba",
       "version_major": 2,
       "version_minor": 0
      },
      "text/plain": [
       "Batches:   0%|          | 0/1 [00:00<?, ?it/s]"
      ]
     },
     "metadata": {},
     "output_type": "display_data"
    }
   ],
   "source": [
    "# just get the list of response utteraces (ignoring the action names)\n",
    "utterances = [response for response in responses.values()]\n",
    "\n",
    "# and let's instantiate our orchestrator with them\n",
    "response_orchestrator = SimpleResponseOrchestrator(utterances)"
   ]
  },
  {
   "cell_type": "markdown",
   "metadata": {},
   "source": [
    "Let's now add the orchestration to our system agent and generate the dialogue:"
   ]
  },
  {
   "cell_type": "code",
   "execution_count": 37,
   "metadata": {},
   "outputs": [
    {
     "data": {
      "application/vnd.jupyter.widget-view+json": {
       "model_id": "546f042866ad4128bfeb87b17b47ecaf",
       "version_major": 2,
       "version_minor": 0
      },
      "text/plain": [
       "Dialogue:   0%|          | 0/200 [00:00<?, ?it/s]"
      ]
     },
     "metadata": {},
     "output_type": "display_data"
    },
    {
     "data": {
      "application/vnd.jupyter.widget-view+json": {
       "model_id": "5139297676b04ebea528991632f32d45",
       "version_major": 2,
       "version_minor": 0
      },
      "text/plain": [
       "Batches:   0%|          | 0/1 [00:00<?, ?it/s]"
      ]
     },
     "metadata": {},
     "output_type": "display_data"
    },
    {
     "data": {
      "application/vnd.jupyter.widget-view+json": {
       "model_id": "bdbd5bb41b5e40189a90251e10d0349f",
       "version_major": 2,
       "version_minor": 0
      },
      "text/plain": [
       "Batches:   0%|          | 0/1 [00:00<?, ?it/s]"
      ]
     },
     "metadata": {},
     "output_type": "display_data"
    },
    {
     "data": {
      "application/vnd.jupyter.widget-view+json": {
       "model_id": "6aa633ded94c4217b913e389ec09aad5",
       "version_major": 2,
       "version_minor": 0
      },
      "text/plain": [
       "Batches:   0%|          | 0/1 [00:00<?, ?it/s]"
      ]
     },
     "metadata": {},
     "output_type": "display_data"
    },
    {
     "data": {
      "application/vnd.jupyter.widget-view+json": {
       "model_id": "f634d33416d8426aac559dbad90441ce",
       "version_major": 2,
       "version_minor": 0
      },
      "text/plain": [
       "Batches:   0%|          | 0/1 [00:00<?, ?it/s]"
      ]
     },
     "metadata": {},
     "output_type": "display_data"
    },
    {
     "name": "stdout",
     "output_type": "stream",
     "text": [
      "\u001b[1m\u001b[95m[dialog_id] \u001b[35m1752079963220\u001b[0m\n",
      "\u001b[1m\u001b[95m[complete] \u001b[35mTrue\u001b[0m\n",
      "\u001b[1m\u001b[95m[model] \u001b[35mmodel='qwen2.5:14b' temperature=0.8 seed=13\u001b[0m\n",
      "\u001b[1m\u001b[95m[seed] \u001b[35m3068607470\u001b[0m\n",
      "\u001b[1m\u001b[35m--- Dialogue Begins ---\u001b[0m\n",
      "\u001b[33m[request_suggestions] \u001b[95m(System) Lookahead response: \"Hello, how can I help?\"\u001b[0m\n",
      "\u001b[33m[instruct] \u001b[95m(System) If applicable, try to pick your next response from the following list: (1) Hello, how can I help?; (2) Could I get your name, please?; (3) Your instructions are: INSTRUCTIONS.; (4) Who is your doctor?; (5) Thank you and goodbye.\u001b[0m\n",
      "\u001b[31m[System] \u001b[0mHello, how can I help?\u001b[0m\n",
      "\u001b[94m[User] \u001b[37mHi, this is Alexis. I had an appointment with Dr. Morgan recently, but I forgot to write down the instructions for my medicine. Could you please find out how often I should take it?\u001b[0m\n",
      "\u001b[33m[request_suggestions] \u001b[95m(System) Lookahead response: \"Could I get your name, please? Oh, we've already got that, right? Moving on, Who is your doctor? You mentioned Dr. Morgan, correct? Your instructions are: Take your medication three times a day, 30 minutes before meals. Is there anything else that I can do for you?\"\u001b[0m\n",
      "\u001b[33m[instruct] \u001b[95m(System) If applicable, try to pick your next response from the following list: (1) Who is your doctor?; (2) Could I get your name, please?; (3) Your instructions are: INSTRUCTIONS.; (4) Hello, how can I help?; (5) Thank you and goodbye.\u001b[0m\n",
      "\u001b[31m[System] \u001b[0mCould I get your name, please? Oh wait, you've already told me, thank you, Alexis. Who is your doctor? I see that you mentioned Dr. Morgan, so let me check on your instructions from there.\u001b[0m\n",
      "\u001b[94m[User] \u001b[37mThat would be great, thanks! I really need to know how often I should take my medicine as prescribed by Dr. Morgan.\u001b[0m\n",
      "\u001b[33m[request_suggestions] \u001b[95m(System) Lookahead response: \"Your instructions are: Take the medication twice a day, 30 minutes before breakfast and dinner. Is there anything else that I can do for you?\"\u001b[0m\n",
      "\u001b[33m[instruct] \u001b[95m(System) If applicable, try to pick your next response from the following list: (1) Who is your doctor?; (2) Your instructions are: INSTRUCTIONS.; (3) Hello, how can I help?; (4) Is there anything else that I can do for you?; (5) Could I get your name, please?\u001b[0m\n",
      "\u001b[31m[System] \u001b[0mYour instructions are: Take the medication twice a day, 30 minutes before breakfast and dinner. Is there anything else that I can do for you?\u001b[0m\n",
      "\u001b[94m[User] \u001b[37mThank you so much! That’s exactly what I needed to know. No, that covers everything for now; thanks again!\u001b[0m\n",
      "\u001b[33m[request_suggestions] \u001b[95m(System) Lookahead response: \"You're welcome, Alexis. Thank you and goodbye. STOP\"\u001b[0m\n",
      "\u001b[33m[instruct] \u001b[95m(System) If applicable, try to pick your next response from the following list: (1) Thank you and goodbye.; (2) Could I get your name, please?; (3) Your instructions are: INSTRUCTIONS.; (4) Who is your doctor?; (5) Hello, how can I help?\u001b[0m\n",
      "\u001b[31m[System] \u001b[0mYou're welcome, Alexis. Thank you and goodbye.\u001b[0m\n",
      "\u001b[94m[User] \u001b[37mThanks to you too! Have a great day!\u001b[0m\n",
      "\u001b[1m\u001b[35m--- Dialogue Ends ---\u001b[0m\n"
     ]
    }
   ],
   "source": [
    "system = system | response_orchestrator\n",
    "\n",
    "system.talk_with(user, seed=3068607470).print(orchestration=True)"
   ]
  },
  {
   "cell_type": "markdown",
   "metadata": {},
   "source": [
    "We can see from the orchestration messages that our `SimpleResponseOrchestrator` performs the following tasks:\n",
    "1. First, it makes the agent to internally generate the original next response as before (\"Lookahead response\").\n",
    "2. It then uses this response to get the top-k most similar responses from the original list.\n",
    "3. Instruct the agent to pick the next response from this top-k most similar list.\n",
    "\n",
    "The `SimpleResponseOrchestrator` also allows to pass not only the utterances, but also the actions and the flowchart graph which will then internally use to suggest the next response based on the next actions from the graph. For instance, let's get again, the responses for our target dialogue but also its corresponding graph:"
   ]
  },
  {
   "cell_type": "code",
   "execution_count": 38,
   "metadata": {},
   "outputs": [
    {
     "data": {
      "text/plain": [
       "{'hello': 'ask_name',\n",
       " 'ask_name': 'doctor_ask_doctor_name',\n",
       " 'doctor_ask_doctor_name': 'query',\n",
       " 'query': 'doctor_inform_doctors_instructions',\n",
       " 'doctor_inform_doctors_instructions': 'anything_else'}"
      ]
     },
     "execution_count": 38,
     "metadata": {},
     "output_type": "execute_result"
    }
   ],
   "source": [
    "graphs, responses = STAR.get_dialog_graphs_and_responses(TARGET_DIALOG)\n",
    "\n",
    "responses = responses[0]\n",
    "graph = graphs[0]\n",
    "\n",
    "graph"
   ]
  },
  {
   "cell_type": "markdown",
   "metadata": {},
   "source": [
    "Let's now create again our orchestrator but this time passing also the graph:"
   ]
  },
  {
   "cell_type": "code",
   "execution_count": 39,
   "metadata": {},
   "outputs": [
    {
     "name": "stderr",
     "output_type": "stream",
     "text": [
      "[2025-07-09 18:52:57] INFO:sentence_transformers.SentenceTransformer:Use pytorch device_name: cuda:0\n",
      "[2025-07-09 18:52:57] INFO:sentence_transformers.SentenceTransformer:Load pretrained SentenceTransformer: sergioburdisso/dialog2flow-joint-bert-base\n"
     ]
    },
    {
     "data": {
      "application/vnd.jupyter.widget-view+json": {
       "model_id": "76f394f45b0a41368d1c5e445365c461",
       "version_major": 2,
       "version_minor": 0
      },
      "text/plain": [
       "Batches:   0%|          | 0/1 [00:00<?, ?it/s]"
      ]
     },
     "metadata": {},
     "output_type": "display_data"
    }
   ],
   "source": [
    "response_action_orchestrator = SimpleResponseOrchestrator(responses, graph=graph)"
   ]
  },
  {
   "cell_type": "markdown",
   "metadata": {},
   "source": [
    "Let's replace the previous orchestrator by the new one and generate the dialogue again:"
   ]
  },
  {
   "cell_type": "code",
   "execution_count": 40,
   "metadata": {},
   "outputs": [
    {
     "data": {
      "application/vnd.jupyter.widget-view+json": {
       "model_id": "545903d3b8f64ac1bdeb604e7eb9045b",
       "version_major": 2,
       "version_minor": 0
      },
      "text/plain": [
       "Dialogue:   0%|          | 0/200 [00:00<?, ?it/s]"
      ]
     },
     "metadata": {},
     "output_type": "display_data"
    },
    {
     "data": {
      "application/vnd.jupyter.widget-view+json": {
       "model_id": "db8330ee95fa4bcda73240bb6177dff1",
       "version_major": 2,
       "version_minor": 0
      },
      "text/plain": [
       "Batches:   0%|          | 0/1 [00:00<?, ?it/s]"
      ]
     },
     "metadata": {},
     "output_type": "display_data"
    },
    {
     "data": {
      "application/vnd.jupyter.widget-view+json": {
       "model_id": "c459c5b2f29d4212b02a636b0cbd1f2f",
       "version_major": 2,
       "version_minor": 0
      },
      "text/plain": [
       "Batches:   0%|          | 0/1 [00:00<?, ?it/s]"
      ]
     },
     "metadata": {},
     "output_type": "display_data"
    },
    {
     "data": {
      "application/vnd.jupyter.widget-view+json": {
       "model_id": "73ec18e6465b4c4d8baab8786cedc850",
       "version_major": 2,
       "version_minor": 0
      },
      "text/plain": [
       "Batches:   0%|          | 0/1 [00:00<?, ?it/s]"
      ]
     },
     "metadata": {},
     "output_type": "display_data"
    },
    {
     "name": "stdout",
     "output_type": "stream",
     "text": [
      "\u001b[1m\u001b[95m[dialog_id] \u001b[35m1752079989367\u001b[0m\n",
      "\u001b[1m\u001b[95m[complete] \u001b[35mTrue\u001b[0m\n",
      "\u001b[1m\u001b[95m[model] \u001b[35mmodel='qwen2.5:14b' temperature=0.8 seed=13\u001b[0m\n",
      "\u001b[1m\u001b[95m[seed] \u001b[35m3068607470\u001b[0m\n",
      "\u001b[1m\u001b[35m--- Dialogue Begins ---\u001b[0m\n",
      "\u001b[33m[request_suggestions] \u001b[95m(System) Lookahead response: \"Hello, how can I help?\"\u001b[0m\n",
      "\u001b[33m[request_suggestions] \u001b[95m(System) Actions for the response: hello, ask_name, doctor_inform_doctors_instructions, doctor_ask_doctor_name, doctor_bye\u001b[0m\n",
      "\u001b[33m[instruct] \u001b[95m(System) If applicable, pick your next response from the following action list in order of importance: (1) Action: hello. Response: \"Hello, how can I help?\"; (2) Action: ask_name. Response: \"Could I get your name, please?\"; (3) Action: doctor_inform_doctors_instructions. Response: \"Your instructions are: INSTRUCTIONS.\"; (4) Action: doctor_ask_doctor_name. Response: \"Who is your doctor?\"; (5) Action: doctor_bye. Response: \"Thank you and goodbye.\"\u001b[0m\n",
      "\u001b[31m[System] \u001b[0mHello, how can I help?\u001b[0m\n",
      "\u001b[94m[User] \u001b[37mHi, this is Alexis. I had an appointment with Dr. Morgan recently, but I forgot to write down the instructions for my medicine. Could you please find out how often I should take it?\u001b[0m\n",
      "\u001b[33m[request_suggestions] \u001b[95m(System) Previous response: \"Hello, how can I help?\"\u001b[0m\n",
      "\u001b[33m[request_suggestions] \u001b[95m(System) Actions for the response: hello, ask_name, doctor_inform_doctors_instructions, doctor_ask_doctor_name, doctor_bye\u001b[0m\n",
      "\u001b[33m[request_suggestions] \u001b[95m(System) Graph next actions: ask_name, doctor_ask_doctor_name, anything_else, query, doctor_bye\u001b[0m\n",
      "\u001b[33m[instruct] \u001b[95m(System) If applicable, pick your next response from the following action list in order of importance: (1) Action: ask_name. Response: \"Could I get your name, please?\"; (2) Action: doctor_ask_doctor_name. Response: \"Who is your doctor?\"; (3) Action: anything_else. Response: \"Is there anything else that I can do for you?\"; (4) Action: doctor_bye. Response: \"Thank you and goodbye.\"\u001b[0m\n",
      "\u001b[31m[System] \u001b[0mCould I get your name, please? (In this case, since the user has already provided their name as Alexis, proceed directly to the next action based on the flowchart.) Who is your doctor? Dr. Morgan has been mentioned, so there's no need for a separate query here. Your instructions are: Take your medication three times a day, 30 minutes before meals. Is there anything else that I can do for you?\u001b[0m\n",
      "\u001b[94m[User] \u001b[37mThank you so much! That’s very helpful. No, that covers everything for now. Thank you! Goodbye.\u001b[0m\n",
      "\u001b[33m[request_suggestions] \u001b[95m(System) Previous response: \"Could I get your name, please? (In this case, since the user has already provided their name as Alexis, proceed directly to the next action based on the flowchart.) Who is your doctor? Dr. Morgan has been mentioned, so there's no need for a separate query here. Your instructions are: Take your medication three times a day, 30 minutes before meals. Is there anything else that I can do for you?\"\u001b[0m\n",
      "\u001b[33m[request_suggestions] \u001b[95m(System) Actions for the response: doctor_ask_doctor_name, ask_name, doctor_inform_doctors_instructions, hello, anything_else\u001b[0m\n",
      "\u001b[33m[request_suggestions] \u001b[95m(System) Graph next actions: query, doctor_ask_doctor_name, anything_else, ask_name, anything_else\u001b[0m\n",
      "\u001b[33m[instruct] \u001b[95m(System) If applicable, pick your next response from the following action list in order of importance: (1) Action: doctor_ask_doctor_name. Response: \"Who is your doctor?\"; (2) Action: anything_else. Response: \"Is there anything else that I can do for you?\"; (3) Action: ask_name. Response: \"Could I get your name, please?\"; (4) Action: anything_else. Response: \"Is there anything else that I can do for you?\"\u001b[0m\n",
      "\u001b[31m[System] \u001b[0mYou're welcome, Alexis. If you have any more questions in the future, don't hesitate to ask. Have a great day! Thank you and goodbye.\u001b[0m\n",
      "\u001b[1m\u001b[35m--- Dialogue Ends ---\u001b[0m\n"
     ]
    }
   ],
   "source": [
    "system.clear_orchestrators()\n",
    "system = system | response_action_orchestrator\n",
    "\n",
    "system.talk_with(user, seed=3068607470).print(orchestration=True)"
   ]
  },
  {
   "cell_type": "markdown",
   "metadata": {},
   "source": [
    "Now we can see the next response is generated based on the previous response, not in the current one. That is, the orchestrator performs the following tasks:\n",
    "1. It uses the previous response (`Previous response: ...`) to get the list of top-k most similar responses from the given list.\n",
    "2. It maps the top-k responses to their corresponding action names (`Actions for the response: ...`)\n",
    "3. For each action in the previous step, it uses the graph to get its next actions.\n",
    "4. Instruct the agent to pick the next response based on the responses associated to the actions from the prevois step.\n",
    "\n",
    "\n",
    "And that's it! we have now our system orchestrator that simulates the STAR original workflow. Let's now move to the user!"
   ]
  },
  {
   "cell_type": "markdown",
   "metadata": {},
   "source": [
    "### User Agent Orchestration"
   ]
  },
  {
   "cell_type": "markdown",
   "metadata": {},
   "source": [
    "Fortunately, the orchestration of the user is much simpler since originally in STAR it only involves providing a series of instructions in order, on specific conversational turns.\n",
    "\n",
    "Let's firs the the original list of instructions given to the user in the dialogue `1`:"
   ]
  },
  {
   "cell_type": "code",
   "execution_count": 41,
   "metadata": {},
   "outputs": [
    {
     "data": {
      "text/plain": [
       "{0: 'In this dialogue, either act confused, like a person with memory problems, or act concerned about the effects of the medicine.  [instruction 1 of 3]',\n",
       " 1: \"Oh, Dr. Morgan was actually your previous doctor. Your new doctor is Dr. Johnson now. That's the one you had the appointment with. [instruction 2 of 3]\",\n",
       " 2: 'Say something random about your doctors, your condition, or about something (imagined) that happened to you today. Then bring the conversation to a natural close. [instruction 3 of 3]'}"
      ]
     },
     "execution_count": 41,
     "metadata": {},
     "output_type": "execute_result"
    }
   ],
   "source": [
    "user_instructions = STAR.get_dialog_user_instructions(TARGET_DIALOG)\n",
    "user_instructions"
   ]
  },
  {
   "cell_type": "markdown",
   "metadata": {},
   "source": [
    "Here instructions are returned along with the indexes of the turns in which they were provided to the user.\n",
    "\n",
    "We can make use of the built-in `InstructionListOrchestrator` class to orchestrate the user.\n",
    "\n",
    "This orchestrators takes a list of instructions as input and returns one instruction at the time in the given order (or using the provided index to return it when in the right turn).\n",
    "\n",
    "Thus we can simply use it with the list of user instructions to orchestrate the user as follows:"
   ]
  },
  {
   "cell_type": "code",
   "execution_count": 42,
   "metadata": {},
   "outputs": [],
   "source": [
    "from sdialog.orchestrators import InstructionListOrchestrator\n",
    "\n",
    "instr_list_orchestrator = InstructionListOrchestrator(user_instructions, persistent=True)\n",
    "\n",
    "user = user | instr_list_orchestrator"
   ]
  },
  {
   "cell_type": "markdown",
   "metadata": {},
   "source": [
    "Let's now generate the dialogue between our system and user (orchestrated) agents:"
   ]
  },
  {
   "cell_type": "code",
   "execution_count": 43,
   "metadata": {},
   "outputs": [
    {
     "data": {
      "application/vnd.jupyter.widget-view+json": {
       "model_id": "7f8600cf48d04e1fbf1b950619485472",
       "version_major": 2,
       "version_minor": 0
      },
      "text/plain": [
       "Dialogue:   0%|          | 0/200 [00:00<?, ?it/s]"
      ]
     },
     "metadata": {},
     "output_type": "display_data"
    },
    {
     "data": {
      "application/vnd.jupyter.widget-view+json": {
       "model_id": "6319d89729a64afcbb84dbfada62f36c",
       "version_major": 2,
       "version_minor": 0
      },
      "text/plain": [
       "Batches:   0%|          | 0/1 [00:00<?, ?it/s]"
      ]
     },
     "metadata": {},
     "output_type": "display_data"
    },
    {
     "data": {
      "application/vnd.jupyter.widget-view+json": {
       "model_id": "56da90e3f9254fcaab3c1871e504155c",
       "version_major": 2,
       "version_minor": 0
      },
      "text/plain": [
       "Batches:   0%|          | 0/1 [00:00<?, ?it/s]"
      ]
     },
     "metadata": {},
     "output_type": "display_data"
    },
    {
     "data": {
      "application/vnd.jupyter.widget-view+json": {
       "model_id": "a8928f0c467848cdaf027ece00ff6edb",
       "version_major": 2,
       "version_minor": 0
      },
      "text/plain": [
       "Batches:   0%|          | 0/1 [00:00<?, ?it/s]"
      ]
     },
     "metadata": {},
     "output_type": "display_data"
    },
    {
     "data": {
      "application/vnd.jupyter.widget-view+json": {
       "model_id": "088f966b1ef643d7b715013781edbca4",
       "version_major": 2,
       "version_minor": 0
      },
      "text/plain": [
       "Batches:   0%|          | 0/1 [00:00<?, ?it/s]"
      ]
     },
     "metadata": {},
     "output_type": "display_data"
    },
    {
     "data": {
      "application/vnd.jupyter.widget-view+json": {
       "model_id": "026c966aac35493db9c82968ee77b3f7",
       "version_major": 2,
       "version_minor": 0
      },
      "text/plain": [
       "Batches:   0%|          | 0/1 [00:00<?, ?it/s]"
      ]
     },
     "metadata": {},
     "output_type": "display_data"
    },
    {
     "name": "stdout",
     "output_type": "stream",
     "text": [
      "\u001b[1m\u001b[95m[dialog_id] \u001b[35m1752080018136\u001b[0m\n",
      "\u001b[1m\u001b[95m[complete] \u001b[35mTrue\u001b[0m\n",
      "\u001b[1m\u001b[95m[model] \u001b[35mmodel='qwen2.5:14b' temperature=0.8 seed=13\u001b[0m\n",
      "\u001b[1m\u001b[95m[seed] \u001b[35m3068607470\u001b[0m\n",
      "\u001b[1m\u001b[35m--- Dialogue Begins ---\u001b[0m\n",
      "\u001b[33m[request_suggestions] \u001b[95m(System) Lookahead response: \"Hello, how can I help?\"\u001b[0m\n",
      "\u001b[33m[request_suggestions] \u001b[95m(System) Actions for the response: hello, ask_name, doctor_inform_doctors_instructions, doctor_ask_doctor_name, doctor_bye\u001b[0m\n",
      "\u001b[33m[instruct] \u001b[95m(System) If applicable, pick your next response from the following action list in order of importance: (1) Action: hello. Response: \"Hello, how can I help?\"; (2) Action: ask_name. Response: \"Could I get your name, please?\"; (3) Action: doctor_inform_doctors_instructions. Response: \"Your instructions are: INSTRUCTIONS.\"; (4) Action: doctor_ask_doctor_name. Response: \"Who is your doctor?\"; (5) Action: doctor_bye. Response: \"Thank you and goodbye.\"\u001b[0m\n",
      "\u001b[31m[System] \u001b[0mHello, how can I help?\u001b[0m\n",
      "\u001b[33m[instruct-persist] \u001b[95m(User) In this dialogue, either act confused, like a person with memory problems, or act concerned about the effects of the medicine. [instruction 1 of 3]\u001b[0m\n",
      "\u001b[94m[User] \u001b[37mHi, this is Alexis. I had an appointment with Dr. Morgan last week but unfortunately, I forgot to write down when I’m supposed to take my medication. Could you please remind me or ask Dr. Morgan for the details during her next available moment? It’s quite confusing and important for my health.\u001b[0m\n",
      "\u001b[33m[request_suggestions] \u001b[95m(System) Previous response: \"Hello, how can I help?\"\u001b[0m\n",
      "\u001b[33m[request_suggestions] \u001b[95m(System) Actions for the response: hello, ask_name, doctor_inform_doctors_instructions, doctor_ask_doctor_name, doctor_bye\u001b[0m\n",
      "\u001b[33m[request_suggestions] \u001b[95m(System) Graph next actions: ask_name, doctor_ask_doctor_name, anything_else, query, doctor_bye\u001b[0m\n",
      "\u001b[33m[instruct] \u001b[95m(System) If applicable, pick your next response from the following action list in order of importance: (1) Action: ask_name. Response: \"Could I get your name, please?\"; (2) Action: doctor_ask_doctor_name. Response: \"Who is your doctor?\"; (3) Action: anything_else. Response: \"Is there anything else that I can do for you?\"; (4) Action: doctor_bye. Response: \"Thank you and goodbye.\"\u001b[0m\n",
      "\u001b[31m[System] \u001b[0mCould I get your name, please? (In this case, since Alexis has already provided their name, I would skip directly to the next step.) Who is your doctor?\u001b[0m\n",
      "\u001b[33m[instruct-persist] \u001b[95m(User) Oh, Dr. Morgan was actually your previous doctor. Your new doctor is Dr. Johnson now. That's the one you had the appointment with. [instruction 2 of 3]\u001b[0m\n",
      "\u001b[94m[User] \u001b[37mOf course, my name is Alexis. And you're right, Dr. Morgan was actually my previous doctor. My new doctor is Dr. Johnson. But I believe Dr. Morgan prescribed this medication, so it would be great if you could check with her about the instructions on how to take it. Thank you!\u001b[0m\n",
      "\u001b[33m[request_suggestions] \u001b[95m(System) Previous response: \"Could I get your name, please? (In this case, since Alexis has already provided their name, I would skip directly to the next step.) Who is your doctor?\"\u001b[0m\n",
      "\u001b[33m[request_suggestions] \u001b[95m(System) Actions for the response: doctor_ask_doctor_name, ask_name, doctor_inform_doctors_instructions, hello, doctor_bye\u001b[0m\n",
      "\u001b[33m[request_suggestions] \u001b[95m(System) Graph next actions: query, doctor_ask_doctor_name, anything_else, ask_name, doctor_bye\u001b[0m\n",
      "\u001b[33m[instruct] \u001b[95m(System) If applicable, pick your next response from the following action list in order of importance: (1) Action: doctor_ask_doctor_name. Response: \"Who is your doctor?\"; (2) Action: anything_else. Response: \"Is there anything else that I can do for you?\"; (3) Action: ask_name. Response: \"Could I get your name, please?\"; (4) Action: doctor_bye. Response: \"Thank you and goodbye.\"\u001b[0m\n",
      "\u001b[31m[System] \u001b[0mWho is your doctor? (In this case since Alexis has already provided Dr. Johnson as their current doctor and mentioned that Dr. Morgan prescribed the medication, I will directly inform them of the next steps after querying for Doctor's name.) Your instructions are: Please contact Dr. Morgan to confirm the details on how to take the medication properly. Is there anything else that I can do for you?\u001b[0m\n",
      "\u001b[33m[instruct-persist] \u001b[95m(User) Say something random about your doctors, your condition, or about something (imagined) that happened to you today. Then bring the conversation to a natural close. [instruction 3 of 3]\u001b[0m\n",
      "\u001b[94m[User] \u001b[37mThat would be wonderful, thank you! And actually, could you also ask when I should schedule my next appointment with Dr. Johnson? Today just felt a bit off, and I'm not sure if it's related or just one of those days. Thanks so much for your help!\u001b[0m\n",
      "\u001b[33m[request_suggestions] \u001b[95m(System) Previous response: \"Who is your doctor? (In this case since Alexis has already provided Dr. Johnson as their current doctor and mentioned that Dr. Morgan prescribed the medication, I will directly inform them of the next steps after querying for Doctor's name.) Your instructions are: Please contact Dr. Morgan to confirm the details on how to take the medication properly. Is there anything else that I can do for you?\"\u001b[0m\n",
      "\u001b[33m[request_suggestions] \u001b[95m(System) Actions for the response: doctor_ask_doctor_name, ask_name, doctor_inform_doctors_instructions, hello, anything_else\u001b[0m\n",
      "\u001b[33m[request_suggestions] \u001b[95m(System) Graph next actions: query, doctor_ask_doctor_name, anything_else, ask_name, anything_else\u001b[0m\n",
      "\u001b[33m[instruct] \u001b[95m(System) If applicable, pick your next response from the following action list in order of importance: (1) Action: doctor_ask_doctor_name. Response: \"Who is your doctor?\"; (2) Action: anything_else. Response: \"Is there anything else that I can do for you?\"; (3) Action: ask_name. Response: \"Could I get your name, please?\"; (4) Action: anything_else. Response: \"Is there anything else that I can do for you?\"\u001b[0m\n",
      "\u001b[31m[System] \u001b[0mYour instructions are: Contact Dr. Morgan to confirm the medication details and plan to schedule your next follow-up with Dr. Johnson based on today’s symptoms. Is there anything else that I can do for you?\u001b[0m\n",
      "\u001b[94m[User] \u001b[37mThat sounds perfect, thank you very much! If it's not too much trouble, could you let me know once you have all the information so I don't forget again? And maybe give a quick update if my symptoms seem unusual enough to schedule an appointment sooner rather than later? Thank you so much for your help today. Have a great day!\u001b[0m\n",
      "\u001b[33m[request_suggestions] \u001b[95m(System) Previous response: \"Your instructions are: Contact Dr. Morgan to confirm the medication details and plan to schedule your next follow-up with Dr. Johnson based on today’s symptoms. Is there anything else that I can do for you?\"\u001b[0m\n",
      "\u001b[33m[request_suggestions] \u001b[95m(System) Actions for the response: doctor_ask_doctor_name, anything_else, doctor_inform_doctors_instructions, ask_name, hello\u001b[0m\n",
      "\u001b[33m[request_suggestions] \u001b[95m(System) Graph next actions: query, anything_else, anything_else, doctor_ask_doctor_name, ask_name\u001b[0m\n",
      "\u001b[33m[instruct] \u001b[95m(System) If applicable, pick your next response from the following action list in order of importance: (1) Action: anything_else. Response: \"Is there anything else that I can do for you?\"; (2) Action: anything_else. Response: \"Is there anything else that I can do for you?\"; (3) Action: doctor_ask_doctor_name. Response: \"Who is your doctor?\"; (4) Action: ask_name. Response: \"Could I get your name, please?\"\u001b[0m\n",
      "\u001b[31m[System] \u001b[0mIs there anything else that I can do for you? (Given Alexis's request, this may not be the most appropriate next step since she has requested updates and confirmation.) Thank you and goodbye.\u001b[0m\n",
      "\u001b[94m[User] \u001b[37mThat would be great, thank you! And please let me know once you have everything sorted out. Thanks again! Goodbye!\u001b[0m\n",
      "\u001b[1m\u001b[35m--- Dialogue Ends ---\u001b[0m\n"
     ]
    }
   ],
   "source": [
    "dialog = system.talk_with(user, seed=3068607470)\n",
    "dialog.print(orchestration=True)"
   ]
  },
  {
   "cell_type": "markdown",
   "metadata": {},
   "source": [
    "Which we can see it is not so different form the original one:"
   ]
  },
  {
   "cell_type": "code",
   "execution_count": 44,
   "metadata": {},
   "outputs": [
    {
     "name": "stdout",
     "output_type": "stream",
     "text": [
      "\u001b[1m\u001b[95m[dialog_id] \u001b[35m1\u001b[0m\n",
      "\u001b[1m\u001b[35m--- Dialogue Begins ---\u001b[0m\n",
      "\u001b[33m[instruct] \u001b[95m(UserGuide) In this dialogue, either act confused, like a person with memory problems, or act concerned about the effects of the medicine. [instruction 1 of 3]\u001b[0m\n",
      "\u001b[94m[User] \u001b[37mHello, I'm really worried. I forgot what I'm supposed to do and forgot to write it down... What do I do?\u001b[0m\n",
      "\u001b[33m[instruct] \u001b[95m(UserGuide) Oh, Dr. Morgan was actually your previous doctor. Your new doctor is Dr. Johnson now. That's the one you had the appointment with. [instruction 2 of 3]\u001b[0m\n",
      "\u001b[33m[request_suggestions] \u001b[95m(System) What is your name? \u001b[0m\n",
      "\u001b[31m[System] \u001b[0m[pick_suggestion] Could I get your name, please?\u001b[0m\n",
      "\u001b[94m[User] \u001b[37mMy name is Alexis and my last doctor was Dr. Morgan, but now my doctor is Dr. Johnson and I forgot how to take my medicine.\u001b[0m\n",
      "\u001b[33m[instruct] \u001b[95m(UserGuide) Say something random about your doctors, your condition, or about something (imagined) that happened to you today. Then bring the conversation to a natural close. [instruction 3 of 3]\u001b[0m\n",
      "\u001b[33m[request_suggestions] \u001b[95m(System) Dr. Johnson says Take your medicine before you go to sleep. If you experience nausea, please contact your doctor immediately.\u001b[0m\n",
      "\u001b[33m[request_suggestions] \u001b[95m(System) Dr. Johnson says to take medicine before sleep. If nausea happens, call him immediately.\u001b[0m\n",
      "\u001b[31m[System] \u001b[0m[pick_suggestion] Your instructions are: Take your medicine before you go to sleep. If you experience nausea, please contact your doctor immediately..\u001b[0m\n",
      "\u001b[94m[User] \u001b[37mAre you sure I'm supposed to take it before bed? I don't go to sleep every day because my sleep schedule is totally off right now because of the Coronavirus.\u001b[0m\n",
      "\u001b[33m[request_suggestions] \u001b[95m(System) Yes. It must be before bed or else it will not be as effective.\u001b[0m\n",
      "\u001b[31m[System] \u001b[0mYes. It must be before bed or it will not be effective.\u001b[0m\n",
      "\u001b[94m[User] \u001b[37mOkay thank you. I will get back in touch if this doesn't help.\u001b[0m\n",
      "\u001b[33m[request_suggestions] \u001b[95m(System) Ok. Goodbye.\u001b[0m\n",
      "\u001b[31m[System] \u001b[0m[pick_suggestion] Thank you and goodbye.\u001b[0m\n",
      "\u001b[1m\u001b[35m--- Dialogue Ends ---\u001b[0m\n"
     ]
    }
   ],
   "source": [
    "original_dialog.print(orchestration=True)"
   ]
  },
  {
   "cell_type": "markdown",
   "metadata": {},
   "source": [
    "### Saving our dialogues"
   ]
  },
  {
   "cell_type": "markdown",
   "metadata": {},
   "source": [
    "Before we finish, as we did in the previous tutorials, let's generate one synthetic dialog for each happy `\"doctor_followup\"` dialog in STAR and save it to disk for later use."
   ]
  },
  {
   "cell_type": "code",
   "execution_count": null,
   "metadata": {},
   "outputs": [],
   "source": [
    "from tqdm.auto import tqdm\n",
    "\n",
    "PATH_OUTPUT = \"output/STAR/multi-agents+orchestration\"\n",
    "path_txt = os.path.join(PATH_OUTPUT, \"txt\")\n",
    "path_json = os.path.join(PATH_OUTPUT, \"json\")\n",
    "os.makedirs(path_txt, exist_ok=True)\n",
    "os.makedirs(path_json, exist_ok=True)\n",
    "\n",
    "for dialog in tqdm(STAR.get_dialogs(task_name=\"doctor_followup\", happy=True, multitask=False), desc=\"Dialog generation\"):\n",
    "    if os.path.exists(os.path.join(path_txt, f\"{dialog.dialogId}.txt\")):\n",
    "        continue\n",
    "\n",
    "    system, user = STAR.get_agents_from_dialogue_with_orchestration(dialog.dialogId, model_name=MODEL_NAME)\n",
    "\n",
    "    dialog = system.dialog_with(user, id=dialog.dialogId, seed=dialog.dialogId, keep_bar=False)\n",
    "    dialog.to_file(os.path.join(path_json, f\"{dialog.dialogId}.json\"))\n",
    "    dialog.to_file(os.path.join(path_txt, f\"{dialog.dialogId}.txt\"))"
   ]
  },
  {
   "cell_type": "markdown",
   "metadata": {},
   "source": [
    "Finally, let's check the files were generated:"
   ]
  },
  {
   "cell_type": "code",
   "execution_count": 4,
   "metadata": {},
   "outputs": [
    {
     "name": "stdout",
     "output_type": "stream",
     "text": [
      "\u001b[0m\u001b[01;34mjson\u001b[0m/\n",
      "\u001b[01;34mtxt\u001b[0m/\n"
     ]
    }
   ],
   "source": [
    "%ls output/STAR/multi-agents+orchestration/"
   ]
  },
  {
   "cell_type": "markdown",
   "metadata": {},
   "source": [
    "## Exercise: Doctor-Patient Conversations"
   ]
  },
  {
   "cell_type": "markdown",
   "metadata": {},
   "source": [
    "Can you replicate the previous tutorial's exercise but this time adding orchestration?\n",
    "\n",
    "1. Define the personas as before\n",
    "2. Create the two agents as before.\n",
    "3. Think of an orchestrator example in this domain, perhaps associated with some attribute of the your `scenario`? (e.g. something happens in the middle of the conversation, doctor or patient realize of doing/saying something?)\n",
    "4. Create your custom orchestrator and add it to the doctor and/or patient.\n",
    "5. Make the two agents talk to each other!"
   ]
  },
  {
   "cell_type": "code",
   "execution_count": null,
   "metadata": {},
   "outputs": [],
   "source": [
    "# TODO: do your magic!"
   ]
  }
 ],
 "metadata": {
  "kernelspec": {
   "display_name": "Python 3 (ipykernel)",
   "language": "python",
   "name": "python3"
  },
  "language_info": {
   "codemirror_mode": {
    "name": "ipython",
    "version": 3
   },
   "file_extension": ".py",
   "mimetype": "text/x-python",
   "name": "python",
   "nbconvert_exporter": "python",
   "pygments_lexer": "ipython3",
   "version": "3.10.12"
  }
 },
 "nbformat": 4,
 "nbformat_minor": 4
}
