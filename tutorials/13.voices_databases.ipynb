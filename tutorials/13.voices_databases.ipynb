{
 "cells": [
  {
   "cell_type": "markdown",
   "metadata": {},
   "source": [
    "# SDialog dependencies"
   ]
  },
  {
   "cell_type": "code",
   "execution_count": 1,
   "metadata": {},
   "outputs": [
    {
     "name": "stdout",
     "output_type": "stream",
     "text": [
      "Running in Jupyter Notebook\n"
     ]
    }
   ],
   "source": [
    "# Setup the environment depending on weather we are running in Google Colab or Jupyter Notebook\n",
    "import os\n",
    "from IPython import get_ipython\n",
    "\n",
    "if \"google.colab\" in str(get_ipython()):\n",
    "    print(\"Running on CoLab\")\n",
    "\n",
    "    # Installing Ollama (if you are not planning to use Ollama, you can just comment these lines to speed up the installation)\n",
    "    !curl -fsSL https://ollama.com/install.sh | sh\n",
    "\n",
    "    # Installing sdialog\n",
    "    !git clone https://github.com/qanastek/sdialog.git\n",
    "    %cd sdialog\n",
    "    %pip install -e .\n",
    "    %cd ..\n",
    "else:\n",
    "    print(\"Running in Jupyter Notebook\")\n",
    "    # Little hack to avoid the \"OSError: Background processes not supported.\" error in Jupyter notebooks\"\n",
    "    get_ipython().system = os.system"
   ]
  },
  {
   "cell_type": "markdown",
   "metadata": {},
   "source": [
    "## Locally"
   ]
  },
  {
   "cell_type": "markdown",
   "metadata": {},
   "source": [
    "Create a `.venv` using the root `requirement.txt` file and Python `3.11.14`"
   ]
  },
  {
   "cell_type": "markdown",
   "metadata": {},
   "source": [
    "# Tutorial 13: Voices database"
   ]
  },
  {
   "cell_type": "markdown",
   "metadata": {},
   "source": [
    "## Instanciate voices database from HuggingFace HUB"
   ]
  },
  {
   "cell_type": "code",
   "execution_count": 2,
   "metadata": {},
   "outputs": [
    {
     "name": "stderr",
     "output_type": "stream",
     "text": [
      "/Users/yanislabrak/Desktop/HUB/PostJSALT/sdialog/.venv/lib/python3.11/site-packages/tqdm/auto.py:21: TqdmWarning: IProgress not found. Please update jupyter and ipywidgets. See https://ipywidgets.readthedocs.io/en/stable/user_install.html\n",
      "  from .autonotebook import tqdm as notebook_tqdm\n",
      "Downloading data: 100%|██████████| 2456/2456 [00:00<00:00, 5483.18files/s]\n",
      "Generating train split: 100%|██████████| 2455/2455 [00:00<00:00, 28860.89 examples/s]\n",
      "[2025-10-14 02:39:21] INFO:root:Voice database populated with 2455 voices\n"
     ]
    }
   ],
   "source": [
    "from sdialog.audio.voice_database import HuggingfaceVoiceDatabase\n",
    "voices_libritts = HuggingfaceVoiceDatabase(\"sdialog/voices-libritts\")"
   ]
  },
  {
   "cell_type": "markdown",
   "metadata": {},
   "source": [
    "or if you encounter any issue during the download due to timeout:"
   ]
  },
  {
   "cell_type": "code",
   "execution_count": 3,
   "metadata": {},
   "outputs": [],
   "source": [
    "%%script false --no-raise-error\n",
    "!hf download sdialog/voices-libritts --repo-type dataset"
   ]
  },
  {
   "cell_type": "markdown",
   "metadata": {},
   "source": [
    "If you encounter `We had to rate limit your IP (2a02:8429:4cfb:8b01:5476:95f0:3c2d:9880). To continue using our service, create a HF account or login to your existing account, and make sure you pass a HF_TOKEN if you're using the API.` please follow those steps to login (`hf auth login`) with your HuggingFace account on the huggingface cli: [URL HF CLI DOCS](https://huggingface.co/docs/huggingface_hub/guides/cli#hf-auth-login)"
   ]
  },
  {
   "cell_type": "markdown",
   "metadata": {},
   "source": [
    "Once the database of voice is downloaded and created in the local cache, we will select a voice for a `20` years old `female`."
   ]
  },
  {
   "cell_type": "code",
   "execution_count": 4,
   "metadata": {},
   "outputs": [
    {
     "data": {
      "text/plain": [
       "{'identifier': 3926,\n",
       " 'voice': '/Users/yanislabrak/.cache/huggingface/hub/datasets--sdialog--voices-libritts/snapshots/86e8c47af749a36c479e6a24c264c5c8beb3563c/audio/3926_Denise_Lacey.wav'}"
      ]
     },
     "execution_count": 4,
     "metadata": {},
     "output_type": "execute_result"
    }
   ],
   "source": [
    "voices_libritts.get_voice(gender=\"female\", age=20)"
   ]
  },
  {
   "cell_type": "markdown",
   "metadata": {},
   "source": [
    "You can also prevent voice to be selected twice, expliciting the parameter `keep_duplicate`:"
   ]
  },
  {
   "cell_type": "code",
   "execution_count": 5,
   "metadata": {},
   "outputs": [
    {
     "data": {
      "text/plain": [
       "{'identifier': 1731,\n",
       " 'voice': '/Users/yanislabrak/.cache/huggingface/hub/datasets--sdialog--voices-libritts/snapshots/86e8c47af749a36c479e6a24c264c5c8beb3563c/audio/1731_Dani.wav'}"
      ]
     },
     "execution_count": 5,
     "metadata": {},
     "output_type": "execute_result"
    }
   ],
   "source": [
    "voices_libritts.get_voice(gender=\"female\", age=20, keep_duplicate=False)"
   ]
  },
  {
   "cell_type": "markdown",
   "metadata": {},
   "source": [
    "And when you want to reset this list of used voices you can use:"
   ]
  },
  {
   "cell_type": "code",
   "execution_count": 6,
   "metadata": {},
   "outputs": [],
   "source": [
    "voices_libritts.reset_used_voices()"
   ]
  },
  {
   "cell_type": "markdown",
   "metadata": {},
   "source": [
    "## Custom local voice database"
   ]
  },
  {
   "cell_type": "markdown",
   "metadata": {},
   "source": [
    "Download voices from our `demo` repository."
   ]
  },
  {
   "cell_type": "code",
   "execution_count": 7,
   "metadata": {},
   "outputs": [
    {
     "name": "stderr",
     "output_type": "stream",
     "text": [
      "--2025-10-14 02:39:22--  https://raw.githubusercontent.com/qanastek/sdialog/refs/heads/main/tests/data/my_custom_voices.zip\n",
      "Resolving raw.githubusercontent.com (raw.githubusercontent.com)... 2606:50c0:8002::154, 2606:50c0:8003::154, 2606:50c0:8000::154, ...\n",
      "Connecting to raw.githubusercontent.com (raw.githubusercontent.com)|2606:50c0:8002::154|:443... connected.\n",
      "HTTP request sent, awaiting response... 200 OK\n",
      "Length: 6636196 (6.3M) [application/zip]\n",
      "Saving to: ‘my_custom_voices.zip’\n",
      "\n",
      "     0K .......... .......... .......... .......... ..........  0% 3.12M 2s\n",
      "    50K .......... .......... .......... .......... ..........  1% 9.03M 1s\n",
      "   100K .......... .......... .......... .......... ..........  2% 6.54M 1s\n",
      "   150K .......... .......... .......... .......... ..........  3% 16.7M 1s\n",
      "   200K .......... .......... .......... .......... ..........  3% 6.44M 1s\n",
      "   250K .......... .......... .......... .......... ..........  4% 20.7M 1s\n",
      "   300K .......... .......... .......... .......... ..........  5% 31.8M 1s\n",
      "   350K .......... .......... .......... .......... ..........  6% 33.6M 1s\n",
      "   400K .......... .......... .......... .......... ..........  6% 30.2M 1s\n",
      "   450K .......... .......... .......... .......... ..........  7% 37.1M 1s\n",
      "   500K .......... .......... .......... .......... ..........  8% 9.97M 1s\n",
      "   550K .......... .......... .......... .......... ..........  9% 25.9M 1s\n",
      "   600K .......... .......... .......... .......... .......... 10% 39.4M 0s\n",
      "   650K .......... .......... .......... .......... .......... 10% 34.8M 0s\n",
      "   700K .......... .......... .......... .......... .......... 11%  113M 0s\n",
      "   750K .......... .......... .......... .......... .......... 12% 96.9M 0s\n",
      "   800K .......... .......... .......... .......... .......... 13% 72.3M 0s\n",
      "   850K .......... .......... .......... .......... .......... 13% 30.4M 0s\n",
      "   900K .......... .......... .......... .......... .......... 14%  157M 0s\n",
      "   950K .......... .......... .......... .......... .......... 15% 95.7M 0s\n",
      "  1000K .......... .......... .......... .......... .......... 16% 10.4M 0s\n",
      "  1050K .......... .......... .......... .......... .......... 16%  145M 0s\n",
      "  1100K .......... .......... .......... .......... .......... 17% 17.7M 0s\n",
      "  1150K .......... .......... .......... .......... .......... 18%  150M 0s\n",
      "  1200K .......... .......... .......... .......... .......... 19%  410M 0s\n",
      "  1250K .......... .......... .......... .......... .......... 20%  417M 0s\n",
      "  1300K .......... .......... .......... .......... .......... 20%  470M 0s\n",
      "  1350K .......... .......... .......... .......... .......... 21% 69.6M 0s\n",
      "  1400K .......... .......... .......... .......... .......... 22%  161M 0s\n",
      "  1450K .......... .......... .......... .......... .......... 23%  127M 0s\n",
      "  1500K .......... .......... .......... .......... .......... 23% 87.8M 0s\n",
      "  1550K .......... .......... .......... .......... .......... 24%  120M 0s\n",
      "  1600K .......... .......... .......... .......... .......... 25%  105M 0s\n",
      "  1650K .......... .......... .......... .......... .......... 26%  142M 0s\n",
      "  1700K .......... .......... .......... .......... .......... 27%  109M 0s\n",
      "  1750K .......... .......... .......... .......... .......... 27% 92.0M 0s\n",
      "  1800K .......... .......... .......... .......... .......... 28%  136M 0s\n",
      "  1850K .......... .......... .......... .......... .......... 29%  116M 0s\n",
      "  1900K .......... .......... .......... .......... .......... 30% 67.3M 0s\n",
      "  1950K .......... .......... .......... .......... .......... 30%  143M 0s\n",
      "  2000K .......... .......... .......... .......... .......... 31% 15.9M 0s\n",
      "  2050K .......... .......... .......... .......... .......... 32% 62.4M 0s\n",
      "  2100K .......... .......... .......... .......... .......... 33%  144M 0s\n",
      "  2150K .......... .......... .......... .......... .......... 33% 95.2M 0s\n",
      "  2200K .......... .......... .......... .......... .......... 34% 92.3M 0s\n",
      "  2250K .......... .......... .......... .......... .......... 35% 27.9M 0s\n",
      "  2300K .......... .......... .......... .......... .......... 36%  153M 0s\n",
      "  2350K .......... .......... .......... .......... .......... 37% 10.7M 0s\n",
      "  2400K .......... .......... .......... .......... .......... 37%  263M 0s\n",
      "  2450K .......... .......... .......... .......... .......... 38%  414M 0s\n",
      "  2500K .......... .......... .......... .......... .......... 39%  257M 0s\n",
      "  2550K .......... .......... .......... .......... .......... 40%  305M 0s\n",
      "  2600K .......... .......... .......... .......... .......... 40%  205M 0s\n",
      "  2650K .......... .......... .......... .......... .......... 41%  307M 0s\n",
      "  2700K .......... .......... .......... .......... .......... 42%  205M 0s\n",
      "  2750K .......... .......... .......... .......... .......... 43%  256M 0s\n",
      "  2800K .......... .......... .......... .......... .......... 43%  292M 0s\n",
      "  2850K .......... .......... .......... .......... .......... 44%  236M 0s\n",
      "  2900K .......... .......... .......... .......... .......... 45%  217M 0s\n",
      "  2950K .......... .......... .......... .......... .......... 46%  234M 0s\n",
      "  3000K .......... .......... .......... .......... .......... 47%  287M 0s\n",
      "  3050K .......... .......... .......... .......... .......... 47%  148M 0s\n",
      "  3100K .......... .......... .......... .......... .......... 48% 86.4M 0s\n",
      "  3150K .......... .......... .......... .......... .......... 49%  351M 0s\n",
      "  3200K .......... .......... .......... .......... .......... 50%  131M 0s\n",
      "  3250K .......... .......... .......... .......... .......... 50%  231M 0s\n",
      "  3300K .......... .......... .......... .......... .......... 51% 41.7M 0s\n",
      "  3350K .......... .......... .......... .......... .......... 52% 65.1M 0s\n",
      "  3400K .......... .......... .......... .......... .......... 53% 76.1M 0s\n",
      "  3450K .......... .......... .......... .......... .......... 54%  243M 0s\n",
      "  3500K .......... .......... .......... .......... .......... 54%  307M 0s\n",
      "  3550K .......... .......... .......... .......... .......... 55%  303M 0s\n",
      "  3600K .......... .......... .......... .......... .......... 56%  230M 0s\n",
      "  3650K .......... .......... .......... .......... .......... 57%  197M 0s\n",
      "  3700K .......... .......... .......... .......... .......... 57%  244M 0s\n",
      "  3750K .......... .......... .......... .......... .......... 58% 99.0M 0s\n",
      "  3800K .......... .......... .......... .......... .......... 59%  162M 0s\n",
      "  3850K .......... .......... .......... .......... .......... 60% 95.6M 0s\n",
      "  3900K .......... .......... .......... .......... .......... 60%  108M 0s\n",
      "  3950K .......... .......... .......... .......... .......... 61% 80.6M 0s\n",
      "  4000K .......... .......... .......... .......... .......... 62% 99.2M 0s\n",
      "  4050K .......... .......... .......... .......... .......... 63% 95.7M 0s\n",
      "  4100K .......... .......... .......... .......... .......... 64% 95.4M 0s\n",
      "  4150K .......... .......... .......... .......... .......... 64% 76.5M 0s\n",
      "  4200K .......... .......... .......... .......... .......... 65%  169M 0s\n",
      "  4250K .......... .......... .......... .......... .......... 66%  157M 0s\n",
      "  4300K .......... .......... .......... .......... .......... 67%  143M 0s\n",
      "  4350K .......... .......... .......... .......... .......... 67%  120M 0s\n",
      "  4400K .......... .......... .......... .......... .......... 68%  126M 0s\n",
      "  4450K .......... .......... .......... .......... .......... 69%  142M 0s\n",
      "  4500K .......... .......... .......... .......... .......... 70%  145M 0s\n",
      "  4550K .......... .......... .......... .......... .......... 70% 89.8M 0s\n",
      "  4600K .......... .......... .......... .......... .......... 71%  120M 0s\n",
      "  4650K .......... .......... .......... .......... .......... 72%  137M 0s\n",
      "  4700K .......... .......... .......... .......... .......... 73%  102M 0s\n",
      "  4750K .......... .......... .......... .......... .......... 74% 87.3M 0s\n",
      "  4800K .......... .......... .......... .......... .......... 74%  113M 0s\n",
      "  4850K .......... .......... .......... .......... .......... 75% 98.8M 0s\n",
      "  4900K .......... .......... .......... .......... .......... 76%  148M 0s\n",
      "  4950K .......... .......... .......... .......... .......... 77%  102M 0s\n",
      "  5000K .......... .......... .......... .......... .......... 77%  130M 0s\n",
      "  5050K .......... .......... .......... .......... .......... 78%  105M 0s\n",
      "  5100K .......... .......... .......... .......... .......... 79%  100M 0s\n",
      "  5150K .......... .......... .......... .......... .......... 80%  151M 0s\n",
      "  5200K .......... .......... .......... .......... .......... 81% 73.6M 0s\n",
      "  5250K .......... .......... .......... .......... .......... 81%  138M 0s\n",
      "  5300K .......... .......... .......... .......... .......... 82%  104M 0s\n",
      "  5350K .......... .......... .......... .......... .......... 83%  150M 0s\n",
      "  5400K .......... .......... .......... .......... .......... 84% 94.8M 0s\n",
      "  5450K .......... .......... .......... .......... .......... 84%  146M 0s\n",
      "  5500K .......... .......... .......... .......... .......... 85%  105M 0s\n",
      "  5550K .......... .......... .......... .......... .......... 86%  132M 0s\n",
      "  5600K .......... .......... .......... .......... .......... 87% 75.7M 0s\n",
      "  5650K .......... .......... .......... .......... .......... 87%  145M 0s\n",
      "  5700K .......... .......... .......... .......... .......... 88%  963K 0s\n",
      "  5750K .......... .......... .......... .......... .......... 89%  958K 0s\n",
      "  5800K .......... .......... .......... .......... .......... 90% 3.64M 0s\n",
      "  5850K .......... .......... .......... .......... .......... 91% 3.75M 0s\n",
      "  5900K .......... .......... .......... .......... .......... 91% 3.82M 0s\n",
      "  5950K .......... .......... .......... .......... .......... 92% 3.74M 0s\n",
      "  6000K .......... .......... .......... .......... .......... 93%  163M 0s\n",
      "  6050K .......... .......... .......... .......... .......... 94% 3.68M 0s\n",
      "  6100K .......... .......... .......... .......... .......... 94%  300M 0s\n",
      "  6150K .......... .......... .......... .......... .......... 95% 3.55M 0s\n",
      "  6200K .......... .......... .......... .......... .......... 96% 90.8M 0s\n",
      "  6250K .......... .......... .......... .......... .......... 97%  257M 0s\n",
      "  6300K .......... .......... .......... .......... .......... 97%  171M 0s\n",
      "  6350K .......... .......... .......... .......... .......... 98% 4.70M 0s\n",
      "  6400K .......... .......... .......... .......... .......... 99% 37.7M 0s\n",
      "  6450K .......... .......... ..........                      100% 46.6M=0.3s\n",
      "\n",
      "2025-10-14 02:39:22 (20.5 MB/s) - ‘my_custom_voices.zip’ saved [6636196/6636196]\n",
      "\n"
     ]
    },
    {
     "name": "stdout",
     "output_type": "stream",
     "text": [
      "Archive:  my_custom_voices.zip\n",
      "   creating: my_custom_voices\n",
      "  inflating: my_custom_voices/yanis.wav  \n",
      "  inflating: my_custom_voices/metadata.tsv  \n",
      "  inflating: my_custom_voices/metadata.json  \n",
      "  inflating: my_custom_voices/thomas.wav  \n",
      "  inflating: my_custom_voices/metadata.csv  \n"
     ]
    }
   ],
   "source": [
    "import os\n",
    "\n",
    "# If directory my_custom_voices is not present, download it\n",
    "if os.path.exists(\"my_custom_voices\"):\n",
    "    print(\"my_custom_voices already exists\")\n",
    "else:\n",
    "    !wget https://raw.githubusercontent.com/qanastek/sdialog/refs/heads/main/tests/data/my_custom_voices.zip\n",
    "    !unzip my_custom_voices.zip\n",
    "    !rm my_custom_voices.zip"
   ]
  },
  {
   "cell_type": "markdown",
   "metadata": {},
   "source": [
    "Once the voices are downloaded in the directory `./my_custom_voices/`, we will create the metadata file that contains the ages, genders and the corresponding voice file for each of the speakers."
   ]
  },
  {
   "cell_type": "code",
   "execution_count": 8,
   "metadata": {},
   "outputs": [],
   "source": [
    "from sdialog.audio.voice_database import LocalVoiceDatabase"
   ]
  },
  {
   "cell_type": "markdown",
   "metadata": {},
   "source": [
    "With CSV metadata file:"
   ]
  },
  {
   "cell_type": "code",
   "execution_count": 9,
   "metadata": {},
   "outputs": [
    {
     "name": "stderr",
     "output_type": "stream",
     "text": [
      "[2025-10-14 02:39:22] INFO:root:Voice database populated with 4 voices\n"
     ]
    },
    {
     "data": {
      "text/plain": [
       "{'identifier': 4,\n",
       " 'voice': '/Users/yanislabrak/Desktop/HUB/PostJSALT/sdialog/tutorials/my_custom_voices/yanis.wav'}"
      ]
     },
     "execution_count": 9,
     "metadata": {},
     "output_type": "execute_result"
    }
   ],
   "source": [
    "voice_database = LocalVoiceDatabase(\n",
    "    directory_audios=\"./my_custom_voices/\",\n",
    "    metadata_file=\"./my_custom_voices/metadata.csv\"\n",
    ")\n",
    "voice_database.get_voice(gender=\"female\", age=20)"
   ]
  },
  {
   "cell_type": "markdown",
   "metadata": {},
   "source": [
    "With TSV metadata file:"
   ]
  },
  {
   "cell_type": "code",
   "execution_count": 10,
   "metadata": {},
   "outputs": [
    {
     "name": "stderr",
     "output_type": "stream",
     "text": [
      "[2025-10-14 02:39:22] INFO:root:Voice database populated with 4 voices\n"
     ]
    },
    {
     "data": {
      "text/plain": [
       "{'identifier': 3,\n",
       " 'voice': '/Users/yanislabrak/Desktop/HUB/PostJSALT/sdialog/tutorials/my_custom_voices/thomas.wav'}"
      ]
     },
     "execution_count": 10,
     "metadata": {},
     "output_type": "execute_result"
    }
   ],
   "source": [
    "voice_database = LocalVoiceDatabase(\n",
    "    directory_audios=\"./my_custom_voices/\",\n",
    "    metadata_file=\"./my_custom_voices/metadata.tsv\"\n",
    ")\n",
    "voice_database.get_voice(gender=\"female\", age=21)"
   ]
  },
  {
   "cell_type": "markdown",
   "metadata": {},
   "source": [
    "With JSON metadata file:"
   ]
  },
  {
   "cell_type": "code",
   "execution_count": 11,
   "metadata": {},
   "outputs": [
    {
     "name": "stderr",
     "output_type": "stream",
     "text": [
      "[2025-10-14 02:39:22] INFO:root:Voice database populated with 4 voices\n"
     ]
    }
   ],
   "source": [
    "voice_database = LocalVoiceDatabase(\n",
    "    directory_audios=\"./my_custom_voices/\",\n",
    "    metadata_file=\"./my_custom_voices/metadata.json\"\n",
    ")"
   ]
  },
  {
   "cell_type": "code",
   "execution_count": 12,
   "metadata": {},
   "outputs": [
    {
     "data": {
      "text/plain": [
       "{'identifier': 4,\n",
       " 'voice': '/Users/yanislabrak/Desktop/HUB/PostJSALT/sdialog/tutorials/my_custom_voices/yanis.wav'}"
      ]
     },
     "execution_count": 12,
     "metadata": {},
     "output_type": "execute_result"
    }
   ],
   "source": [
    "voice_database.get_voice(gender=\"female\", age=20)"
   ]
  },
  {
   "cell_type": "markdown",
   "metadata": {},
   "source": [
    "# Language specific voices"
   ]
  },
  {
   "cell_type": "markdown",
   "metadata": {},
   "source": [
    "By default all the voices are imported or fetch from/in the database is `english` if no language is specified.\n",
    "\n",
    "Otherwise, you are able to mention the language you want to work with when you add or get a voice as shown in the following code snippet:"
   ]
  },
  {
   "cell_type": "code",
   "execution_count": 13,
   "metadata": {},
   "outputs": [
    {
     "name": "stderr",
     "output_type": "stream",
     "text": [
      "[2025-10-14 02:39:22] INFO:root:Voice database populated with 4 voices\n"
     ]
    }
   ],
   "source": [
    "voice_database = LocalVoiceDatabase(\n",
    "    directory_audios=\"./my_custom_voices/\",\n",
    "    metadata_file=\"./my_custom_voices/metadata.json\"\n",
    ")"
   ]
  },
  {
   "cell_type": "code",
   "execution_count": 14,
   "metadata": {},
   "outputs": [],
   "source": [
    "voice_database.add_voice(\n",
    "    gender=\"female\",\n",
    "    age=42,\n",
    "    identifier=\"french_female_42\",\n",
    "    path=\"./my_custom_voices/french_female_42.wav\",\n",
    "    lang=\"french\"\n",
    ")"
   ]
  },
  {
   "cell_type": "markdown",
   "metadata": {},
   "source": [
    "Now that a French voice is available in the database, we can retrieve it."
   ]
  },
  {
   "cell_type": "code",
   "execution_count": 15,
   "metadata": {},
   "outputs": [
    {
     "data": {
      "text/plain": [
       "{'identifier': 'french_female_42',\n",
       " 'voice': './my_custom_voices/french_female_42.wav'}"
      ]
     },
     "execution_count": 15,
     "metadata": {},
     "output_type": "execute_result"
    }
   ],
   "source": [
    "voice_database.get_voice(gender=\"female\", age=20, lang=\"french\")"
   ]
  },
  {
   "cell_type": "markdown",
   "metadata": {},
   "source": [
    "But if no voice are available in the targetted language, an error will be thrown:"
   ]
  },
  {
   "cell_type": "code",
   "execution_count": 16,
   "metadata": {},
   "outputs": [
    {
     "name": "stdout",
     "output_type": "stream",
     "text": [
      "Normal error in this case: Language hindi not found in the database\n"
     ]
    }
   ],
   "source": [
    "try:\n",
    "    voice_database.get_voice(gender=\"female\", age=20, lang=\"hindi\")\n",
    "except ValueError as e:\n",
    "    print(\"Normal error in this case:\", e)"
   ]
  }
 ],
 "metadata": {
  "kernelspec": {
   "display_name": "Python 3",
   "language": "python",
   "name": "python3"
  },
  "language_info": {
   "codemirror_mode": {
    "name": "ipython",
    "version": 3
   },
   "file_extension": ".py",
   "mimetype": "text/x-python",
   "name": "python",
   "nbconvert_exporter": "python",
   "pygments_lexer": "ipython3",
   "version": "3.11.14"
  }
 },
 "nbformat": 4,
 "nbformat_minor": 2
}
