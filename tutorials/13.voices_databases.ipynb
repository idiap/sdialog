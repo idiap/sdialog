{
 "cells": [
  {
   "cell_type": "markdown",
   "metadata": {},
   "source": [
    "# SDialog dependencies"
   ]
  },
  {
   "cell_type": "code",
   "execution_count": 1,
   "metadata": {},
   "outputs": [
    {
     "name": "stdout",
     "output_type": "stream",
     "text": [
      "Running in Jupyter Notebook\n"
     ]
    }
   ],
   "source": [
    "# Setup the environment depending on weather we are running in Google Colab or Jupyter Notebook\n",
    "import os\n",
    "from IPython import get_ipython\n",
    "\n",
    "if \"google.colab\" in str(get_ipython()):\n",
    "    print(\"Running on CoLab\")\n",
    "\n",
    "    # Installing Ollama (if you are not planning to use Ollama, you can just comment these lines to speed up the installation)\n",
    "    !curl -fsSL https://ollama.com/install.sh | sh\n",
    "\n",
    "    # Installing sdialog\n",
    "    !git clone https://github.com/qanastek/sdialog.git\n",
    "    %cd sdialog\n",
    "    %pip install -e .\n",
    "    %cd ..\n",
    "else:\n",
    "    print(\"Running in Jupyter Notebook\")\n",
    "    # Little hack to avoid the \"OSError: Background processes not supported.\" error in Jupyter notebooks\"\n",
    "    get_ipython().system = os.system"
   ]
  },
  {
   "cell_type": "markdown",
   "metadata": {},
   "source": [
    "## Local installation"
   ]
  },
  {
   "cell_type": "markdown",
   "metadata": {},
   "source": [
    "Create a `.venv` using the root `requirement.txt` file and Python `3.11.14`"
   ]
  },
  {
   "cell_type": "markdown",
   "metadata": {},
   "source": [
    "# Tutorial 13: Voices database"
   ]
  },
  {
   "cell_type": "markdown",
   "metadata": {},
   "source": [
    "## Instanciate voices database from HuggingFace HUB"
   ]
  },
  {
   "cell_type": "code",
   "execution_count": 2,
   "metadata": {},
   "outputs": [
    {
     "name": "stderr",
     "output_type": "stream",
     "text": [
      "/Users/yanislabrak/Desktop/HUB/PostJSALT/sdialog/.venv/lib/python3.11/site-packages/tqdm/auto.py:21: TqdmWarning: IProgress not found. Please update jupyter and ipywidgets. See https://ipywidgets.readthedocs.io/en/stable/user_install.html\n",
      "  from .autonotebook import tqdm as notebook_tqdm\n",
      "[2025-10-17 23:16:42] INFO:root:Voice database populated with 2455 voices\n"
     ]
    }
   ],
   "source": [
    "from sdialog.audio.voice_database import HuggingfaceVoiceDatabase\n",
    "voices_libritts = HuggingfaceVoiceDatabase(\"sdialog/voices-libritts\")"
   ]
  },
  {
   "cell_type": "markdown",
   "metadata": {},
   "source": [
    "or if you encounter any issue during the download due to timeout:"
   ]
  },
  {
   "cell_type": "code",
   "execution_count": 3,
   "metadata": {},
   "outputs": [],
   "source": [
    "%%script false --no-raise-error\n",
    "!hf download sdialog/voices-libritts --repo-type dataset"
   ]
  },
  {
   "cell_type": "markdown",
   "metadata": {},
   "source": [
    "If you encounter `We had to rate limit your IP (2a02:8429:4cfb:8b01:5476:95f0:3c2d:9880). To continue using our service, create a HF account or login to your existing account, and make sure you pass a HF_TOKEN if you're using the API.` please follow those steps to login (`hf auth login`) with your HuggingFace account on the huggingface cli: [URL HF CLI DOCS](https://huggingface.co/docs/huggingface_hub/guides/cli#hf-auth-login)"
   ]
  },
  {
   "cell_type": "markdown",
   "metadata": {},
   "source": [
    "Once the database of voice is downloaded and created in the local cache, we will select a voice for a `20` years old `female`."
   ]
  },
  {
   "cell_type": "code",
   "execution_count": 4,
   "metadata": {},
   "outputs": [
    {
     "data": {
      "text/plain": [
       "Voice(gender='female', age=-1, identifier='8197', voice='/Users/yanislabrak/.cache/huggingface/hub/datasets--sdialog--voices-libritts/snapshots/9bc6e21fcd960dc8e0843fd840cd7ced0ed5feb5/audio/8197_Victoria_P.wav', language='english', language_code='e')"
      ]
     },
     "execution_count": 4,
     "metadata": {},
     "output_type": "execute_result"
    }
   ],
   "source": [
    "voices_libritts.get_voice(gender=\"female\", age=20)"
   ]
  },
  {
   "cell_type": "markdown",
   "metadata": {},
   "source": [
    "You can also prevent voice to be selected twice, expliciting the parameter `keep_duplicate`:"
   ]
  },
  {
   "cell_type": "code",
   "execution_count": 5,
   "metadata": {},
   "outputs": [
    {
     "data": {
      "text/plain": [
       "Voice(gender='female', age=-1, identifier='4116', voice='/Users/yanislabrak/.cache/huggingface/hub/datasets--sdialog--voices-libritts/snapshots/9bc6e21fcd960dc8e0843fd840cd7ced0ed5feb5/audio/4116_Amy_Benton.wav', language='english', language_code='e')"
      ]
     },
     "execution_count": 5,
     "metadata": {},
     "output_type": "execute_result"
    }
   ],
   "source": [
    "voices_libritts.get_voice(gender=\"female\", age=20, keep_duplicate=False)"
   ]
  },
  {
   "cell_type": "markdown",
   "metadata": {},
   "source": [
    "And when you want to reset this list of used voices you can use:"
   ]
  },
  {
   "cell_type": "code",
   "execution_count": 6,
   "metadata": {},
   "outputs": [],
   "source": [
    "voices_libritts.reset_used_voices()"
   ]
  },
  {
   "cell_type": "markdown",
   "metadata": {},
   "source": [
    "### You can also use HuggingFace datasets that store names of pre-defined voices like for Kokoro"
   ]
  },
  {
   "cell_type": "code",
   "execution_count": 7,
   "metadata": {},
   "outputs": [
    {
     "name": "stderr",
     "output_type": "stream",
     "text": [
      "[2025-10-17 23:16:44] INFO:root:Voice database populated with 54 voices\n"
     ]
    }
   ],
   "source": [
    "from sdialog.audio.voice_database import HuggingfaceVoiceDatabase\n",
    "voices_kokoro = HuggingfaceVoiceDatabase(\"sdialog/voices-kokoro\")"
   ]
  },
  {
   "cell_type": "code",
   "execution_count": 8,
   "metadata": {},
   "outputs": [
    {
     "name": "stdout",
     "output_type": "stream",
     "text": [
      "### Voice Database Statistics\n",
      "\n",
      "\n",
      "\n",
      "#### Overall\n",
      "\n",
      "Number of languages: 8\n",
      "Total voices: 54\n",
      "By gender: male: 25, female: 29\n",
      "Ages (first 10 bins sorted): 0:54\n",
      "\n",
      "\n",
      "\n",
      "#### By Language (summary)\n",
      "\n",
      "| dataset    |   total |   male |   female |   unique_speakers |   age_min |   age_mean |   age_max | codes   |\n",
      "|:-----------|--------:|-------:|---------:|------------------:|----------:|-----------:|----------:|:--------|\n",
      "| english    |      28 |     13 |       15 |                28 |         0 |       0.00 |         0 | a,b     |\n",
      "| chinese    |       8 |      4 |        4 |                 8 |         0 |       0.00 |         0 | z       |\n",
      "| japanese   |       5 |      1 |        4 |                 5 |         0 |       0.00 |         0 | j       |\n",
      "| hindi      |       4 |      2 |        2 |                 4 |         0 |       0.00 |         0 | h       |\n",
      "| spanish    |       3 |      2 |        1 |                 3 |         0 |       0.00 |         0 | e       |\n",
      "| portuguese |       3 |      2 |        1 |                 3 |         0 |       0.00 |         0 | p       |\n",
      "| italian    |       2 |      1 |        1 |                 2 |         0 |       0.00 |         0 | i       |\n",
      "| french     |       1 |      0 |        1 |                 1 |         0 |       0.00 |         0 | f       |\n",
      "\n",
      "\n",
      "\n",
      "#### english — gender/age distribution\n",
      "\n",
      "|   dataset |   female |   male |\n",
      "|----------:|---------:|-------:|\n",
      "|         0 |    15.00 |  13.00 |\n",
      "\n",
      "\n",
      "\n",
      "#### japanese — gender/age distribution\n",
      "\n",
      "|   dataset |   female |   male |\n",
      "|----------:|---------:|-------:|\n",
      "|         0 |     4.00 |   1.00 |\n",
      "\n",
      "\n",
      "\n",
      "#### chinese — gender/age distribution\n",
      "\n",
      "|   dataset |   female |   male |\n",
      "|----------:|---------:|-------:|\n",
      "|         0 |     4.00 |   4.00 |\n",
      "\n",
      "\n",
      "\n",
      "#### spanish — gender/age distribution\n",
      "\n",
      "|   dataset |   female |   male |\n",
      "|----------:|---------:|-------:|\n",
      "|         0 |     1.00 |   2.00 |\n",
      "\n",
      "\n",
      "\n",
      "#### french — gender/age distribution\n",
      "\n",
      "|   dataset |   female |\n",
      "|----------:|---------:|\n",
      "|         0 |     1.00 |\n",
      "\n",
      "\n",
      "\n",
      "#### hindi — gender/age distribution\n",
      "\n",
      "|   dataset |   female |   male |\n",
      "|----------:|---------:|-------:|\n",
      "|         0 |     2.00 |   2.00 |\n",
      "\n",
      "\n",
      "\n",
      "#### italian — gender/age distribution\n",
      "\n",
      "|   dataset |   female |   male |\n",
      "|----------:|---------:|-------:|\n",
      "|         0 |     1.00 |   1.00 |\n",
      "\n",
      "\n",
      "\n",
      "#### portuguese — gender/age distribution\n",
      "\n",
      "|   dataset |   female |   male |\n",
      "|----------:|---------:|-------:|\n",
      "|         0 |     1.00 |   2.00 |\n"
     ]
    }
   ],
   "source": [
    "print(voices_kokoro.get_statistics(pretty=True))"
   ]
  },
  {
   "cell_type": "markdown",
   "metadata": {},
   "source": [
    "## Custom local voice database"
   ]
  },
  {
   "cell_type": "markdown",
   "metadata": {},
   "source": [
    "Download voices from our `demo` repository."
   ]
  },
  {
   "cell_type": "code",
   "execution_count": 9,
   "metadata": {},
   "outputs": [
    {
     "name": "stdout",
     "output_type": "stream",
     "text": [
      "my_custom_voices already exists\n"
     ]
    }
   ],
   "source": [
    "import os\n",
    "\n",
    "# If directory my_custom_voices is not present, download it\n",
    "if os.path.exists(\"my_custom_voices\"):\n",
    "    print(\"my_custom_voices already exists\")\n",
    "else:\n",
    "    !wget https://raw.githubusercontent.com/qanastek/sdialog/refs/heads/main/tests/data/my_custom_voices.zip\n",
    "    !unzip my_custom_voices.zip\n",
    "    !rm my_custom_voices.zip"
   ]
  },
  {
   "cell_type": "markdown",
   "metadata": {},
   "source": [
    "Once the voices are downloaded in the directory `./my_custom_voices/`, we will create the metadata file that contains the ages, genders and the corresponding voice file for each of the speakers."
   ]
  },
  {
   "cell_type": "code",
   "execution_count": 10,
   "metadata": {},
   "outputs": [],
   "source": [
    "from sdialog.audio.voice_database import LocalVoiceDatabase"
   ]
  },
  {
   "cell_type": "markdown",
   "metadata": {},
   "source": [
    "With CSV metadata file:"
   ]
  },
  {
   "cell_type": "code",
   "execution_count": 11,
   "metadata": {},
   "outputs": [
    {
     "name": "stderr",
     "output_type": "stream",
     "text": [
      "[2025-10-17 23:16:44] INFO:root:Voice database populated with 4 voices\n"
     ]
    },
    {
     "data": {
      "text/plain": [
       "Voice(gender='female', age=20, identifier='4', voice='/Users/yanislabrak/Desktop/HUB/PostJSALT/sdialog/tutorials/my_custom_voices/yanis.wav', language='english', language_code='e')"
      ]
     },
     "execution_count": 11,
     "metadata": {},
     "output_type": "execute_result"
    }
   ],
   "source": [
    "voice_database = LocalVoiceDatabase(\n",
    "    directory_audios=\"./my_custom_voices/\",\n",
    "    metadata_file=\"./my_custom_voices/metadata.csv\"\n",
    ")\n",
    "voice_database.get_voice(gender=\"female\", age=20)"
   ]
  },
  {
   "cell_type": "markdown",
   "metadata": {},
   "source": [
    "With TSV metadata file:"
   ]
  },
  {
   "cell_type": "code",
   "execution_count": 12,
   "metadata": {},
   "outputs": [
    {
     "name": "stderr",
     "output_type": "stream",
     "text": [
      "[2025-10-17 23:16:45] INFO:root:Voice database populated with 4 voices\n"
     ]
    },
    {
     "data": {
      "text/plain": [
       "Voice(gender='female', age=21, identifier='3', voice='/Users/yanislabrak/Desktop/HUB/PostJSALT/sdialog/tutorials/my_custom_voices/thomas.wav', language='english', language_code='e')"
      ]
     },
     "execution_count": 12,
     "metadata": {},
     "output_type": "execute_result"
    }
   ],
   "source": [
    "voice_database = LocalVoiceDatabase(\n",
    "    directory_audios=\"./my_custom_voices/\",\n",
    "    metadata_file=\"./my_custom_voices/metadata.tsv\"\n",
    ")\n",
    "voice_database.get_voice(gender=\"female\", age=21)"
   ]
  },
  {
   "cell_type": "markdown",
   "metadata": {},
   "source": [
    "With JSON metadata file:"
   ]
  },
  {
   "cell_type": "code",
   "execution_count": 13,
   "metadata": {},
   "outputs": [
    {
     "name": "stderr",
     "output_type": "stream",
     "text": [
      "[2025-10-17 23:16:45] INFO:root:Voice database populated with 4 voices\n"
     ]
    }
   ],
   "source": [
    "voice_database = LocalVoiceDatabase(\n",
    "    directory_audios=\"./my_custom_voices/\",\n",
    "    metadata_file=\"./my_custom_voices/metadata.json\"\n",
    ")"
   ]
  },
  {
   "cell_type": "code",
   "execution_count": 14,
   "metadata": {},
   "outputs": [
    {
     "data": {
      "text/plain": [
       "Voice(gender='female', age=20, identifier='4', voice='/Users/yanislabrak/Desktop/HUB/PostJSALT/sdialog/tutorials/my_custom_voices/yanis.wav', language='english', language_code='e')"
      ]
     },
     "execution_count": 14,
     "metadata": {},
     "output_type": "execute_result"
    }
   ],
   "source": [
    "voice_database.get_voice(gender=\"female\", age=20)"
   ]
  },
  {
   "cell_type": "markdown",
   "metadata": {},
   "source": [
    "# Language specific voices"
   ]
  },
  {
   "cell_type": "markdown",
   "metadata": {},
   "source": [
    "By default all the voices are imported or fetch from/in the database is `english` if no language is specified.\n",
    "\n",
    "Otherwise, you are able to mention the language you want to work with when you add or get a voice as shown in the following code snippet:"
   ]
  },
  {
   "cell_type": "code",
   "execution_count": 15,
   "metadata": {},
   "outputs": [
    {
     "name": "stderr",
     "output_type": "stream",
     "text": [
      "[2025-10-17 23:16:45] INFO:root:Voice database populated with 4 voices\n"
     ]
    }
   ],
   "source": [
    "voice_database = LocalVoiceDatabase(\n",
    "    directory_audios=\"./my_custom_voices/\",\n",
    "    metadata_file=\"./my_custom_voices/metadata.json\"\n",
    ")"
   ]
  },
  {
   "cell_type": "code",
   "execution_count": 16,
   "metadata": {},
   "outputs": [
    {
     "name": "stdout",
     "output_type": "stream",
     "text": [
      "### Voice Database Statistics\n",
      "\n",
      "\n",
      "\n",
      "#### Overall\n",
      "\n",
      "Number of languages: 1\n",
      "Total voices: 4\n",
      "By gender: male: 2, female: 2\n",
      "Ages (first 10 bins sorted): 20:2, 21:2\n",
      "\n",
      "\n",
      "\n",
      "#### By Language (summary)\n",
      "\n",
      "| dataset   |   total |   male |   female |   unique_speakers |   age_min |   age_mean |   age_max | codes   |\n",
      "|:----------|--------:|-------:|---------:|------------------:|----------:|-----------:|----------:|:--------|\n",
      "| english   |       4 |      2 |        2 |                 4 |        20 |      20.50 |        21 | e       |\n",
      "\n",
      "\n",
      "\n",
      "#### english — gender/age distribution\n",
      "\n",
      "|   dataset |   female |   male |\n",
      "|----------:|---------:|-------:|\n",
      "|        20 |     1.00 |   1.00 |\n",
      "|        21 |     1.00 |   1.00 |\n"
     ]
    }
   ],
   "source": [
    "print(voice_database.get_statistics(pretty=True))"
   ]
  },
  {
   "cell_type": "code",
   "execution_count": 17,
   "metadata": {},
   "outputs": [],
   "source": [
    "voice_database.add_voice(\n",
    "    gender=\"female\",\n",
    "    age=42,\n",
    "    identifier=\"french_female_42\",\n",
    "    voice=\"./my_custom_voices/french_female_42.wav\",\n",
    "    lang=\"french\",\n",
    "    language_code=\"f\"\n",
    ")"
   ]
  },
  {
   "cell_type": "markdown",
   "metadata": {},
   "source": [
    "Now that a French voice is available in the database, we can retrieve it."
   ]
  },
  {
   "cell_type": "code",
   "execution_count": 18,
   "metadata": {},
   "outputs": [
    {
     "data": {
      "text/plain": [
       "Voice(gender='female', age=42, identifier='french_female_42', voice='./my_custom_voices/french_female_42.wav', language='french', language_code='f')"
      ]
     },
     "execution_count": 18,
     "metadata": {},
     "output_type": "execute_result"
    }
   ],
   "source": [
    "voice_database.get_voice(gender=\"female\", age=20, lang=\"french\")"
   ]
  },
  {
   "cell_type": "markdown",
   "metadata": {},
   "source": [
    "But if no voice are available in the targetted language, an error will be thrown:"
   ]
  },
  {
   "cell_type": "code",
   "execution_count": 19,
   "metadata": {},
   "outputs": [
    {
     "name": "stdout",
     "output_type": "stream",
     "text": [
      "Normal error in this case: Language hindi not found in the database\n"
     ]
    }
   ],
   "source": [
    "try:\n",
    "    voice_database.get_voice(gender=\"female\", age=20, lang=\"hindi\")\n",
    "except ValueError as e:\n",
    "    print(\"Normal error in this case:\", e)"
   ]
  },
  {
   "cell_type": "code",
   "execution_count": 20,
   "metadata": {},
   "outputs": [
    {
     "name": "stdout",
     "output_type": "stream",
     "text": [
      "### Voice Database Statistics\n",
      "\n",
      "\n",
      "\n",
      "#### Overall\n",
      "\n",
      "Number of languages: 2\n",
      "Total voices: 5\n",
      "By gender: male: 2, female: 3\n",
      "Ages (first 10 bins sorted): 20:2, 21:2, 42:1\n",
      "\n",
      "\n",
      "\n",
      "#### By Language (summary)\n",
      "\n",
      "| dataset   |   total |   male |   female |   unique_speakers |   age_min |   age_mean |   age_max | codes   |\n",
      "|:----------|--------:|-------:|---------:|------------------:|----------:|-----------:|----------:|:--------|\n",
      "| english   |       4 |      2 |        2 |                 4 |        20 |      20.50 |        21 | e       |\n",
      "| french    |       1 |      0 |        1 |                 1 |        42 |      42.00 |        42 | f       |\n",
      "\n",
      "\n",
      "\n",
      "#### english — gender/age distribution\n",
      "\n",
      "|   dataset |   female |   male |\n",
      "|----------:|---------:|-------:|\n",
      "|        20 |     1.00 |   1.00 |\n",
      "|        21 |     1.00 |   1.00 |\n",
      "\n",
      "\n",
      "\n",
      "#### french — gender/age distribution\n",
      "\n",
      "|   dataset |   female |\n",
      "|----------:|---------:|\n",
      "|        42 |     1.00 |\n"
     ]
    }
   ],
   "source": [
    "print(voice_database.get_statistics(pretty=True))"
   ]
  }
 ],
 "metadata": {
  "kernelspec": {
   "display_name": ".venv",
   "language": "python",
   "name": "python3"
  },
  "language_info": {
   "codemirror_mode": {
    "name": "ipython",
    "version": 3
   },
   "file_extension": ".py",
   "mimetype": "text/x-python",
   "name": "python",
   "nbconvert_exporter": "python",
   "pygments_lexer": "ipython3",
   "version": "3.11.14"
  }
 },
 "nbformat": 4,
 "nbformat_minor": 2
}
