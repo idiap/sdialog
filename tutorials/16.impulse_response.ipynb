{
 "cells": [
  {
   "cell_type": "markdown",
   "metadata": {},
   "source": [
    "# SDialog dependencies"
   ]
  },
  {
   "cell_type": "code",
   "execution_count": null,
   "metadata": {},
   "outputs": [],
   "source": [
    "# Setup the environment depending on weather we are running in Google Colab or Jupyter Notebook\n",
    "import os\n",
    "from IPython import get_ipython\n",
    "\n",
    "if \"google.colab\" in str(get_ipython()):\n",
    "    print(\"Running on CoLab\")\n",
    "\n",
    "    # Installing sdialog\n",
    "    !git clone https://github.com/qanastek/sdialog.git\n",
    "    %cd sdialog\n",
    "    %pip install -e .\n",
    "    %cd ..\n",
    "else:\n",
    "    print(\"Running in Jupyter Notebook\")\n",
    "    # Little hack to avoid the \"OSError: Background processes not supported.\" error in Jupyter notebooks\"\n",
    "    get_ipython().system = os.system"
   ]
  },
  {
   "cell_type": "markdown",
   "metadata": {},
   "source": [
    "## Local installation"
   ]
  },
  {
   "cell_type": "markdown",
   "metadata": {},
   "source": [
    "Create a `.venv` using the root `requirement.txt` file and Python `3.11.14`"
   ]
  },
  {
   "cell_type": "code",
   "execution_count": null,
   "metadata": {},
   "outputs": [],
   "source": [
    "from sdialog import Dialog\n",
    "from IPython.display import Audio, display"
   ]
  },
  {
   "cell_type": "markdown",
   "metadata": {},
   "source": [
    "# Load an existing dialogue"
   ]
  },
  {
   "cell_type": "markdown",
   "metadata": {},
   "source": [
    "In order to run the next steps in a fast manner, we will start from an existing dialog generated using previous tutorials:"
   ]
  },
  {
   "cell_type": "code",
   "execution_count": null,
   "metadata": {},
   "outputs": [],
   "source": [
    "path_dialog = \"../tests/data/demo_dialog_doctor_patient.json\"\n",
    "\n",
    "if not os.path.exists(path_dialog) and not os.path.exists(\"./demo_dialog_doctor_patient.json\"):\n",
    "    !wget https://raw.githubusercontent.com/qanastek/sdialog/refs/heads/main/tests/data/demo_dialog_doctor_patient.json\n",
    "    path_dialog = \"./demo_dialog_doctor_patient.json\"\n",
    "\n",
    "original_dialog = Dialog.from_file(path_dialog)\n",
    "original_dialog.print()"
   ]
  },
  {
   "cell_type": "markdown",
   "metadata": {},
   "source": [
    "# Tutorial 17: Impulse response and recording devices simulation"
   ]
  },
  {
   "cell_type": "code",
   "execution_count": null,
   "metadata": {},
   "outputs": [],
   "source": [
    "from sdialog.audio.dialog import AudioDialog\n",
    "from sdialog.audio.pipeline import AudioPipeline"
   ]
  },
  {
   "cell_type": "markdown",
   "metadata": {},
   "source": [
    "Convert the original dialog into a audio enhanced dialog"
   ]
  },
  {
   "cell_type": "code",
   "execution_count": null,
   "metadata": {},
   "outputs": [],
   "source": [
    "dialog: AudioDialog = AudioDialog.from_dialog(original_dialog)"
   ]
  },
  {
   "cell_type": "code",
   "execution_count": null,
   "metadata": {},
   "outputs": [],
   "source": [
    "from sdialog.audio.impulse_response_database import HuggingFaceImpulseResponseDatabase\n",
    "impulse_response_database = HuggingFaceImpulseResponseDatabase(\"sdialog/impulse-responses\")"
   ]
  },
  {
   "cell_type": "code",
   "execution_count": null,
   "metadata": {},
   "outputs": [],
   "source": [
    "import scaper\n",
    "DATA_PATH = \"./dscaper_data_impulse_response\"\n",
    "os.makedirs(DATA_PATH, exist_ok=True)\n",
    "dsc = scaper.Dscaper(dscaper_base_path=DATA_PATH)"
   ]
  },
  {
   "cell_type": "code",
   "execution_count": null,
   "metadata": {},
   "outputs": [],
   "source": [
    "os.makedirs(\"./audio_outputs_impulse_response\", exist_ok=True)\n",
    "audio_pipeline = AudioPipeline(\n",
    "    dir_audio=\"./audio_outputs_impulse_response\",\n",
    "    dscaper=dsc,\n",
    "    impulse_response_database=impulse_response_database\n",
    ")"
   ]
  },
  {
   "cell_type": "code",
   "execution_count": null,
   "metadata": {},
   "outputs": [],
   "source": [
    "audio_pipeline.populate_dscaper([\"sdialog/background\",\"sdialog/foreground\"])"
   ]
  },
  {
   "cell_type": "markdown",
   "metadata": {},
   "source": [
    "Now let's generate a medical room it will be enough and display it's shape and content:"
   ]
  },
  {
   "cell_type": "code",
   "execution_count": null,
   "metadata": {},
   "outputs": [],
   "source": [
    "from sdialog.audio.room import DirectivityType\n",
    "from sdialog.audio.utils import SourceVolume, SourceType\n",
    "from sdialog.audio.jsalt import MedicalRoomGenerator, RoomRole"
   ]
  },
  {
   "cell_type": "code",
   "execution_count": null,
   "metadata": {},
   "outputs": [],
   "source": [
    "room = MedicalRoomGenerator().generate(args={\"room_type\": RoomRole.EXAMINATION})\n",
    "img = room.to_image()\n",
    "display(img)\n",
    "img.save(\"room.png\")"
   ]
  },
  {
   "cell_type": "code",
   "execution_count": null,
   "metadata": {},
   "outputs": [],
   "source": [
    "from sdialog.audio.room import SpeakerSide, Role, RoomPosition"
   ]
  },
  {
   "cell_type": "code",
   "execution_count": null,
   "metadata": {},
   "outputs": [],
   "source": [
    "room.place_speaker_around_furniture(speaker_name=Role.SPEAKER_1, furniture_name=\"desk\", max_distance=1.0, side=SpeakerSide.FRONT)\n",
    "room.place_speaker_around_furniture(speaker_name=Role.SPEAKER_2, furniture_name=\"desk\", max_distance=1.0, side=SpeakerSide.BACK)"
   ]
  },
  {
   "cell_type": "markdown",
   "metadata": {},
   "source": [
    "You can see the new positions of the speakers:"
   ]
  },
  {
   "cell_type": "code",
   "execution_count": null,
   "metadata": {},
   "outputs": [],
   "source": [
    "img = room.to_image()\n",
    "display(img)"
   ]
  },
  {
   "cell_type": "markdown",
   "metadata": {},
   "source": [
    "Now let's change the microphone directivity to point to something else:"
   ]
  },
  {
   "cell_type": "code",
   "execution_count": null,
   "metadata": {},
   "outputs": [],
   "source": [
    "room.set_directivity(direction=DirectivityType.OMNIDIRECTIONAL)"
   ]
  },
  {
   "cell_type": "code",
   "execution_count": null,
   "metadata": {},
   "outputs": [],
   "source": [
    "from sdialog.audio.processing import RecordingDevice"
   ]
  },
  {
   "cell_type": "code",
   "execution_count": null,
   "metadata": {},
   "outputs": [],
   "source": [
    "dialog: AudioDialog = audio_pipeline.inference(\n",
    "    dialog,\n",
    "    environment={\n",
    "        \"room\": room,\n",
    "        \"background_effect\": \"white_noise\",\n",
    "        \"foreground_effect\": \"ac_noise_minimal\",\n",
    "        \"foreround_effect_position\": RoomPosition.TOP_RIGHT,\n",
    "        \"source_volumes\": {\n",
    "            SourceType.ROOM: SourceVolume.HIGH,\n",
    "            SourceType.BACKGROUND: SourceVolume.VERY_LOW\n",
    "        },\n",
    "        \"kwargs_pyroom\": {\n",
    "            \"ray_tracing\": True,\n",
    "            \"air_absorption\": True\n",
    "        }\n",
    "    },\n",
    "    do_step_1=True,\n",
    "    do_step_2=True,\n",
    "    do_step_3=True,\n",
    "    dialog_dir_name=\"demo_impulse_response\",\n",
    "    room_name=\"my_room_demo_shure\",\n",
    "    re_sampling_rate=16000,\n",
    "    recording_device=RecordingDevice.SHURE_SM57\n",
    ")"
   ]
  },
  {
   "cell_type": "code",
   "execution_count": null,
   "metadata": {},
   "outputs": [],
   "source": [
    "print(\"-\"*25)\n",
    "print(\"Step 1:\")\n",
    "print(\"-\"*25)\n",
    "display(Audio(dialog.audio_step_1_filepath, autoplay=False))\n",
    "print(\"-\"*25)\n",
    "print(\"Step 2:\")\n",
    "print(\"-\"*25)\n",
    "display(Audio(dialog.audio_step_2_filepath, autoplay=False))\n",
    "print(\"-\"*25)\n",
    "print(\"- Room Configurations\")\n",
    "print(\"-\"*25)\n",
    "for config_name in dialog.audio_step_3_filepaths:\n",
    "    print(f\"> Room Configuration: {config_name}\")\n",
    "    print(\"Original audio:\")\n",
    "    display(Audio(dialog.audio_step_3_filepaths[config_name][\"audio_path\"], autoplay=False, rate=16000))\n",
    "    print(\"#\"*10)\n",
    "    print(\"Processed audio:\")\n",
    "    print(\"#\"*10)\n",
    "    for _rd in dialog.audio_step_3_filepaths[config_name][\"audio_paths_post_processing\"]:\n",
    "        display(Audio(dialog.audio_step_3_filepaths[config_name][\"audio_paths_post_processing\"][_rd], autoplay=False, rate=16000))"
   ]
  },
  {
   "cell_type": "markdown",
   "metadata": {},
   "source": [
    "You can also perform microphone simulation by using the `to_audio` functions:"
   ]
  },
  {
   "cell_type": "code",
   "execution_count": null,
   "metadata": {},
   "outputs": [],
   "source": [
    "my_audio_dialog = original_dialog.to_audio(\n",
    "    do_step_1=True,\n",
    "    do_step_2=True,\n",
    "    do_step_3=True,\n",
    "    dir_audio=\"./audio_outputs_impulse_response\",\n",
    "    dialog_dir_name=\"demo_impulse_response_to_audio\",\n",
    "    room_name=\"my_room_demo_shure_to_audio_3\",\n",
    "    recording_device=RecordingDevice.SENNHEISER_E906\n",
    ")"
   ]
  },
  {
   "cell_type": "code",
   "execution_count": null,
   "metadata": {},
   "outputs": [],
   "source": [
    "my_audio_dialog = original_dialog.to_audio(\n",
    "    do_step_1=False,\n",
    "    do_step_2=False,\n",
    "    do_step_3=True,\n",
    "    dir_audio=\"./audio_outputs_impulse_response\",\n",
    "    dialog_dir_name=\"demo_impulse_response_to_audio\",\n",
    "    room_name=\"my_room_demo_shure_to_audio_3\",\n",
    "    recording_device=RecordingDevice.SHURE_SM57\n",
    ")"
   ]
  },
  {
   "cell_type": "code",
   "execution_count": null,
   "metadata": {},
   "outputs": [],
   "source": [
    "my_audio_dialog = original_dialog.to_audio(\n",
    "    do_step_1=True,\n",
    "    do_step_2=True,\n",
    "    do_step_3=True,\n",
    "    dir_audio=\"./audio_outputs_impulse_response\",\n",
    "    dialog_dir_name=\"demo_impulse_response_to_audio\",\n",
    "    room_name=\"my_room_demo_shure_to_audio_4\",\n",
    "    recording_device=RecordingDevice.SHURE_SM57\n",
    ")"
   ]
  },
  {
   "cell_type": "code",
   "execution_count": null,
   "metadata": {},
   "outputs": [],
   "source": [
    "print(\"-\"*25)\n",
    "print(\"Step 1:\")\n",
    "print(\"-\"*25)\n",
    "display(Audio(my_audio_dialog.audio_step_1_filepath, autoplay=False))\n",
    "print(\"-\"*25)\n",
    "print(\"Step 2:\")\n",
    "print(\"-\"*25)\n",
    "display(Audio(my_audio_dialog.audio_step_2_filepath, autoplay=False))\n",
    "print(\"-\"*25)\n",
    "print(\"- Room Configurations\")\n",
    "print(\"-\"*25)\n",
    "for config_name in my_audio_dialog.audio_step_3_filepaths:\n",
    "    print(f\"> Room Configuration: {config_name}\")\n",
    "    print(\"Original audio:\")\n",
    "    display(Audio(my_audio_dialog.audio_step_3_filepaths[config_name][\"audio_path\"], autoplay=False, rate=16000))\n",
    "    print(\"#\"*10)\n",
    "    print(\"Processed audio:\")\n",
    "    print(\"#\"*10)\n",
    "    for _rd in my_audio_dialog.audio_step_3_filepaths[config_name][\"audio_paths_post_processing\"]:\n",
    "        display(Audio(my_audio_dialog.audio_step_3_filepaths[config_name][\"audio_paths_post_processing\"][_rd], autoplay=False, rate=16000))"
   ]
  }
 ],
 "metadata": {
  "kernelspec": {
   "display_name": ".venv",
   "language": "python",
   "name": "python3"
  },
  "language_info": {
   "codemirror_mode": {
    "name": "ipython",
    "version": 3
   },
   "file_extension": ".py",
   "mimetype": "text/x-python",
   "name": "python",
   "nbconvert_exporter": "python",
   "pygments_lexer": "ipython3",
   "version": "3.11.14"
  }
 },
 "nbformat": 4,
 "nbformat_minor": 2
}
