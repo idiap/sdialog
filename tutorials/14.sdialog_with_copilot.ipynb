{
 "cells": [
  {
   "cell_type": "markdown",
   "metadata": {},
   "source": [
    "# Tutorial 14: Use Copilot to generate dialogues with SDialog\n"
   ]
  },
  {
   "cell_type": "markdown",
   "metadata": {},
   "source": [
    "We will ask to Copilot or Cursor to create the code for us:"
   ]
  },
  {
   "cell_type": "markdown",
   "metadata": {},
   "source": [
    "```plain\n",
    "#fetch https://sdialog.readthedocs.io/en/latest/llm.txt\n",
    "\n",
    "Write a Python code to generate dialog between an patient and a polite doctor using sdialog with multi-agent support, using Amazon bedrock call to Claude 3.5 sonnet\n",
    "```"
   ]
  },
  {
   "cell_type": "markdown",
   "metadata": {},
   "source": [
    "The output:"
   ]
  },
  {
   "cell_type": "code",
   "execution_count": null,
   "metadata": {},
   "outputs": [],
   "source": [
    "!pip install boto3 langchain-aws"
   ]
  },
  {
   "cell_type": "code",
   "execution_count": null,
   "metadata": {},
   "outputs": [],
   "source": [
    "import os\n",
    "import sdialog\n",
    "from sdialog import Context \n",
    "from sdialog.agents import Agent\n",
    "from sdialog.personas import Persona"
   ]
  },
  {
   "cell_type": "markdown",
   "metadata": {},
   "source": [
    "AWS configuration with your usual method:"
   ]
  },
  {
   "cell_type": "code",
   "execution_count": null,
   "metadata": {},
   "outputs": [],
   "source": [
    "os.environ[\"AWS_BEARER_TOKEN_BEDROCK\"] = \"XXX\""
   ]
  },
  {
   "cell_type": "markdown",
   "metadata": {},
   "source": [
    "Configure sdialog to use your model:"
   ]
  },
  {
   "cell_type": "code",
   "execution_count": null,
   "metadata": {},
   "outputs": [],
   "source": [
    "sdialog.config.llm(\"amazon:anthropic.claude-3-5-sonnet-20240620-v1:0\", \n",
    "                   temperature=0.7, \n",
    "                   max_tokens=512,\n",
    "                   region_name=\"us-east-1\")"
   ]
  },
  {
   "cell_type": "markdown",
   "metadata": {},
   "source": [
    "Define the characters:"
   ]
  },
  {
   "cell_type": "code",
   "execution_count": null,
   "metadata": {},
   "outputs": [],
   "source": [
    "patient = Persona(\n",
    "    name=\"Marie Dubois\",\n",
    "    age=45,\n",
    "    gender=\"female\",\n",
    "    role=\"patient\",\n",
    "    background=\"Marie is a 45-year-old patient who is consulting for recurring headaches and fatigue. She works in an office and has two teenage children.\",\n",
    "    personality=\"Marie is polite, a bit anxious, and tends to ask many questions. She worries easily about her health.\",\n",
    "    circumstances=\"She made an appointment because her symptoms have persisted for two weeks and are affecting her work.\",\n",
    "    rules=\"She must be respectful towards the doctor and express her concerns clearly.\"\n",
    ")\n",
    "\n",
    "doctor = Persona(\n",
    "    name=\"Dr. Pierre Martin\",\n",
    "    age=52,\n",
    "    gender=\"male\", \n",
    "    role=\"general practitioner\",\n",
    "    background=\"Dr. Martin is an experienced general practitioner with 25 years of experience. He is known for his empathetic approach and patience with his patients.\",\n",
    "    personality=\"He is very professional, empathetic, and takes time to listen to his patients. He explains things clearly and reassuringly.\",\n",
    "    circumstances=\"He practices in his private office and has a holistic approach to medicine.\",\n",
    "    rules=\"He must be polite, professional, ask relevant questions, and reassure the patient while remaining medically precise.\"\n",
    ")"
   ]
  },
  {
   "cell_type": "markdown",
   "metadata": {},
   "source": [
    "Create the consultation context:"
   ]
  },
  {
   "cell_type": "code",
   "execution_count": null,
   "metadata": {},
   "outputs": [],
   "source": [
    "context = Context(\n",
    "    location=\"Dr. Martin's medical office\",\n",
    "    datetime=\"2024-01-15 14:30\",\n",
    "    environment=\"A modern and welcoming medical office with a calm and professional atmosphere\",\n",
    "    topics=[\"medical consultation\", \"headaches\", \"fatigue\", \"diagnosis\"],\n",
    "    goals=[\"establish a diagnosis\", \"reassure the patient\", \"propose treatment\"],\n",
    "    constraints=[\"respect medical confidentiality\", \"be professional\", \"limit consultation to 20 minutes\"]\n",
    ")"
   ]
  },
  {
   "cell_type": "markdown",
   "metadata": {},
   "source": [
    "Create the agents with your model:"
   ]
  },
  {
   "cell_type": "code",
   "execution_count": null,
   "metadata": {},
   "outputs": [],
   "source": [
    "agent_patient = Agent(\n",
    "    persona=patient,\n",
    "    name=\"Marie\",\n",
    "    context=context,\n",
    "    first_utterance=\"Hello doctor, thank you for seeing me. I came to see you because I've had persistent headaches for two weeks, and I feel very tired.\",\n",
    "    dialogue_details=\"Medical consultation for persistent symptoms\",\n",
    "    response_details=\"Natural and respectful responses, expressing patient concerns\"\n",
    ")\n",
    "\n",
    "agent_doctor = Agent(\n",
    "    persona=doctor,\n",
    "    name=\"Dr. Martin\", \n",
    "    context=context,\n",
    "    dialogue_details=\"Professional medical consultation\",\n",
    "    response_details=\"Professional, empathetic and reassuring medical responses\"\n",
    ")"
   ]
  },
  {
   "cell_type": "markdown",
   "metadata": {},
   "source": [
    "Generate the dialogue:"
   ]
  },
  {
   "cell_type": "code",
   "execution_count": null,
   "metadata": {},
   "outputs": [],
   "source": [
    "dialogue = agent_patient.dialog_with(\n",
    "    agent_doctor,\n",
    "    context=context,\n",
    "    max_turns=12,  # 6 exchanges (12 turns total)\n",
    "    seed=42  # For reproducibility\n",
    ")\n",
    "\n",
    "dialogue.print()\n",
    "\n",
    "print(f\"\\n=== Dialog Statistic ===\")\n",
    "print(f\"Number of turns: {len(dialogue)}\")\n",
    "print(f\"Number of words: {dialogue.length('words')}\")\n",
    "print(f\"Estimated duration: {dialogue.length('minutes')} minutes\")\n",
    "print(f\"Model used: {dialogue.model}\")\n",
    "print(f\"Seed: {dialogue.seed}\")"
   ]
  },
  {
   "cell_type": "markdown",
   "metadata": {},
   "source": [
    "Save the dialogue:"
   ]
  },
  {
   "cell_type": "code",
   "execution_count": null,
   "metadata": {},
   "outputs": [],
   "source": [
    "dialogue.to_file(\"demo_dialog_doctor_patient.json\")"
   ]
  },
  {
   "cell_type": "markdown",
   "metadata": {},
   "source": [
    "# Second use case: Customer service"
   ]
  },
  {
   "cell_type": "markdown",
   "metadata": {},
   "source": [
    "You can do the same with customer service:\n",
    "```plain\n",
    "#fetch https://sdialog.readthedocs.io/en/latest/llm.txt\n",
    "\n",
    "Write a Python code to generate dialog between an angry customer and a polite support agent using sdialog with multi-agent support, using Amazon bedrock call to Claude 3.5 sonnet\n",
    "```"
   ]
  },
  {
   "cell_type": "code",
   "execution_count": null,
   "metadata": {},
   "outputs": [],
   "source": [
    "sdialog.config.llm(\"amazon:anthropic.claude-3-5-sonnet-20240620-v1:0\", \n",
    "                   temperature=0.7, \n",
    "                   max_tokens=512,\n",
    "                   region_name=\"us-east-1\")"
   ]
  },
  {
   "cell_type": "code",
   "execution_count": null,
   "metadata": {},
   "outputs": [],
   "source": [
    "# Angry customer persona\n",
    "angry_customer = Persona(\n",
    "    name=\"John Smith\",\n",
    "    age=35,\n",
    "    gender=\"male\",\n",
    "    role=\"frustrated customer\",\n",
    "    background=\"John recently purchased a defective product a week ago. He has already contacted support multiple times without getting a satisfactory solution.\",\n",
    "    personality=\"John is frustrated, impatient, and angry. He tends to raise his voice and be direct in his complaints. He feels ignored by the company.\",\n",
    "    circumstances=\"He is calling support for the third time this week, determined to get an immediate refund or replacement.\",\n",
    "    rules=\"He must express his frustration clearly but avoid using offensive language. He should insist that he has already contacted support multiple times.\"\n",
    ")\n",
    "\n",
    "# Polite support agent persona\n",
    "support_agent = Persona(\n",
    "    name=\"Sarah Johnson\",\n",
    "    age=28,\n",
    "    gender=\"female\", \n",
    "    role=\"customer support agent\",\n",
    "    background=\"Sarah is an experienced customer support agent with 5 years of experience. She is known for her patience and ability to solve customer problems.\",\n",
    "    personality=\"She remains calm and professional even when dealing with difficult customers. She is empathetic, patient, and solution-oriented.\",\n",
    "    circumstances=\"She is handling John's call and aims to resolve his issue satisfactorily while maintaining a professional attitude.\",\n",
    "    rules=\"She must remain polite and professional, apologize for inconveniences, and offer appropriate solutions. She should never lose her composure.\"\n",
    ")"
   ]
  },
  {
   "cell_type": "code",
   "execution_count": null,
   "metadata": {},
   "outputs": [],
   "source": [
    "context = Context(\n",
    "    location=\"Customer Support Call Center\",\n",
    "    datetime=\"2024-01-15 14:30\",\n",
    "    environment=\"A quiet office with minimal background noise. The agent works from her support station.\",\n",
    "    topics=[\"product issue\", \"customer dissatisfaction\", \"refund request\", \"customer support\"],\n",
    "    goals=[\"resolve the customer's complaint\", \"offer a solution\", \"ensure customer satisfaction\"],\n",
    "    constraints=[\"follow company policies\", \"maintain professionalism\", \"limit call to 15 minutes\"]\n",
    ")"
   ]
  },
  {
   "cell_type": "code",
   "execution_count": null,
   "metadata": {},
   "outputs": [],
   "source": [
    "customer_agent = Agent(\n",
    "    persona=angry_customer,\n",
    "    name=\"John\",\n",
    "    context=context,\n",
    "    first_utterance=\"Hello, this is John Smith. I'm calling for the third time this week about my defective product and no one is helping me! This is unacceptable!\",\n",
    "    dialogue_details=\"Customer expressing frustration about a defective product\",\n",
    "    response_details=\"Angry and impatient responses demanding immediate action\"\n",
    ")\n",
    "\n",
    "support_agent_polite = Agent(\n",
    "    persona=support_agent,\n",
    "    name=\"Sarah\",\n",
    "    context=context,\n",
    "    dialogue_details=\"Support agent handling a customer complaint\",\n",
    "    response_details=\"Calm and polite responses aiming to resolve the issue\"\n",
    ")"
   ]
  },
  {
   "cell_type": "code",
   "execution_count": null,
   "metadata": {},
   "outputs": [],
   "source": [
    "dialogue = customer_agent.dialog_with(\n",
    "    support_agent_polite,\n",
    "    context=context,\n",
    "    max_turns=14,  # 7 exchanges (14 turns total)\n",
    "    seed=42  # For reproducibility\n",
    ")\n",
    "\n",
    "dialogue.print()\n",
    "\n",
    "print(f\"\\n=== Dialog Statistic ===\")\n",
    "print(f\"Number of turns: {len(dialogue)}\")\n",
    "print(f\"Number of words: {dialogue.length('words')}\")\n",
    "print(f\"Estimated duration: {dialogue.length('minutes')} minutes\")\n",
    "print(f\"Model used: {dialogue.model}\")\n",
    "print(f\"Seed: {dialogue.seed}\")"
   ]
  },
  {
   "cell_type": "code",
   "execution_count": null,
   "metadata": {},
   "outputs": [],
   "source": [
    "dialogue.to_file(\"customer_support_dialogue.json\")"
   ]
  },
  {
   "cell_type": "markdown",
   "metadata": {},
   "source": [
    "## Generate audio dialogs"
   ]
  },
  {
   "cell_type": "code",
   "execution_count": null,
   "metadata": {},
   "outputs": [],
   "source": [
    "audio_dialogue = dialogue.to_audio()"
   ]
  },
  {
   "cell_type": "code",
   "execution_count": null,
   "metadata": {},
   "outputs": [],
   "source": [
    "display(Audio(audio_dialogue.audio_step_1_filepath, autoplay=True))"
   ]
  }
 ],
 "metadata": {
  "kernelspec": {
   "display_name": ".venv",
   "language": "python",
   "name": "python3"
  },
  "language_info": {
   "codemirror_mode": {
    "name": "ipython",
    "version": 3
   },
   "file_extension": ".py",
   "mimetype": "text/x-python",
   "name": "python",
   "nbconvert_exporter": "python",
   "pygments_lexer": "ipython3",
   "version": "3.11.14"
  }
 },
 "nbformat": 4,
 "nbformat_minor": 2
}
