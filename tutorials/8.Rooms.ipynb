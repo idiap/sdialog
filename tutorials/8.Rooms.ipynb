{
 "cells": [
  {
   "cell_type": "markdown",
   "metadata": {},
   "source": [
    "# SDialog dependencies"
   ]
  },
  {
   "cell_type": "code",
   "execution_count": 1,
   "metadata": {},
   "outputs": [
    {
     "name": "stdout",
     "output_type": "stream",
     "text": [
      "Running in Jupyter Notebook\n"
     ]
    }
   ],
   "source": [
    "# Setup the environment depending on weather we are running in Google Colab or Jupyter Notebook\n",
    "from IPython import get_ipython\n",
    "\n",
    "\n",
    "if \"google.colab\" in str(get_ipython()):\n",
    "    print(\"Running on CoLab\")\n",
    "\n",
    "    # Installing Ollama (if you are not planning to use Ollama, you can just comment these lines to speed up the installation)\n",
    "    !curl -fsSL https://ollama.com/install.sh | sh\n",
    "\n",
    "    # Installing sdialog\n",
    "    !git clone https://github.com/qanastek/sdialog.git\n",
    "    %cd sdialog\n",
    "    %pip install -e .\n",
    "    %cd ..\n",
    "else:\n",
    "    print(\"Running in Jupyter Notebook\")\n",
    "    # Little hack to avoid the \"OSError: Background processes not supported.\" error in Jupyter notebooks\"\n",
    "    import os\n",
    "    get_ipython().system = os.system"
   ]
  },
  {
   "cell_type": "markdown",
   "metadata": {},
   "source": [
    "## Locally"
   ]
  },
  {
   "cell_type": "markdown",
   "metadata": {},
   "source": [
    "Run following commands and then `Restart` your environment."
   ]
  },
  {
   "cell_type": "code",
   "execution_count": 2,
   "metadata": {},
   "outputs": [],
   "source": [
    "%%script false --no-raise-error\n",
    "%pip install -e ..\n",
    "%pip show sdialog"
   ]
  },
  {
   "cell_type": "markdown",
   "metadata": {},
   "source": [
    "# Tutorial 8: Room generation and creation"
   ]
  },
  {
   "cell_type": "markdown",
   "metadata": {},
   "source": [
    "## Medical room generator"
   ]
  },
  {
   "cell_type": "code",
   "execution_count": 3,
   "metadata": {},
   "outputs": [
    {
     "name": "stderr",
     "output_type": "stream",
     "text": [
      "/Users/yanislabrak/opt/miniconda3/envs/jsalt/lib/python3.9/site-packages/tqdm/auto.py:21: TqdmWarning: IProgress not found. Please update jupyter and ipywidgets. See https://ipywidgets.readthedocs.io/en/stable/user_install.html\n",
      "  from .autonotebook import tqdm as notebook_tqdm\n"
     ]
    }
   ],
   "source": [
    "from sdialog.audio.jsalt import MedicalRoomGenerator, RoomRole"
   ]
  },
  {
   "cell_type": "code",
   "execution_count": 4,
   "metadata": {},
   "outputs": [
    {
     "name": "stdout",
     "output_type": "stream",
     "text": [
      "1759948233590398000:  consultation_room - 1759948233590268000, desc: consultation room - 1759948233590268000 (dimentions: dim: [2.598076211353316, 1.7320508075688772, 3.0], reverberation_time_ratio: 0.47)(aspect_ratio: (1.5, 1.0))\n",
      "1759948233590723000:  examination_room - 1759948233590711000, desc: examination room - 1759948233590711000 (dimentions: dim: [3.0, 2.0, 3.0], reverberation_time_ratio: 0.75)(aspect_ratio: (1.5, 1.0))\n",
      "1759948233590774000:  treatment_room - 1759948233590764000, desc: treatment room - 1759948233590764000 (dimentions: dim: [3.577708763999664, 2.23606797749979, 3.0], reverberation_time_ratio: 0.7)(aspect_ratio: (1.6, 1.0))\n",
      "1759948233590816000:  patient_room - 1759948233590807000, desc: patient room - 1759948233590807000 (dimentions: dim: [4.018706259482024, 2.363944858518838, 3.0], reverberation_time_ratio: 0.6)(aspect_ratio: (1.7, 1.0))\n",
      "1759948233590857000:  surgery_room - 1759948233590848000, desc: surgery room - 1759948233590848000 (dimentions: dim: [4.6475800154489, 2.581988897471611, 3.0], reverberation_time_ratio: 0.77)(aspect_ratio: (1.8, 1.0))\n",
      "1759948233590897000:  waiting_room - 1759948233590888000, desc: waiting room - 1759948233590888000 (dimentions: dim: [5.477225575051661, 2.7386127875258306, 3.0], reverberation_time_ratio: 0.55)(aspect_ratio: (2.0, 1.0))\n",
      "1759948233590937000:  emergency_room - 1759948233590928000, desc: emergency room - 1759948233590928000 (dimentions: dim: [6.29285308902091, 2.860387767736777, 3.0], reverberation_time_ratio: 0.5)(aspect_ratio: (2.2, 1.0))\n",
      "1759948233590976000:  office_room - 1759948233590967000, desc: office room - 1759948233590967000 (dimentions: dim: [7.0710678118654755, 2.8284271247461903, 3.0], reverberation_time_ratio: 0.65)(aspect_ratio: (2.5, 1.0))\n",
      "20.000000000000004\n",
      "60.000000000000014\n"
     ]
    }
   ],
   "source": [
    "generator = MedicalRoomGenerator()\n",
    "room = generator.generate({\"room_type\": RoomRole.CONSULTATION})\n",
    "print(room)\n",
    "room = generator.generate({\"room_type\": RoomRole.EXAMINATION})\n",
    "print(room)\n",
    "room = generator.generate({\"room_type\": RoomRole.TREATMENT})\n",
    "print(room)\n",
    "room = generator.generate({\"room_type\": RoomRole.PATIENT_ROOM})\n",
    "print(room)\n",
    "room = generator.generate({\"room_type\": RoomRole.SURGERY})\n",
    "print(room)\n",
    "room = generator.generate({\"room_type\": RoomRole.WAITING})\n",
    "print(room)\n",
    "room = generator.generate({\"room_type\": RoomRole.EMERGENCY})\n",
    "print(room)\n",
    "room = generator.generate({\"room_type\": RoomRole.OFFICE})\n",
    "print(room)\n",
    "print(room.get_square_meters())\n",
    "print(room.get_volume())"
   ]
  },
  {
   "cell_type": "markdown",
   "metadata": {},
   "source": [
    "## Basic room generator"
   ]
  },
  {
   "cell_type": "code",
   "execution_count": 5,
   "metadata": {},
   "outputs": [
    {
     "name": "stdout",
     "output_type": "stream",
     "text": [
      "1759948233595439000:  room_1759948233595419000, desc: room_1759948233595420000 (dimentions: dim: [3.4641016151377544, 2.309401076758503, 3.0], reverberation_time_ratio: 0.5109826137219315)(aspect_ratio: (1.5, 1.0))\n",
      "1759948233595697000:  room_1759948233595684000, desc: room_1759948233595685000 (dimentions: dim: [2.8284271247461903, 2.8284271247461903, 2.5], reverberation_time_ratio: 0.4070708664869864)(aspect_ratio: (1.0, 1.0))\n",
      "1759948233595769000:  room_1759948233595764000, desc: room_1759948233595765000 (dimentions: dim: [4.47213595499958, 4.47213595499958, 2.5], reverberation_time_ratio: 0.4070708664869864)(aspect_ratio: (1.0, 1.0))\n"
     ]
    }
   ],
   "source": [
    "from sdialog.audio.room_generator import BasicRoomGenerator\n",
    "\n",
    "# With seed\n",
    "generator = BasicRoomGenerator()\n",
    "room = generator.generate({\"room_size\": 8})\n",
    "print(room)\n",
    "\n",
    "# Without seed\n",
    "generator = BasicRoomGenerator(seed=123)\n",
    "room = generator.generate({\"room_size\": 8})\n",
    "print(room)\n",
    "room = generator.generate({\"room_size\": 20})\n",
    "print(room)"
   ]
  },
  {
   "cell_type": "markdown",
   "metadata": {},
   "source": [
    "Show the square meters ($m^2$) and volume ($m^3$) of the room"
   ]
  },
  {
   "cell_type": "code",
   "execution_count": 6,
   "metadata": {},
   "outputs": [
    {
     "name": "stdout",
     "output_type": "stream",
     "text": [
      "20 m²\n",
      "50 m³\n"
     ]
    }
   ],
   "source": [
    "print(int(room.get_square_meters()), \"m²\")\n",
    "print(int(room.get_volume()), \"m³\")"
   ]
  },
  {
   "cell_type": "markdown",
   "metadata": {},
   "source": [
    "## Vizualization of the room"
   ]
  },
  {
   "cell_type": "code",
   "execution_count": 7,
   "metadata": {},
   "outputs": [],
   "source": [
    "img = room.to_image()"
   ]
  },
  {
   "cell_type": "markdown",
   "metadata": {},
   "source": [
    "Print the image of the room"
   ]
  },
  {
   "cell_type": "code",
   "execution_count": 8,
   "metadata": {},
   "outputs": [
    {
     "data": {
      "image/jpeg": "[encoded data removed]",
      "image/png": "[encoded data removed]",
      "text/plain": [
       "<PIL.Image.Image image mode=RGB size=512x512>"
      ]
     },
     "metadata": {},
     "output_type": "display_data"
    }
   ],
   "source": [
    "display(img)"
   ]
  },
  {
   "cell_type": "markdown",
   "metadata": {},
   "source": [
    "or save the image locally"
   ]
  },
  {
   "cell_type": "code",
   "execution_count": 9,
   "metadata": {},
   "outputs": [],
   "source": [
    "img.save(\"room.png\")"
   ]
  },
  {
   "cell_type": "markdown",
   "metadata": {},
   "source": [
    "## Custom room generator"
   ]
  },
  {
   "cell_type": "code",
   "execution_count": 10,
   "metadata": {},
   "outputs": [],
   "source": [
    "import math\n",
    "import time\n",
    "import random\n",
    "from typing import Tuple, Dict, Any\n",
    "from sdialog.audio.audio_utils import Furniture\n",
    "from sdialog.audio.room import Room, MicrophonePosition\n",
    "from sdialog.audio.room_generator import Dimensions3D, RoomGenerator"
   ]
  },
  {
   "cell_type": "code",
   "execution_count": null,
   "metadata": {},
   "outputs": [],
   "source": [
    "class CustomRoomGenerator(RoomGenerator):\n",
    "\n",
    "    def __init__(self):\n",
    "        super().__init__()\n",
    "\n",
    "        # Standard room sizes (floor area in m²): size, reverberation_time_ratio, name, description\n",
    "        self.ROOM_SIZES: Dict[str, Tuple[float, float, str, str]] = {\n",
    "            \"big_warehouse\": ([1000, 2500], 0.47, \"big_warehouse\", \"big warehouse\"),\n",
    "            \"small_warehouse\": ([100, 200, 300], 0.75, \"small_warehouse\", \"small warehouse\"),\n",
    "        }\n",
    "\n",
    "        self.ROOM_ASPECT_RATIOS = {\n",
    "            100: (1.5, 1.0), 200: (1.5, 1.0), 300: (1.6, 1.0),\n",
    "            1000: (1.7, 1.0), 2500: (1.8, 1.0),\n",
    "        }\n",
    "\n",
    "    def calculate_room_dimensions(self, floor_area: float, aspect_ratio: Tuple[float, float]) -> Dimensions3D:\n",
    "        \"\"\"\n",
    "        Calculate room dimensions from floor area\n",
    "        floor_area: float\n",
    "        aspect_ratio: Tuple[float, float]\n",
    "        \"\"\"\n",
    "\n",
    "        w_ratio, l_ratio = aspect_ratio\n",
    "\n",
    "        length = math.sqrt(floor_area / (w_ratio / l_ratio))\n",
    "        width = length * (w_ratio / l_ratio)\n",
    "\n",
    "        return Dimensions3D(width=width, length=length, height=10)\n",
    "\n",
    "    def generate(self, args: Dict[str, Any]) -> Room:\n",
    "        \"\"\"\n",
    "        Generate a room based on predefined warehouse setups.\n",
    "        args:\n",
    "            warehouse_type: str\n",
    "        \"\"\"\n",
    "\n",
    "        if \"warehouse_type\" not in args:\n",
    "            raise ValueError(\"warehouse_type is required\")\n",
    "\n",
    "        if len(args) > 1:\n",
    "            raise ValueError(\"Only warehouse_type is allowed\")\n",
    "\n",
    "        floor_area, reverberation_time_ratio, name, description = self.ROOM_SIZES[args[\"warehouse_type\"]]\n",
    "\n",
    "        # Randomly select a floor area from the list\n",
    "        floor_area = random.choice(floor_area)\n",
    "\n",
    "        if floor_area not in self.ROOM_ASPECT_RATIOS:\n",
    "            raise ValueError(f\"Unsupported room size: {floor_area}m²\")\n",
    "\n",
    "        w_ratio, l_ratio = self.ROOM_ASPECT_RATIOS[floor_area]\n",
    "\n",
    "        # Time in nanoseconds\n",
    "        time_in_ns = time.time_ns()\n",
    "\n",
    "        dims = self.calculate_room_dimensions(floor_area, (w_ratio, l_ratio))\n",
    "\n",
    "        room = Room(\n",
    "            name=f\"Warehouse: {name} - {time_in_ns}\",\n",
    "            description=f\"Warehouse: {description} - {time_in_ns}\",\n",
    "            dimensions=dims,\n",
    "            reverberation_time_ratio=reverberation_time_ratio,\n",
    "            aspect_ratio=(w_ratio, l_ratio),\n",
    "            mic_position=MicrophonePosition.CEILING_CENTERED,\n",
    "            furnitures={\n",
    "                \"door\": Furniture(\n",
    "                    name=\"door\",\n",
    "                    x=0.10,\n",
    "                    y=0.10,\n",
    "                    width=0.70,\n",
    "                    height=2.10,\n",
    "                    depth=0.5\n",
    "                )\n",
    "            }\n",
    "        )\n",
    "\n",
    "        return room\n"
   ]
  },
  {
   "cell_type": "code",
   "execution_count": 12,
   "metadata": {},
   "outputs": [
    {
     "name": "stdout",
     "output_type": "stream",
     "text": [
      "1759948233671023000:  Warehouse: big_warehouse - 1759948233670984000, desc: Warehouse: big warehouse - 1759948233670984000 (dimentions: dim: [67.08203932499369, 37.26779962499649, 10], reverberation_time_ratio: 0.47)(aspect_ratio: (1.8, 1.0))\n",
      "2499.9999999999995\n",
      "24999.999999999996\n",
      "----------------------------------------------------------------------------------------------------\n",
      "1759948233671539000:  Warehouse: small_warehouse - 1759948233671526000, desc: Warehouse: small warehouse - 1759948233671526000 (dimentions: dim: [21.90890230020665, 13.693063937629153, 10], reverberation_time_ratio: 0.75)(aspect_ratio: (1.6, 1.0))\n",
      "300.00000000000006\n",
      "3000.0000000000005\n"
     ]
    }
   ],
   "source": [
    "room = CustomRoomGenerator().generate({\"warehouse_type\": \"big_warehouse\"})\n",
    "print(room)\n",
    "print(room.get_square_meters())\n",
    "print(room.get_volume())\n",
    "\n",
    "print(\"-\"*100)\n",
    "\n",
    "room = CustomRoomGenerator().generate({\"warehouse_type\": \"small_warehouse\"})\n",
    "print(room)\n",
    "print(room.get_square_meters())\n",
    "print(room.get_volume())\n"
   ]
  },
  {
   "cell_type": "markdown",
   "metadata": {},
   "source": [
    "### Add furniture to a Room instance"
   ]
  },
  {
   "cell_type": "code",
   "execution_count": 13,
   "metadata": {},
   "outputs": [
    {
     "data": {
      "image/jpeg": "[encoded data removed]",
      "image/png": "[encoded data removed]",
      "text/plain": [
       "<PIL.Image.Image image mode=RGB size=512x512>"
      ]
     },
     "metadata": {},
     "output_type": "display_data"
    }
   ],
   "source": [
    "display(room.to_image())"
   ]
  },
  {
   "cell_type": "markdown",
   "metadata": {},
   "source": [
    "Let now add a carpet in the room"
   ]
  },
  {
   "cell_type": "code",
   "execution_count": 14,
   "metadata": {},
   "outputs": [],
   "source": [
    "from sdialog.audio.audio_utils import RGBAColor"
   ]
  },
  {
   "cell_type": "code",
   "execution_count": 15,
   "metadata": {},
   "outputs": [],
   "source": [
    "room.add_furnitures({\n",
    "    \"carpet\": Furniture(\n",
    "        name=\"carpet\",\n",
    "        x=0.0,\n",
    "        y=0.0,\n",
    "        height=1.5,\n",
    "        width=6.1,\n",
    "        depth=4.1,\n",
    "        color=RGBAColor.PURPLE\n",
    "    )\n",
    "})"
   ]
  },
  {
   "cell_type": "code",
   "execution_count": 16,
   "metadata": {},
   "outputs": [
    {
     "data": {
      "image/jpeg": "[encoded data removed]",
      "image/png": "[encoded data removed]",
      "text/plain": [
       "<PIL.Image.Image image mode=RGB size=512x512>"
      ]
     },
     "metadata": {},
     "output_type": "display_data"
    }
   ],
   "source": [
    "display(room.to_image())"
   ]
  }
 ],
 "metadata": {
  "kernelspec": {
   "display_name": "jsalt",
   "language": "python",
   "name": "python3"
  },
  "language_info": {
   "codemirror_mode": {
    "name": "ipython",
    "version": 3
   },
   "file_extension": ".py",
   "mimetype": "text/x-python",
   "name": "python",
   "nbconvert_exporter": "python",
   "pygments_lexer": "ipython3",
   "version": "3.9.23"
  }
 },
 "nbformat": 4,
 "nbformat_minor": 2
}
