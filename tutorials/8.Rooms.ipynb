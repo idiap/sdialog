{
 "cells": [
  {
   "cell_type": "markdown",
   "metadata": {},
   "source": [
    "# SDialog dependencies"
   ]
  },
  {
   "cell_type": "code",
   "execution_count": 1,
   "metadata": {},
   "outputs": [
    {
     "name": "stdout",
     "output_type": "stream",
     "text": [
      "Running in Jupyter Notebook\n"
     ]
    }
   ],
   "source": [
    "# Setup the environment depending on weather we are running in Google Colab or Jupyter Notebook\n",
    "from IPython import get_ipython\n",
    "\n",
    "\n",
    "if \"google.colab\" in str(get_ipython()):\n",
    "    print(\"Running on CoLab\")\n",
    "\n",
    "    # Installing Ollama (if you are not planning to use Ollama, you can just comment these lines to speed up the installation)\n",
    "    !curl -fsSL https://ollama.com/install.sh | sh\n",
    "\n",
    "    # Installing sdialog\n",
    "    !git clone https://github.com/qanastek/sdialog.git\n",
    "    %cd sdialog\n",
    "    %pip install -e .\n",
    "    %cd ..\n",
    "else:\n",
    "    print(\"Running in Jupyter Notebook\")\n",
    "    # Little hack to avoid the \"OSError: Background processes not supported.\" error in Jupyter notebooks\"\n",
    "    import os\n",
    "    get_ipython().system = os.system"
   ]
  },
  {
   "cell_type": "markdown",
   "metadata": {},
   "source": [
    "## Locally"
   ]
  },
  {
   "cell_type": "markdown",
   "metadata": {},
   "source": [
    "Run following commands and then `Restart` your environment."
   ]
  },
  {
   "cell_type": "code",
   "execution_count": 2,
   "metadata": {},
   "outputs": [],
   "source": [
    "%%script false --no-raise-error\n",
    "%pip install -e ..\n",
    "%pip show sdialog"
   ]
  },
  {
   "cell_type": "markdown",
   "metadata": {},
   "source": [
    "# Tutorial 8: Room generation and creation"
   ]
  },
  {
   "cell_type": "markdown",
   "metadata": {},
   "source": [
    "## Medical room generator"
   ]
  },
  {
   "cell_type": "code",
   "execution_count": 3,
   "metadata": {},
   "outputs": [
    {
     "name": "stderr",
     "output_type": "stream",
     "text": [
      "/Users/yanislabrak/opt/miniconda3/envs/jsalt/lib/python3.9/site-packages/tqdm/auto.py:21: TqdmWarning: IProgress not found. Please update jupyter and ipywidgets. See https://ipywidgets.readthedocs.io/en/stable/user_install.html\n",
      "  from .autonotebook import tqdm as notebook_tqdm\n"
     ]
    }
   ],
   "source": [
    "from sdialog.audio.jsalt import MedicalRoomGenerator, RoomRole"
   ]
  },
  {
   "cell_type": "code",
   "execution_count": 4,
   "metadata": {},
   "outputs": [
    {
     "name": "stdout",
     "output_type": "stream",
     "text": [
      "1759859614348398000:  consultation_room - 1759859614348368000, desc: consultation room - 1759859614348368000 (dimentions: dim: [2.598076211353316, 1.7320508075688772, 3.0], rt60: 0.47)(aspect_ratio: (1.5, 1.0))\n",
      "1759859614350158000:  examination_room - 1759859614350147000, desc: examination room - 1759859614350147000 (dimentions: dim: [3.0, 2.0, 3.0], rt60: 0.75)(aspect_ratio: (1.5, 1.0))\n",
      "1759859614350210000:  treatment_room - 1759859614350206000, desc: treatment room - 1759859614350206000 (dimentions: dim: [3.577708763999664, 2.23606797749979, 3.0], rt60: 0.7)(aspect_ratio: (1.6, 1.0))\n",
      "1759859614350247000:  patient_room - 1759859614350244000, desc: patient room - 1759859614350244000 (dimentions: dim: [4.018706259482024, 2.363944858518838, 3.0], rt60: 0.6)(aspect_ratio: (1.7, 1.0))\n",
      "1759859614350279000:  surgery_room - 1759859614350276000, desc: surgery room - 1759859614350276000 (dimentions: dim: [4.6475800154489, 2.581988897471611, 3.0], rt60: 0.77)(aspect_ratio: (1.8, 1.0))\n",
      "1759859614350309000:  waiting_room - 1759859614350307000, desc: waiting room - 1759859614350307000 (dimentions: dim: [5.477225575051661, 2.7386127875258306, 3.0], rt60: 0.55)(aspect_ratio: (2.0, 1.0))\n",
      "1759859614350338000:  emergency_room - 1759859614350336000, desc: emergency room - 1759859614350336000 (dimentions: dim: [6.29285308902091, 2.860387767736777, 3.0], rt60: 0.5)(aspect_ratio: (2.2, 1.0))\n",
      "1759859614350367000:  office_room - 1759859614350365000, desc: office room - 1759859614350365000 (dimentions: dim: [7.0710678118654755, 2.8284271247461903, 3.0], rt60: 0.65)(aspect_ratio: (2.5, 1.0))\n",
      "20.000000000000004\n",
      "60.000000000000014\n"
     ]
    }
   ],
   "source": [
    "generator = MedicalRoomGenerator()\n",
    "room = generator.generate({\"room_type\": RoomRole.CONSULTATION})\n",
    "print(room)\n",
    "room = generator.generate({\"room_type\": RoomRole.EXAMINATION})\n",
    "print(room)\n",
    "room = generator.generate({\"room_type\": RoomRole.TREATMENT})\n",
    "print(room)\n",
    "room = generator.generate({\"room_type\": RoomRole.PATIENT_ROOM})\n",
    "print(room)\n",
    "room = generator.generate({\"room_type\": RoomRole.SURGERY})\n",
    "print(room)\n",
    "room = generator.generate({\"room_type\": RoomRole.WAITING})\n",
    "print(room)\n",
    "room = generator.generate({\"room_type\": RoomRole.EMERGENCY})\n",
    "print(room)\n",
    "room = generator.generate({\"room_type\": RoomRole.OFFICE})\n",
    "print(room)\n",
    "print(room.get_square_meters())\n",
    "print(room.get_volume())"
   ]
  },
  {
   "cell_type": "markdown",
   "metadata": {},
   "source": [
    "## Basic room generator"
   ]
  },
  {
   "cell_type": "code",
   "execution_count": 5,
   "metadata": {},
   "outputs": [
    {
     "name": "stdout",
     "output_type": "stream",
     "text": [
      "1759859614355052000:  room_1759859614355026000, desc: room_1759859614355027000 (dimentions: dim: [4.0, 2.0, 2.5], rt60: 0.3625681229591343)(aspect_ratio: (2.0, 1.0))\n",
      "1759859614355127000:  room_1759859614355125000, desc: room_1759859614355125000 (dimentions: dim: [4.47213595499958, 4.47213595499958, 3.5], rt60: 0.3598544763240216)(aspect_ratio: (1.0, 1.0))\n"
     ]
    }
   ],
   "source": [
    "from sdialog.audio.room_generator import BasicRoomGenerator\n",
    "generator = BasicRoomGenerator()\n",
    "room = generator.generate({\"room_size\": 8})\n",
    "print(room)\n",
    "room = generator.generate({\"room_size\": 20})\n",
    "print(room)"
   ]
  },
  {
   "cell_type": "markdown",
   "metadata": {},
   "source": [
    "Show the square meters and volume ($m^3$) of the room"
   ]
  },
  {
   "cell_type": "code",
   "execution_count": 6,
   "metadata": {},
   "outputs": [
    {
     "name": "stdout",
     "output_type": "stream",
     "text": [
      "20.000000000000004\n",
      "70.00000000000001\n"
     ]
    }
   ],
   "source": [
    "print(room.get_square_meters())\n",
    "print(room.get_volume())"
   ]
  },
  {
   "cell_type": "markdown",
   "metadata": {},
   "source": [
    "## Vizualization of the room"
   ]
  },
  {
   "cell_type": "code",
   "execution_count": 7,
   "metadata": {},
   "outputs": [],
   "source": [
    "img = room.to_image()"
   ]
  },
  {
   "cell_type": "markdown",
   "metadata": {},
   "source": [
    "Print the image of the room"
   ]
  },
  {
   "cell_type": "code",
   "execution_count": 8,
   "metadata": {},
   "outputs": [
    {
     "data": {
      "image/jpeg": "[encoded data removed]",
      "image/png": "[encoded data removed]",
      "text/plain": [
       "<PIL.Image.Image image mode=RGB size=512x512>"
      ]
     },
     "metadata": {},
     "output_type": "display_data"
    }
   ],
   "source": [
    "display(img)"
   ]
  },
  {
   "cell_type": "markdown",
   "metadata": {},
   "source": [
    "or save the image locally"
   ]
  },
  {
   "cell_type": "code",
   "execution_count": 9,
   "metadata": {},
   "outputs": [],
   "source": [
    "img.save(\"room.png\")"
   ]
  },
  {
   "cell_type": "markdown",
   "metadata": {},
   "source": [
    "## Custom room generator"
   ]
  },
  {
   "cell_type": "code",
   "execution_count": null,
   "metadata": {},
   "outputs": [],
   "source": [
    "import random\n",
    "from sdialog.audio.room import Room\n",
    "from typing import Tuple, Dict, Any\n",
    "from sdialog.audio.room_generator import Dimensions3D\n",
    "from sdialog.audio.room_generator import RoomGenerator"
   ]
  },
  {
   "cell_type": "code",
   "execution_count": 18,
   "metadata": {},
   "outputs": [],
   "source": [
    "class CustomRoomGenerator(RoomGenerator):\n",
    "\n",
    "    def __init__(self):\n",
    "        super().__init__()\n",
    "\n",
    "        # Standard room sizes (floor area in m²): size, rt60, name, description\n",
    "        self.ROOM_SIZES: Dict[str, Tuple[float, float, str, str]] = {\n",
    "            \"big_warehouse\": ([1000, 2500], 0.47, \"big_warehouse\", \"big warehouse\"),\n",
    "            \"small_warehouse\": ([100, 200, 300], 0.75, \"small_warehouse\", \"small warehouse\"),\n",
    "        }\n",
    "\n",
    "        self.ROOM_ASPECT_RATIOS = {\n",
    "            100: (1.5, 1.0), 200: (1.5, 1.0), 300: (1.6, 1.0),\n",
    "            1000: (1.7, 1.0), 2500: (1.8, 1.0),\n",
    "        }\n",
    "\n",
    "    def calculate_room_dimensions(self, floor_area: float, aspect_ratio: Tuple[float, float]) -> Dimensions3D:\n",
    "        \"\"\"\n",
    "        Calculate room dimensions from floor area\n",
    "        floor_area: float\n",
    "        aspect_ratio: Tuple[float, float]\n",
    "        \"\"\"\n",
    "\n",
    "        w_ratio, l_ratio = aspect_ratio\n",
    "\n",
    "        length = math.sqrt(floor_area / (w_ratio / l_ratio))\n",
    "        width = length * (w_ratio / l_ratio)\n",
    "\n",
    "        return Dimensions3D(width=width, length=length, height=10)\n",
    "\n",
    "    def generate(self, args: Dict[str, Any]) -> Room:\n",
    "        \"\"\"\n",
    "        Generate a room based on predefined warehouse setups.\n",
    "        args:\n",
    "            warehouse_type: str\n",
    "        \"\"\"\n",
    "\n",
    "        if \"warehouse_type\" not in args:\n",
    "            raise ValueError(\"warehouse_type is required\")\n",
    "\n",
    "        if len(args) > 1:\n",
    "            raise ValueError(\"Only warehouse_type is allowed\")\n",
    "\n",
    "        floor_area, rt60, name, description = self.ROOM_SIZES[args[\"warehouse_type\"]]\n",
    "\n",
    "        # Randomly select a floor area from the list\n",
    "        floor_area = random.choice(floor_area)\n",
    "\n",
    "        if floor_area not in self.ROOM_ASPECT_RATIOS:\n",
    "            raise ValueError(f\"Unsupported room size: {floor_area}m²\")\n",
    "\n",
    "        w_ratio, l_ratio = self.ROOM_ASPECT_RATIOS[floor_area]\n",
    "\n",
    "        # Time in nanoseconds\n",
    "        time_in_ns = time.time_ns()\n",
    "\n",
    "        return Room(\n",
    "            name=f\"Warehouse: {name} - {time_in_ns}\",\n",
    "            description=f\"Warehouse: {description} - {time_in_ns}\",\n",
    "            dimensions=self.calculate_room_dimensions(floor_area, (w_ratio, l_ratio)),\n",
    "            rt60=rt60,\n",
    "            aspect_ratio=(w_ratio, l_ratio)\n",
    "        )\n"
   ]
  },
  {
   "cell_type": "code",
   "execution_count": 19,
   "metadata": {},
   "outputs": [
    {
     "ename": "NameError",
     "evalue": "name 'random' is not defined",
     "output_type": "error",
     "traceback": [
      "\u001b[0;31m---------------------------------------------------------------------------\u001b[0m",
      "\u001b[0;31mNameError\u001b[0m                                 Traceback (most recent call last)",
      "Cell \u001b[0;32mIn[19], line 1\u001b[0m\n\u001b[0;32m----> 1\u001b[0m room \u001b[38;5;241m=\u001b[39m \u001b[43mCustomRoomGenerator\u001b[49m\u001b[43m(\u001b[49m\u001b[43m)\u001b[49m\u001b[38;5;241;43m.\u001b[39;49m\u001b[43mgenerate\u001b[49m\u001b[43m(\u001b[49m\u001b[43m{\u001b[49m\u001b[38;5;124;43m\"\u001b[39;49m\u001b[38;5;124;43mwarehouse_type\u001b[39;49m\u001b[38;5;124;43m\"\u001b[39;49m\u001b[43m:\u001b[49m\u001b[43m \u001b[49m\u001b[38;5;124;43m\"\u001b[39;49m\u001b[38;5;124;43mbig_warehouse\u001b[39;49m\u001b[38;5;124;43m\"\u001b[39;49m\u001b[43m}\u001b[49m\u001b[43m)\u001b[49m\n\u001b[1;32m      2\u001b[0m \u001b[38;5;28mprint\u001b[39m(room)\n\u001b[1;32m      3\u001b[0m \u001b[38;5;28mprint\u001b[39m(room\u001b[38;5;241m.\u001b[39mget_square_meters())\n",
      "Cell \u001b[0;32mIn[18], line 47\u001b[0m, in \u001b[0;36mCustomRoomGenerator.generate\u001b[0;34m(self, args)\u001b[0m\n\u001b[1;32m     44\u001b[0m floor_area, rt60, name, description \u001b[38;5;241m=\u001b[39m \u001b[38;5;28mself\u001b[39m\u001b[38;5;241m.\u001b[39mROOM_SIZES[args[\u001b[38;5;124m\"\u001b[39m\u001b[38;5;124mwarehouse_type\u001b[39m\u001b[38;5;124m\"\u001b[39m]]\n\u001b[1;32m     46\u001b[0m \u001b[38;5;66;03m# Randomly select a floor area from the list\u001b[39;00m\n\u001b[0;32m---> 47\u001b[0m floor_area \u001b[38;5;241m=\u001b[39m \u001b[43mrandom\u001b[49m\u001b[38;5;241m.\u001b[39mchoice(floor_area)\n\u001b[1;32m     49\u001b[0m \u001b[38;5;28;01mif\u001b[39;00m floor_area \u001b[38;5;129;01mnot\u001b[39;00m \u001b[38;5;129;01min\u001b[39;00m \u001b[38;5;28mself\u001b[39m\u001b[38;5;241m.\u001b[39mROOM_ASPECT_RATIOS:\n\u001b[1;32m     50\u001b[0m     \u001b[38;5;28;01mraise\u001b[39;00m \u001b[38;5;167;01mValueError\u001b[39;00m(\u001b[38;5;124mf\u001b[39m\u001b[38;5;124m\"\u001b[39m\u001b[38;5;124mUnsupported room size: \u001b[39m\u001b[38;5;132;01m{\u001b[39;00mfloor_area\u001b[38;5;132;01m}\u001b[39;00m\u001b[38;5;124mm²\u001b[39m\u001b[38;5;124m\"\u001b[39m)\n",
      "\u001b[0;31mNameError\u001b[0m: name 'random' is not defined"
     ]
    }
   ],
   "source": [
    "room = CustomRoomGenerator().generate({\"warehouse_type\": \"big_warehouse\"})\n",
    "print(room)\n",
    "print(room.get_square_meters())\n",
    "print(room.get_volume())\n",
    "\n",
    "print(\"-\"*100)\n",
    "\n",
    "room = CustomRoomGenerator().generate({\"warehouse_type\": \"small_warehouse\"})\n",
    "print(room)\n",
    "print(room.get_square_meters())\n",
    "print(room.get_volume())\n"
   ]
  }
 ],
 "metadata": {
  "kernelspec": {
   "display_name": "jsalt",
   "language": "python",
   "name": "python3"
  },
  "language_info": {
   "codemirror_mode": {
    "name": "ipython",
    "version": 3
   },
   "file_extension": ".py",
   "mimetype": "text/x-python",
   "name": "python",
   "nbconvert_exporter": "python",
   "pygments_lexer": "ipython3",
   "version": "3.9.23"
  }
 },
 "nbformat": 4,
 "nbformat_minor": 2
}
