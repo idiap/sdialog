{
 "cells": [
  {
   "cell_type": "markdown",
   "metadata": {},
   "source": [
    "# SDialog dependencies"
   ]
  },
  {
   "cell_type": "code",
   "execution_count": null,
   "metadata": {},
   "outputs": [],
   "source": [
    "# Setup the environment depending on weather we are running in Google Colab or Jupyter Notebook\n",
    "from IPython import get_ipython\n",
    "\n",
    "\n",
    "if \"google.colab\" in str(get_ipython()):\n",
    "    print(\"Running on CoLab\")\n",
    "\n",
    "    # Installing Ollama (if you are not planning to use Ollama, you can just comment these lines to speed up the installation)\n",
    "    !curl -fsSL https://ollama.com/install.sh | sh\n",
    "\n",
    "    # Installing sdialog\n",
    "    !git clone https://github.com/qanastek/sdialog.git\n",
    "    %cd sdialog\n",
    "    %pip install -e .\n",
    "    %cd ..\n",
    "else:\n",
    "    print(\"Running in Jupyter Notebook\")\n",
    "    # Little hack to avoid the \"OSError: Background processes not supported.\" error in Jupyter notebooks\"\n",
    "    import os\n",
    "    get_ipython().system = os.system"
   ]
  },
  {
   "cell_type": "markdown",
   "metadata": {},
   "source": [
    "## Locally"
   ]
  },
  {
   "cell_type": "markdown",
   "metadata": {},
   "source": [
    "Run following commands and then `Restart` your environment."
   ]
  },
  {
   "cell_type": "code",
   "execution_count": null,
   "metadata": {},
   "outputs": [],
   "source": [
    "%%script false --no-raise-error\n",
    "%pip install -e ..\n",
    "%pip show sdialog"
   ]
  },
  {
   "cell_type": "markdown",
   "metadata": {},
   "source": [
    "# Tutorial 8: Room generation and creation"
   ]
  },
  {
   "cell_type": "markdown",
   "metadata": {},
   "source": [
    "## Medical room generator"
   ]
  },
  {
   "cell_type": "code",
   "execution_count": null,
   "metadata": {},
   "outputs": [],
   "source": [
    "from sdialog.audio.jsalt import MedicalRoomGenerator, RoomRole"
   ]
  },
  {
   "cell_type": "code",
   "execution_count": null,
   "metadata": {},
   "outputs": [],
   "source": [
    "generator = MedicalRoomGenerator()\n",
    "room = generator.generate({\"room_type\": RoomRole.CONSULTATION})\n",
    "print(room)\n",
    "room = generator.generate({\"room_type\": RoomRole.EXAMINATION})\n",
    "print(room)\n",
    "room = generator.generate({\"room_type\": RoomRole.TREATMENT})\n",
    "print(room)\n",
    "room = generator.generate({\"room_type\": RoomRole.PATIENT_ROOM})\n",
    "print(room)\n",
    "room = generator.generate({\"room_type\": RoomRole.SURGERY})\n",
    "print(room)\n",
    "room = generator.generate({\"room_type\": RoomRole.WAITING})\n",
    "print(room)\n",
    "room = generator.generate({\"room_type\": RoomRole.EMERGENCY})\n",
    "print(room)\n",
    "room = generator.generate({\"room_type\": RoomRole.OFFICE})\n",
    "print(room)\n",
    "print(room.get_square_meters())\n",
    "print(room.get_volume())"
   ]
  },
  {
   "cell_type": "markdown",
   "metadata": {},
   "source": [
    "## Basic room generator"
   ]
  },
  {
   "cell_type": "code",
   "execution_count": null,
   "metadata": {},
   "outputs": [],
   "source": [
    "from sdialog.audio.room_generator import BasicRoomGenerator\n",
    "\n",
    "# With seed\n",
    "generator = BasicRoomGenerator()\n",
    "room = generator.generate({\"room_size\": 8})\n",
    "print(room)\n",
    "\n",
    "# Without seed\n",
    "generator = BasicRoomGenerator(seed=123)\n",
    "room = generator.generate({\"room_size\": 8})\n",
    "print(room)\n",
    "room = generator.generate({\"room_size\": 20})\n",
    "print(room)"
   ]
  },
  {
   "cell_type": "markdown",
   "metadata": {},
   "source": [
    "Show the square meters ($m^2$) and volume ($m^3$) of the room"
   ]
  },
  {
   "cell_type": "code",
   "execution_count": null,
   "metadata": {},
   "outputs": [],
   "source": [
    "print(int(room.get_square_meters()), \"m²\")\n",
    "print(int(room.get_volume()), \"m³\")"
   ]
  },
  {
   "cell_type": "markdown",
   "metadata": {},
   "source": [
    "## Vizualization of the room"
   ]
  },
  {
   "cell_type": "code",
   "execution_count": null,
   "metadata": {},
   "outputs": [],
   "source": [
    "img = room.to_image(\n",
    "    show_anchors=True,\n",
    "    show_walls=True,\n",
    "    show_furnitures=True,\n",
    "    show_speakers=True,\n",
    "    show_microphones=True\n",
    ")"
   ]
  },
  {
   "cell_type": "markdown",
   "metadata": {},
   "source": [
    "Print the image of the room"
   ]
  },
  {
   "cell_type": "code",
   "execution_count": null,
   "metadata": {},
   "outputs": [],
   "source": [
    "display(img)"
   ]
  },
  {
   "cell_type": "markdown",
   "metadata": {},
   "source": [
    "or save the image locally"
   ]
  },
  {
   "cell_type": "code",
   "execution_count": null,
   "metadata": {},
   "outputs": [],
   "source": [
    "img.save(\"room.png\")"
   ]
  },
  {
   "cell_type": "markdown",
   "metadata": {},
   "source": [
    "You can also adjust what information from the room you want to display by switching `show_XXX` parameters to `False` like `show_furnitures=False` or `show_microphones=False`"
   ]
  },
  {
   "cell_type": "markdown",
   "metadata": {},
   "source": [
    "## Custom room generator"
   ]
  },
  {
   "cell_type": "code",
   "execution_count": null,
   "metadata": {},
   "outputs": [],
   "source": [
    "import math\n",
    "import time\n",
    "import random\n",
    "from sdialog.audio.room import Room\n",
    "from typing import Tuple, Dict, Any\n",
    "from sdialog.audio.audio_utils import Furniture\n",
    "from sdialog.audio.room_generator import Dimensions3D, RoomGenerator"
   ]
  },
  {
   "cell_type": "code",
   "execution_count": null,
   "metadata": {},
   "outputs": [],
   "source": [
    "class CustomRoomGenerator(RoomGenerator):\n",
    "\n",
    "    def __init__(self):\n",
    "        super().__init__()\n",
    "\n",
    "        # Standard room sizes (floor area in m²): size, reverberation_time_ratio, name, description\n",
    "        self.ROOM_SIZES: Dict[str, Tuple[List[int], float, str, str]] = {\n",
    "            \"big_warehouse\": ([1000, 2500], 0.47, \"big_warehouse\", \"big warehouse\"),\n",
    "            \"small_warehouse\": ([100, 200, 300], 0.75, \"small_warehouse\", \"small warehouse\"),\n",
    "        }\n",
    "\n",
    "        self.ROOM_ASPECT_RATIOS = {\n",
    "            100: (1.5, 1.0), 200: (1.5, 1.0), 300: (1.6, 1.0),\n",
    "            1000: (1.7, 1.0), 2500: (1.8, 1.0),\n",
    "        }\n",
    "\n",
    "    def calculate_room_dimensions(self, floor_area: float, aspect_ratio: Tuple[float, float]) -> Dimensions3D:\n",
    "        \"\"\"\n",
    "        Calculate room dimensions from floor area\n",
    "        floor_area: float\n",
    "        aspect_ratio: Tuple[float, float]\n",
    "        \"\"\"\n",
    "\n",
    "        w_ratio, l_ratio = aspect_ratio\n",
    "\n",
    "        length = math.sqrt(floor_area / (w_ratio / l_ratio))\n",
    "        width = length * (w_ratio / l_ratio)\n",
    "\n",
    "        return Dimensions3D(width=width, length=length, height=10)\n",
    "\n",
    "    def generate(self, args: Dict[str, Any]) -> Room:\n",
    "        \"\"\"\n",
    "        Generate a room based on predefined warehouse setups.\n",
    "        args:\n",
    "            warehouse_type: str\n",
    "        \"\"\"\n",
    "\n",
    "        if \"warehouse_type\" not in args:\n",
    "            raise ValueError(\"warehouse_type is required\")\n",
    "\n",
    "        if len(args) > 1:\n",
    "            raise ValueError(\"Only warehouse_type is allowed\")\n",
    "\n",
    "        floor_area, reverberation_time_ratio, name, description = self.ROOM_SIZES[args[\"warehouse_type\"]]\n",
    "\n",
    "        # Randomly select a floor area from the list\n",
    "        floor_area = random.choice(floor_area)\n",
    "\n",
    "        if floor_area not in self.ROOM_ASPECT_RATIOS:\n",
    "            raise ValueError(f\"Unsupported room size: {floor_area}m²\")\n",
    "\n",
    "        w_ratio, l_ratio = self.ROOM_ASPECT_RATIOS[floor_area]\n",
    "\n",
    "        # Time in nanoseconds\n",
    "        time_in_ns = time.time_ns()\n",
    "\n",
    "        dims = self.calculate_room_dimensions(floor_area, (w_ratio, l_ratio))\n",
    "\n",
    "        room = Room(\n",
    "            name=f\"Warehouse: {name} - {time_in_ns}\",\n",
    "            description=f\"Warehouse: {description} - {time_in_ns}\",\n",
    "            dimensions=dims,\n",
    "            reverberation_time_ratio=reverberation_time_ratio,\n",
    "            furnitures={\n",
    "                \"door\": Furniture(\n",
    "                    name=\"door\",\n",
    "                    x=0.10,\n",
    "                    y=0.10,\n",
    "                    width=0.70,\n",
    "                    height=2.10,\n",
    "                    depth=0.5\n",
    "                )\n",
    "            }\n",
    "        )\n",
    "\n",
    "        return room\n"
   ]
  },
  {
   "cell_type": "code",
   "execution_count": null,
   "metadata": {},
   "outputs": [],
   "source": [
    "room = CustomRoomGenerator().generate({\"warehouse_type\": \"big_warehouse\"})\n",
    "print(room)\n",
    "print(room.get_square_meters())\n",
    "print(room.get_volume())\n",
    "\n",
    "print(\"-\"*100)\n",
    "\n",
    "room = CustomRoomGenerator().generate({\"warehouse_type\": \"small_warehouse\"})\n",
    "print(room)\n",
    "print(room.get_square_meters())\n",
    "print(room.get_volume())\n"
   ]
  },
  {
   "cell_type": "markdown",
   "metadata": {},
   "source": [
    "### Add furniture to a Room instance"
   ]
  },
  {
   "cell_type": "code",
   "execution_count": null,
   "metadata": {},
   "outputs": [],
   "source": [
    "display(room.to_image())"
   ]
  },
  {
   "cell_type": "markdown",
   "metadata": {},
   "source": [
    "Let now add a carpet in the room"
   ]
  },
  {
   "cell_type": "code",
   "execution_count": null,
   "metadata": {},
   "outputs": [],
   "source": [
    "from sdialog.audio.audio_utils import RGBAColor"
   ]
  },
  {
   "cell_type": "code",
   "execution_count": null,
   "metadata": {},
   "outputs": [],
   "source": [
    "room.add_furnitures({\n",
    "    \"carpet\": Furniture(\n",
    "        name=\"carpet\",\n",
    "        x=0.0,\n",
    "        y=0.0,\n",
    "        height=1.5,\n",
    "        width=6.1,\n",
    "        depth=4.1,\n",
    "        color=RGBAColor.PURPLE\n",
    "    )\n",
    "})"
   ]
  },
  {
   "cell_type": "code",
   "execution_count": null,
   "metadata": {},
   "outputs": [],
   "source": [
    "display(room.to_image())"
   ]
  },
  {
   "cell_type": "markdown",
   "metadata": {},
   "source": [
    "## Custom microphone position"
   ]
  },
  {
   "cell_type": "code",
   "execution_count": null,
   "metadata": {},
   "outputs": [],
   "source": [
    "from sdialog.audio.room import MicrophonePosition, Position3D"
   ]
  },
  {
   "cell_type": "code",
   "execution_count": null,
   "metadata": {},
   "outputs": [],
   "source": [
    "room = Room(\n",
    "    name=\"MyDemoRoomWithCustomMicPosition\",\n",
    "    description=\"MyDemoRoomWithCustomMicPosition\",\n",
    "    dimensions=Dimensions3D(width=10, length=10, height=10),\n",
    "    reverberation_time_ratio=0.5,\n",
    "    mic_position=MicrophonePosition.CUSTOM,\n",
    "    mic_position_3d=Position3D(x=7.0, y=7.0, z=3.0)\n",
    ")\n",
    "display(room.to_image())"
   ]
  },
  {
   "cell_type": "code",
   "execution_count": null,
   "metadata": {},
   "outputs": [],
   "source": [
    "room.add_furnitures({\n",
    "    \"lamp\": Furniture(\n",
    "        name=\"lamp\",\n",
    "        x=6.5,\n",
    "        y=1.5,\n",
    "        width=0.72,\n",
    "        height=1.3,\n",
    "        depth=0.72\n",
    "    )\n",
    "})\n",
    "\n",
    "room.add_furnitures({\n",
    "    \"chair\": Furniture(\n",
    "        name=\"chair\",\n",
    "        x=2.5,\n",
    "        y=4.5,\n",
    "        width=0.2,\n",
    "        height=1.3,\n",
    "        depth=0.2\n",
    "    )\n",
    "})\n",
    "\n",
    "display(room.to_image())"
   ]
  },
  {
   "cell_type": "markdown",
   "metadata": {},
   "source": [
    "Now we will bind a speaker identifier to a position"
   ]
  },
  {
   "cell_type": "code",
   "execution_count": null,
   "metadata": {},
   "outputs": [],
   "source": [
    "room.place_speaker_around_furniture(speaker_name=\"speaker_1\", furniture_name=\"lamp\")\n",
    "display(room.to_image())"
   ]
  },
  {
   "cell_type": "markdown",
   "metadata": {},
   "source": [
    "We can do the same for the speaker 2:"
   ]
  },
  {
   "cell_type": "code",
   "execution_count": null,
   "metadata": {},
   "outputs": [],
   "source": [
    "room.place_speaker_around_furniture(speaker_name=\"speaker_2\", furniture_name=\"chair\")\n",
    "display(room.to_image())"
   ]
  },
  {
   "cell_type": "markdown",
   "metadata": {},
   "source": [
    "We can also place the speaker close to the other one with more distance (in meters):"
   ]
  },
  {
   "cell_type": "code",
   "execution_count": null,
   "metadata": {},
   "outputs": [],
   "source": [
    "room.place_speaker_around_furniture(speaker_name=\"speaker_2\", furniture_name=\"lamp\", max_distance=0.5)\n",
    "display(room.to_image())"
   ]
  },
  {
   "cell_type": "markdown",
   "metadata": {},
   "source": [
    "We want to try now to place the speaker 2 on the `front` of the `lamp` at a distance of maximum `1 meter`: "
   ]
  },
  {
   "cell_type": "code",
   "execution_count": null,
   "metadata": {},
   "outputs": [],
   "source": [
    "from sdialog.audio.audio_utils import SpeakerSide"
   ]
  },
  {
   "cell_type": "code",
   "execution_count": null,
   "metadata": {},
   "outputs": [],
   "source": [
    "room.place_speaker_around_furniture(speaker_name=\"speaker_2\", furniture_name=\"lamp\", max_distance=10.0, side=SpeakerSide.FRONT)\n",
    "display(room.to_image())"
   ]
  },
  {
   "cell_type": "markdown",
   "metadata": {},
   "source": [
    "You can also bind the speaker without explicitly mentionning a furniture and it will be binded to the `center` of the room:"
   ]
  },
  {
   "cell_type": "code",
   "execution_count": null,
   "metadata": {},
   "outputs": [],
   "source": [
    "room.place_speaker_around_furniture(speaker_name=\"speaker_2\", max_distance=1.0)\n",
    "display(room.to_image())"
   ]
  },
  {
   "cell_type": "markdown",
   "metadata": {},
   "source": [
    "You can also place the speaker manually at a predefined 3D positions:"
   ]
  },
  {
   "cell_type": "code",
   "execution_count": null,
   "metadata": {},
   "outputs": [],
   "source": [
    "room.place_speaker(speaker_name=\"speaker_1\", position=Position3D(x=1.0, y=1.0, z=1.0))\n",
    "display(room.to_image())"
   ]
  },
  {
   "cell_type": "markdown",
   "metadata": {},
   "source": [
    "Now we are going to compute distances between speakers and the microphone:"
   ]
  },
  {
   "cell_type": "code",
   "execution_count": null,
   "metadata": {},
   "outputs": [],
   "source": [
    "room.get_speaker_distances_to_microphone()"
   ]
  }
 ],
 "metadata": {
  "kernelspec": {
   "display_name": "jsalt",
   "language": "python",
   "name": "python3"
  },
  "language_info": {
   "codemirror_mode": {
    "name": "ipython",
    "version": 3
   },
   "file_extension": ".py",
   "mimetype": "text/x-python",
   "name": "python",
   "nbconvert_exporter": "python",
   "pygments_lexer": "ipython3",
   "version": "3.9.23"
  }
 },
 "nbformat": 4,
 "nbformat_minor": 2
}
