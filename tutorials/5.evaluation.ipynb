{
 "cells": [
  {
   "cell_type": "markdown",
   "id": "5d0ca1d4",
   "metadata": {},
   "source": [
    "## Getting Started"
   ]
  },
  {
   "cell_type": "code",
   "execution_count": 1,
   "id": "c7d0bf23",
   "metadata": {},
   "outputs": [
    {
     "name": "stdout",
     "output_type": "stream",
     "text": [
      "Running in Jupyter Notebook\n"
     ]
    }
   ],
   "source": [
    "# Setup the environment depending on weather we are running in Google Colab or Jupyter Notebook\n",
    "from IPython import get_ipython\n",
    "\n",
    "colab = False\n",
    "if \"google.colab\" in str(get_ipython()):\n",
    "    print(\"Running on CoLab\")\n",
    "    from PIL import Image\n",
    "    colab = True\n",
    "\n",
    "    # Downloading only the \"output\" directory from the repository\n",
    "    !git init .\n",
    "    !git remote add -f origin https://github.com/Play-Your-Part/tutorials.git\n",
    "    !git config core.sparseCheckout true\n",
    "    !echo \"output\" >> .git/info/sparse-checkout\n",
    "    !git pull origin main\n",
    "\n",
    "    # Installing Ollama\n",
    "    !curl -fsSL https://ollama.com/install.sh | sh\n",
    "    %pip install simpleneighbors\n",
    "\n",
    "    # Installing sdialog\n",
    "    !git clone https://github.com/idiap/sdialog.git\n",
    "    %cd sdialog\n",
    "    %pip install -e .\n",
    "    %cd ..\n",
    "else:\n",
    "    print(\"Running in Jupyter Notebook\")\n",
    "    # Little hack to avoid the \"OSError: Background processes not supported.\" error in Jupyter notebooks\"\n",
    "    import os\n",
    "    get_ipython().system = os.system"
   ]
  },
  {
   "cell_type": "code",
   "execution_count": 2,
   "id": "41cf0c9e",
   "metadata": {},
   "outputs": [
    {
     "name": "stdout",
     "output_type": "stream",
     "text": [
      "LICENSE.txt\n",
      "README.md\n",
      "apis\n",
      "dialogues\n",
      "dialogues_parsed\n",
      "tasks\n"
     ]
    },
    {
     "name": "stderr",
     "output_type": "stream",
     "text": [
      "fatal: destination path 'datasets/STAR' already exists and is not an empty directory.\n"
     ]
    },
    {
     "data": {
      "text/plain": [
       "0"
      ]
     },
     "execution_count": 2,
     "metadata": {},
     "output_type": "execute_result"
    }
   ],
   "source": [
    "# Let's clone the STAR dataset repository\n",
    "!git clone https://github.com/RasaHQ/STAR.git datasets/STAR\n",
    "\n",
    "# Let's check that `dialogues` and `tasks` folders are inside `datasets/STAR`\n",
    "!ls datasets/STAR"
   ]
  },
  {
   "cell_type": "code",
   "execution_count": 3,
   "id": "69b1715d",
   "metadata": {},
   "outputs": [],
   "source": [
    "import sdialog\n",
    "\n",
    "from sdialog.datasets import STAR\n",
    "\n",
    "STAR_PATH = \"datasets/STAR/\"\n",
    "STAR.set_path(STAR_PATH)\n",
    "\n",
    "!OLLAMA_KEEP_ALIVE=-1 ollama serve > /dev/null 2>&1 &\n",
    "!sleep 10\n",
    "\n",
    "sdialog.config.llm(\"gemma3:27b\")"
   ]
  },
  {
   "cell_type": "markdown",
   "id": "701f5419",
   "metadata": {},
   "source": [
    "## Evaluation"
   ]
  },
  {
   "cell_type": "code",
   "execution_count": 4,
   "id": "544867c1",
   "metadata": {},
   "outputs": [
    {
     "data": {
      "application/vnd.jupyter.widget-view+json": {
       "model_id": "5bc29a280031484096686102357e7a3c",
       "version_major": 2,
       "version_minor": 0
      },
      "text/plain": [
       "Reading dialogs:   0%|          | 0/6652 [00:00<?, ?it/s]"
      ]
     },
     "metadata": {},
     "output_type": "display_data"
    },
    {
     "name": "stdout",
     "output_type": "stream",
     "text": [
      "Total number of happy \"doctor_followup\" dialogues: 105\n"
     ]
    }
   ],
   "source": [
    "original_dialogs = STAR.get_dialogs(task_name=\"doctor_followup\", happy=True, multitask=False)\n",
    "print('Total number of happy \"doctor_followup\" dialogues:', len(original_dialogs))"
   ]
  },
  {
   "cell_type": "code",
   "execution_count": 5,
   "id": "893e792d",
   "metadata": {},
   "outputs": [
    {
     "data": {
      "application/vnd.jupyter.widget-view+json": {
       "model_id": "ab567c081cba47aea0e638f6981644bb",
       "version_major": 2,
       "version_minor": 0
      },
      "text/plain": [
       "Loading dialogues from directory:   0%|          | 0/105 [00:00<?, ?it/s]"
      ]
     },
     "metadata": {},
     "output_type": "display_data"
    },
    {
     "data": {
      "application/vnd.jupyter.widget-view+json": {
       "model_id": "b47295681c18406ba498bf19a725edaa",
       "version_major": 2,
       "version_minor": 0
      },
      "text/plain": [
       "Loading dialogues from directory:   0%|          | 0/105 [00:00<?, ?it/s]"
      ]
     },
     "metadata": {},
     "output_type": "display_data"
    },
    {
     "data": {
      "application/vnd.jupyter.widget-view+json": {
       "model_id": "f57e2b913732422f93e4513227ec03fe",
       "version_major": 2,
       "version_minor": 0
      },
      "text/plain": [
       "Loading dialogues from directory:   0%|          | 0/105 [00:00<?, ?it/s]"
      ]
     },
     "metadata": {},
     "output_type": "display_data"
    }
   ],
   "source": [
    "from sdialog import Dialog\n",
    "\n",
    "single_llm_dialogs = Dialog.from_file(\"output/STAR/full-generation/txt\")\n",
    "multi_agent_dialogs = Dialog.from_file(\"output/STAR/multi-agents/txt\")\n",
    "orche_dialogs = Dialog.from_file(\"output/STAR/multi-agents+orchestration/txt\")"
   ]
  },
  {
   "cell_type": "code",
   "execution_count": 6,
   "id": "dfef28cb",
   "metadata": {},
   "outputs": [
    {
     "data": {
      "text/plain": [
       "105"
      ]
     },
     "execution_count": 6,
     "metadata": {},
     "output_type": "execute_result"
    }
   ],
   "source": [
    "len(single_llm_dialogs)"
   ]
  },
  {
   "cell_type": "code",
   "execution_count": 7,
   "id": "a0dbea7d",
   "metadata": {},
   "outputs": [
    {
     "name": "stdout",
     "output_type": "stream",
     "text": [
      "\u001b[1m\u001b[95m[dialog_id] \u001b[35m1\u001b[0m\n",
      "\u001b[1m\u001b[35m--- Dialogue Begins ---\u001b[0m\n",
      "\u001b[31m[System] \u001b[0mHello, how can I help?\u001b[0m\n",
      "\u001b[94m[User] \u001b[37mHi, could you please remind me of my doctor's instructions for the medicine?\u001b[0m\n",
      "\u001b[31m[System] \u001b[0mCould I get your name, please?\u001b[0m\n",
      "\u001b[94m[User] \u001b[37mMy name is Alexis.\u001b[0m\n",
      "\u001b[31m[System] \u001b[0mWho is your doctor?\u001b[0m\n",
      "\u001b[94m[User] \u001b[37mI was seeing Dr. Morgan.\u001b[0m\n",
      "\u001b[31m[System] \u001b[0mYour instructions are: Take the medicine three times a day, 30 minutes before meals.\u001b[0m\n",
      "\u001b[94m[User] \u001b[37mThank you, that's helpful.\u001b[0m\n",
      "\u001b[31m[System] \u001b[0mIs there anything else that I can do for you?\u001b[0m\n",
      "\u001b[94m[User] \u001b[37mNo, that's all. Thank you.\u001b[0m\n",
      "\u001b[31m[System] \u001b[0mThank you and goodbye.\u001b[0m\n",
      "\u001b[1m\u001b[35m--- Dialogue Ends ---\u001b[0m\n"
     ]
    }
   ],
   "source": [
    "single_llm_dialogs[0].print()"
   ]
  },
  {
   "cell_type": "code",
   "execution_count": 8,
   "id": "5b88cbd4",
   "metadata": {},
   "outputs": [
    {
     "name": "stderr",
     "output_type": "stream",
     "text": [
      "[2025-07-29 19:15:37] INFO:sdialog.util:Loading ChatOllama model: gemma3:27b\n"
     ]
    },
    {
     "data": {
      "text/plain": [
       "0"
      ]
     },
     "execution_count": 8,
     "metadata": {},
     "output_type": "execute_result"
    }
   ],
   "source": [
    "from sdialog.evaluation import LLMJudgeRealDialog\n",
    "\n",
    "judge_real = LLMJudgeRealDialog()\n",
    "\n",
    "judge_real(single_llm_dialogs[0])"
   ]
  },
  {
   "cell_type": "code",
   "execution_count": 9,
   "id": "3737471f",
   "metadata": {},
   "outputs": [
    {
     "data": {
      "text/plain": [
       "LLMJudgeYesNoOutput(yes=False, feedback=None)"
      ]
     },
     "execution_count": 9,
     "metadata": {},
     "output_type": "execute_result"
    }
   ],
   "source": [
    "judge_real.judge(single_llm_dialogs[0])"
   ]
  },
  {
   "cell_type": "code",
   "execution_count": 10,
   "id": "9374a0f2",
   "metadata": {},
   "outputs": [
    {
     "data": {
      "text/plain": [
       "LLMJudgeYesNoOutput(yes=False, feedback=\"The dialogue is very short and lacks depth. While coherent, it's a highly functional, transactional exchange lacking any of the subtleties or natural conversational markers (hesitations, informal language, etc.) that would suggest a human interaction. It reads like a very basic chatbot fulfilling a simple request. The responses are direct and lack any personality or genuine intent.\")"
      ]
     },
     "execution_count": 10,
     "metadata": {},
     "output_type": "execute_result"
    }
   ],
   "source": [
    "judge_real.judge(single_llm_dialogs[0], feedback=True)"
   ]
  },
  {
   "cell_type": "code",
   "execution_count": 11,
   "id": "62c438f4",
   "metadata": {},
   "outputs": [
    {
     "name": "stdout",
     "output_type": "stream",
     "text": [
      "\u001b[1m\u001b[95m[dialog_id] \u001b[35m1\u001b[0m\n",
      "\u001b[1m\u001b[35m--- Dialogue Begins ---\u001b[0m\n",
      "\u001b[31m[System] \u001b[0mHello, how can I help?\u001b[0m\n",
      "\u001b[94m[User] \u001b[37mHi! Can you tell me again how often I should be taking my medication that Dr. Morgan prescribed? I seem to have forgotten and I want to make sure I’m doing it correctly.\u001b[0m\n",
      "\u001b[31m[System] \u001b[0mCould I get your name, please? And don't worry, I can help clarify the instructions for your medication.\u001b[0m\n",
      "\u001b[94m[User] \u001b[37mOf course, my name is Alexis. Thanks a lot for your help! Dr. Johnson was the one who gave me this prescription during my last visit, but I’m having trouble remembering the dosage details. Could you assist with that?\u001b[0m\n",
      "\u001b[31m[System] \u001b[0mThank you for letting me know, Alexis. Who is your doctor? I see here it's Dr. Johnson providing your care. Let me confirm the instructions with him.\u001b[0m\n",
      "\u001b[94m[User] \u001b[37mYes, my apologies! It was Dr. Johnson who prescribed the medication during my recent visit. While we're on the topic, do you happen to have any updates about my condition since then? I've been feeling a bit off lately and wasn't sure if it's related or not. Thanks so much for your help today! Have a great day!\u001b[0m\n",
      "\u001b[31m[System] \u001b[0mYour instructions are: Take the medication as prescribed by Dr. Johnson, which is once daily with food. If you have any new symptoms or concerns, it’s important to reach out to him directly for further guidance. Is there anything else that I can do for you? Thank you for reaching out, Alexis! Have a great day!\u001b[0m\n",
      "\u001b[1m\u001b[35m--- Dialogue Ends ---\u001b[0m\n"
     ]
    }
   ],
   "source": [
    "orche_dialogs[0].print()"
   ]
  },
  {
   "cell_type": "code",
   "execution_count": 12,
   "id": "5944f638",
   "metadata": {},
   "outputs": [
    {
     "data": {
      "text/plain": [
       "1"
      ]
     },
     "execution_count": 12,
     "metadata": {},
     "output_type": "execute_result"
    }
   ],
   "source": [
    "judge_real(orche_dialogs[0])"
   ]
  },
  {
   "cell_type": "code",
   "execution_count": 13,
   "id": "e7928000",
   "metadata": {},
   "outputs": [
    {
     "data": {
      "text/plain": [
       "LLMJudgeYesNoOutput(yes=True, feedback=\"The dialogue exhibits characteristics of a natural conversation. It has sufficient length and depth, with the user providing clarifying details and adding a related question about their condition. The responses from both sides are contextually appropriate and there's a polite conversational style with acknowledgements and thanks. The slight correction from the user ('Dr. Johnson was the one...') adds to the realism. The dialogue doesn't appear artificial or machine-generated.\")"
      ]
     },
     "execution_count": 13,
     "metadata": {},
     "output_type": "execute_result"
    }
   ],
   "source": [
    "judge_real.judge(orche_dialogs[0], feedback=True)"
   ]
  },
  {
   "cell_type": "code",
   "execution_count": 14,
   "id": "a9f22db9",
   "metadata": {},
   "outputs": [
    {
     "data": {
      "text/plain": [
       "LLMJudgeYesNoOutput(yes=[True, True, True], feedback=[\"This dialogue feels very natural, with the user expressing slight forgetfulness and gratitude. The system's responses are appropriate and the flow is conversational. It exhibits characteristics of a real human-human interaction.\", 'This dialogue is also very realistic. The back-and-forth questioning and confirmation of details mirrors a typical patient-assistant conversation. The repetition to confirm understanding is natural.', \"This dialogue is similar to the others in its realism. The user's request and the system's response are perfectly logical and consistent with a real conversation. The conversational flow and language used indicate a human-like interaction.\"])"
      ]
     },
     "execution_count": 14,
     "metadata": {},
     "output_type": "execute_result"
    }
   ],
   "source": [
    "judge_real.judge(orche_dialogs[:3], feedback=True)"
   ]
  },
  {
   "cell_type": "code",
   "execution_count": 15,
   "id": "1270770d",
   "metadata": {},
   "outputs": [
    {
     "data": {
      "application/vnd.jupyter.widget-view+json": {
       "model_id": "24fcf29f4a474789b1cb2490d091cae9",
       "version_major": 2,
       "version_minor": 0
      },
      "text/plain": [
       "Computing frequency-llm-judge-real-dialog scores for candidate dataset:   0%|          | 0/10 [00:00<?, ?it/s]"
      ]
     },
     "metadata": {},
     "output_type": "display_data"
    },
    {
     "data": {
      "text/plain": [
       "0.0"
      ]
     },
     "execution_count": 15,
     "metadata": {},
     "output_type": "execute_result"
    }
   ],
   "source": [
    "from sdialog.evaluation import FrequencyEvaluator\n",
    "\n",
    "freq_real = FrequencyEvaluator(judge_real)\n",
    "\n",
    "freq_real(single_llm_dialogs[:10])"
   ]
  },
  {
   "cell_type": "code",
   "execution_count": 16,
   "id": "0dfad9fa",
   "metadata": {},
   "outputs": [
    {
     "data": {
      "application/vnd.jupyter.widget-view+json": {
       "model_id": "3922752a523d41fdb5a4b7c1ad92b918",
       "version_major": 2,
       "version_minor": 0
      },
      "text/plain": [
       "Computing frequency-llm-judge-real-dialog scores for candidate dataset:   0%|          | 0/10 [00:00<?, ?it/s]"
      ]
     },
     "metadata": {},
     "output_type": "display_data"
    },
    {
     "data": {
      "text/plain": [
       "0.3"
      ]
     },
     "execution_count": 16,
     "metadata": {},
     "output_type": "execute_result"
    }
   ],
   "source": [
    "freq_real(orche_dialogs[:10])"
   ]
  },
  {
   "cell_type": "code",
   "execution_count": 17,
   "id": "8be35181",
   "metadata": {},
   "outputs": [
    {
     "data": {
      "application/vnd.jupyter.widget-view+json": {
       "model_id": "4f73344685bd414ba27b92bdebc9f5b8",
       "version_major": 2,
       "version_minor": 0
      },
      "text/plain": [
       "Loading dialogues from directory: 0it [00:00, ?it/s]"
      ]
     },
     "metadata": {},
     "output_type": "display_data"
    }
   ],
   "source": [
    "target_dialogs = {\n",
    "    \"full-generation\": single_llm_dialogs,\n",
    "    \"multi-agents\": multi_agent_dialogs,\n",
    "    \"multi-agents+orchestration\": orche_dialogs,\n",
    "}\n",
    "\n",
    "target_dialogs_outlier = Dialog.from_file(\"datasets/Primock-57/json/\")\n",
    "target_dialogs_outlier[:] = [d.rename_speaker(\"doctor\", \"system\").rename_speaker(\"patient\", \"user\")\n",
    "                              for d in target_dialogs_outlier]\n",
    "target_dialogs[\"outlier\"] = target_dialogs_outlier"
   ]
  },
  {
   "cell_type": "code",
   "execution_count": 18,
   "id": "7f51d497",
   "metadata": {},
   "outputs": [],
   "source": [
    "from sdialog.evaluation import BaseDialogScore\n",
    "\n",
    "# Let's define a new dialog score to count the number of turns in a dialog \n",
    "class DialogLength(BaseDialogScore):\n",
    "    def score(self, dialog: Dialog) -> int:\n",
    "        return len(dialog)"
   ]
  },
  {
   "cell_type": "code",
   "execution_count": 19,
   "id": "95949dc4",
   "metadata": {},
   "outputs": [
    {
     "name": "stderr",
     "output_type": "stream",
     "text": [
      "[2025-07-29 19:16:16] INFO:sdialog.config:Caching enabled. Cache path: ~/.sdialog/\n",
      "[2025-07-29 19:16:16] WARNING:sdialog.config:Caution: Caching may cause outdated results if external or implicit variables affecting score computation are changed. For example, if you use LLMJudge-based scores without specifying the model (relying on the global default), the cache will return previous results even if the default model changes. To avoid inconsistencies, ensure all relevant parameters are explicitly set when caching is enabled.\n",
      "Use with caution! ;)\n",
      "[2025-07-29 19:16:16] INFO:sdialog.util:Loading ChatOllama model: gemma3:27b\n",
      "[2025-07-29 19:16:17] INFO:sentence_transformers.SentenceTransformer:Load pretrained SentenceTransformer: sergioburdisso/dialog2flow-joint-bert-base\n"
     ]
    },
    {
     "data": {
      "application/vnd.jupyter.widget-view+json": {
       "model_id": "1c2f5c7aa84842c0a3ac711eda4e4669",
       "version_major": 2,
       "version_minor": 0
      },
      "text/plain": [
       "Batches:   0%|          | 0/7 [00:00<?, ?it/s]"
      ]
     },
     "metadata": {},
     "output_type": "display_data"
    },
    {
     "name": "stderr",
     "output_type": "stream",
     "text": [
      "[2025-07-29 19:16:20] INFO:sdialog.evaluation.dialog2flow.build_graph:Final graph contains 73 nodes after pruning and normalization.\n",
      "[2025-07-29 19:16:20] INFO:sentence_transformers.SentenceTransformer:Use pytorch device_name: cuda:0\n",
      "[2025-07-29 19:16:20] INFO:sentence_transformers.SentenceTransformer:Load pretrained SentenceTransformer: sergioburdisso/dialog2flow-joint-bert-base\n"
     ]
    },
    {
     "data": {
      "application/vnd.jupyter.widget-view+json": {
       "model_id": "4a7eeb6b352241eabc058c6bca809332",
       "version_major": 2,
       "version_minor": 0
      },
      "text/plain": [
       "Computing reference kde-distance-dfppl-kl scores:   0%|          | 0/105 [00:00<?, ?it/s]"
      ]
     },
     "metadata": {},
     "output_type": "display_data"
    },
    {
     "data": {
      "application/vnd.jupyter.widget-view+json": {
       "model_id": "ecbd19a031ec42fc8f5fdb6c596b7a83",
       "version_major": 2,
       "version_minor": 0
      },
      "text/plain": [
       "Evaluating datasets:   0%|          | 0/4 [00:00<?, ?it/s]"
      ]
     },
     "metadata": {},
     "output_type": "display_data"
    },
    {
     "data": {
      "application/vnd.jupyter.widget-view+json": {
       "model_id": "919d4211cfaa4f38ac5288be2f08fb54",
       "version_major": 2,
       "version_minor": 0
      },
      "text/plain": [
       "Computing kde-distance-dfppl-kl scores for dataset 'full-generation':   0%|          | 0/105 [00:00<?, ?it/s]"
      ]
     },
     "metadata": {},
     "output_type": "display_data"
    },
    {
     "data": {
      "application/vnd.jupyter.widget-view+json": {
       "model_id": "ae6dc4bcf4fc467fa87ac952843c31f4",
       "version_major": 2,
       "version_minor": 0
      },
      "text/plain": [
       "Computing frequency-llm-judge-real-dialog scores for dataset 'full-generation':   0%|          | 0/105 [00:00<…"
      ]
     },
     "metadata": {},
     "output_type": "display_data"
    },
    {
     "data": {
      "application/vnd.jupyter.widget-view+json": {
       "model_id": "65dfab66aa04430b902974bbf0ddf11d",
       "version_major": 2,
       "version_minor": 0
      },
      "text/plain": [
       "Computing stats-turn length scores for dataset 'full-generation':   0%|          | 0/105 [00:00<?, ?it/s]"
      ]
     },
     "metadata": {},
     "output_type": "display_data"
    },
    {
     "data": {
      "application/vnd.jupyter.widget-view+json": {
       "model_id": "d1ba75c0cc35443b86778d29b08d13d3",
       "version_major": 2,
       "version_minor": 0
      },
      "text/plain": [
       "Computing kde-distance-dfppl-kl scores for dataset 'multi-agents':   0%|          | 0/105 [00:00<?, ?it/s]"
      ]
     },
     "metadata": {},
     "output_type": "display_data"
    },
    {
     "data": {
      "application/vnd.jupyter.widget-view+json": {
       "model_id": "c502cd6f03c44d2794a2d589d766c04f",
       "version_major": 2,
       "version_minor": 0
      },
      "text/plain": [
       "Computing frequency-llm-judge-real-dialog scores for dataset 'multi-agents':   0%|          | 0/105 [00:00<?, …"
      ]
     },
     "metadata": {},
     "output_type": "display_data"
    },
    {
     "data": {
      "application/vnd.jupyter.widget-view+json": {
       "model_id": "c50fb3add17b4e5aad6877ded1b007b5",
       "version_major": 2,
       "version_minor": 0
      },
      "text/plain": [
       "Computing stats-turn length scores for dataset 'multi-agents':   0%|          | 0/105 [00:00<?, ?it/s]"
      ]
     },
     "metadata": {},
     "output_type": "display_data"
    },
    {
     "data": {
      "application/vnd.jupyter.widget-view+json": {
       "model_id": "e9592014e42246cf830bc38b9f8c8116",
       "version_major": 2,
       "version_minor": 0
      },
      "text/plain": [
       "Computing kde-distance-dfppl-kl scores for dataset 'multi-agents+orchestration':   0%|          | 0/105 [00:00…"
      ]
     },
     "metadata": {},
     "output_type": "display_data"
    },
    {
     "data": {
      "application/vnd.jupyter.widget-view+json": {
       "model_id": "0bee34274c9c418fbaf7721c66fe5425",
       "version_major": 2,
       "version_minor": 0
      },
      "text/plain": [
       "Computing frequency-llm-judge-real-dialog scores for dataset 'multi-agents+orchestration':   0%|          | 0/…"
      ]
     },
     "metadata": {},
     "output_type": "display_data"
    },
    {
     "data": {
      "application/vnd.jupyter.widget-view+json": {
       "model_id": "2895310964fb4a6b9b1e583906c3ab03",
       "version_major": 2,
       "version_minor": 0
      },
      "text/plain": [
       "Computing stats-turn length scores for dataset 'multi-agents+orchestration':   0%|          | 0/105 [00:00<?, …"
      ]
     },
     "metadata": {},
     "output_type": "display_data"
    },
    {
     "data": {
      "application/vnd.jupyter.widget-view+json": {
       "model_id": "c210089425354e99a7fb3ae5f2055ee0",
       "version_major": 2,
       "version_minor": 0
      },
      "text/plain": [
       "Computing kde-distance-dfppl-kl scores for dataset 'outlier':   0%|          | 0/57 [00:00<?, ?it/s]"
      ]
     },
     "metadata": {},
     "output_type": "display_data"
    },
    {
     "data": {
      "application/vnd.jupyter.widget-view+json": {
       "model_id": "9972a256cc804fb6bf3e05e06182492b",
       "version_major": 2,
       "version_minor": 0
      },
      "text/plain": [
       "Computing frequency-llm-judge-real-dialog scores for dataset 'outlier':   0%|          | 0/57 [00:00<?, ?it/s]"
      ]
     },
     "metadata": {},
     "output_type": "display_data"
    },
    {
     "data": {
      "application/vnd.jupyter.widget-view+json": {
       "model_id": "2f066a06d0bb44ac96237f63df63c76d",
       "version_major": 2,
       "version_minor": 0
      },
      "text/plain": [
       "Computing stats-turn length scores for dataset 'outlier':   0%|          | 0/57 [00:00<?, ?it/s]"
      ]
     },
     "metadata": {},
     "output_type": "display_data"
    },
    {
     "name": "stdout",
     "output_type": "stream",
     "text": [
      "| dataset                    |   kde-distance-dfppl-kl |   frequency-llm-judge-real-dialog |   stats-turn length-mean |   stats-turn length-std |   stats-turn length-min |   stats-turn length-max |   stats-turn length-median |\n",
      "|:---------------------------|------------------------:|----------------------------------:|-------------------------:|------------------------:|------------------------:|------------------------:|---------------------------:|\n",
      "| full-generation            |                    0.36 |                              0.00 |                     9.74 |                    1.33 |                    6.00 |                   13.00 |                       9.00 |\n",
      "| multi-agents               |                    1.01 |                              0.45 |                     9.95 |                    2.29 |                    5.00 |                   17.00 |                       9.00 |\n",
      "| multi-agents+orchestration |                    1.37 |                              0.64 |                     8.98 |                    2.35 |                    7.00 |                   19.00 |                       9.00 |\n",
      "| outlier                    |                   26.04 |                              0.82 |                   124.70 |                   23.56 |                   54.00 |                  175.00 |                     124.00 |\n"
     ]
    }
   ],
   "source": [
    "import sdialog\n",
    "\n",
    "from sdialog.evaluation import DatasetComparator\n",
    "from sdialog.evaluation import DialogFlowPPL, LLMJudgeRealDialog\n",
    "from sdialog.evaluation import KDEDistanceEvaluator, StatsEvaluator, FrequencyEvaluator\n",
    "\n",
    "sdialog.config.cache(True)\n",
    "\n",
    "real_dialog_judge = LLMJudgeRealDialog(feedback=True)\n",
    "dfppl = DialogFlowPPL(original_dialogs)\n",
    "dialog_length = DialogLength(name=\"turn length\")\n",
    "\n",
    "comparator = DatasetComparator(\n",
    "    evaluators=[\n",
    "        KDEDistanceEvaluator(dfppl),\n",
    "        FrequencyEvaluator(real_dialog_judge),\n",
    "        StatsEvaluator(dialog_length)\n",
    "    ]\n",
    ")\n",
    "\n",
    "comparator(target_dialogs)"
   ]
  },
  {
   "cell_type": "code",
   "execution_count": 20,
   "id": "ecce996d",
   "metadata": {},
   "outputs": [
    {
     "data": {
      "image/png": "[encoded data removed]",
      "text/plain": [
       "<Figure size 800x500 with 1 Axes>"
      ]
     },
     "metadata": {},
     "output_type": "display_data"
    },
    {
     "data": {
      "image/png": "[encoded data removed]",
      "text/plain": [
       "<Figure size 800x500 with 1 Axes>"
      ]
     },
     "metadata": {},
     "output_type": "display_data"
    },
    {
     "data": {
      "image/png": "[encoded data removed]",
      "text/plain": [
       "<Figure size 800x500 with 1 Axes>"
      ]
     },
     "metadata": {},
     "output_type": "display_data"
    }
   ],
   "source": [
    "comparator.plot()"
   ]
  }
 ],
 "metadata": {
  "kernelspec": {
   "display_name": "Python 3 (ipykernel)",
   "language": "python",
   "name": "python3"
  },
  "language_info": {
   "codemirror_mode": {
    "name": "ipython",
    "version": 3
   },
   "file_extension": ".py",
   "mimetype": "text/x-python",
   "name": "python",
   "nbconvert_exporter": "python",
   "pygments_lexer": "ipython3",
   "version": "3.10.12"
  }
 },
 "nbformat": 4,
 "nbformat_minor": 5
}
