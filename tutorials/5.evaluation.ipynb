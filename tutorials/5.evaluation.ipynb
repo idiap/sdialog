{
 "cells": [
  {
   "cell_type": "markdown",
   "id": "fb1e0370",
   "metadata": {},
   "source": [
    "# Dialogue Evaluation Tutorial\n",
    "\n",
    "<p align=\"right\" style=\"margin-right: 8px;\">\n",
    "    <a target=\"_blank\" href=\"https://colab.research.google.com/github/idiap/sdialog/blob/main/tutorials/5.evaluation.ipynb\">\n",
    "        <img src=\"https://colab.research.google.com/assets/colab-badge.svg\" alt=\"Open In Colab\"/>\n",
    "    </a>\n",
    "</p>\n",
    "\n",
    "This tutorial shows how to evaluate LLM-generated dialogues against a real dataset (STAR). You will:\n",
    "\n",
    "- Set up the environment (Colab or local Jupyter) and install dependencies\n",
    "- Load the STAR dataset to serve as the reference\n",
    "- Load several model-generated dialogue sets to compare\n",
    "- Use an LLM-based judge to assess \"realism\" and collect feedback\n",
    "- Compute additional metrics (dialog flow perplexity, frequency of realism, length stats, readability)\n",
    "- Compare multiple datasets side-by-side and visualize the results"
   ]
  },
  {
   "cell_type": "markdown",
   "id": "5d0ca1d4",
   "metadata": {},
   "source": [
    "## Getting Started"
   ]
  },
  {
   "cell_type": "markdown",
   "id": "d27a0a39",
   "metadata": {},
   "source": [
    "### Environment setup\n",
    "\n",
    "- Detects whether the notebook runs on Google Colab or local Jupyter.\n",
    "- On Colab, it sparsely checks out only the `output` directory, installs Ollama, and installs `sdialog` in editable mode.\n",
    "- On Jupyter, a small hack avoids background process limitations so Ollama can run as a daemon."
   ]
  },
  {
   "cell_type": "code",
   "execution_count": 1,
   "id": "c7d0bf23",
   "metadata": {},
   "outputs": [
    {
     "name": "stdout",
     "output_type": "stream",
     "text": [
      "Running in Jupyter Notebook\n"
     ]
    }
   ],
   "source": [
    "# Setup the environment depending on weather we are running in Google Colab or Jupyter Notebook\n",
    "from IPython import get_ipython\n",
    "\n",
    "if \"google.colab\" in str(get_ipython()):\n",
    "    print(\"Running on CoLab\")\n",
    "\n",
    "    # Downloading only the \"output\" directory from the repository\n",
    "    !git init .\n",
    "    !git remote add -f origin https://github.com/Play-Your-Part/tutorials.git\n",
    "    !git config core.sparseCheckout true\n",
    "    !echo \"output\" >> .git/info/sparse-checkout\n",
    "    !git pull origin main\n",
    "\n",
    "    # Installing Ollama\n",
    "    !curl -fsSL https://ollama.com/install.sh | sh\n",
    "    %pip install simpleneighbors\n",
    "\n",
    "    # Installing sdialog\n",
    "    !git clone https://github.com/idiap/sdialog.git\n",
    "    %cd sdialog\n",
    "    %pip install -e .\n",
    "    %cd ..\n",
    "else:\n",
    "    print(\"Running in Jupyter Notebook\")\n",
    "    # Little hack to avoid the \"OSError: Background processes not supported.\" error in Jupyter notebooks\"\n",
    "    import os\n",
    "    get_ipython().system = os.system"
   ]
  },
  {
   "cell_type": "markdown",
   "id": "fdbbc64f",
   "metadata": {},
   "source": [
    "### Dataset: STAR\n",
    "\n",
    "We clone the STAR dataset into `datasets/STAR`. After cloning, you should see the `dialogues` and `tasks` folders. STAR provides human-written conversations grouped by task names; we will use it as the ground-truth reference for evaluation."
   ]
  },
  {
   "cell_type": "code",
   "execution_count": null,
   "id": "41cf0c9e",
   "metadata": {},
   "outputs": [],
   "source": [
    "# Let's clone the STAR dataset repository\n",
    "!git clone https://github.com/RasaHQ/STAR.git datasets/STAR\n",
    "\n",
    "# Let's check that `dialogues` and `tasks` folders are inside `datasets/STAR`\n",
    "!ls datasets/STAR"
   ]
  },
  {
   "cell_type": "markdown",
   "id": "0d5a3e40",
   "metadata": {},
   "source": [
    "### LLM backend and configuration\n",
    "\n",
    "- Configure `sdialog` to use a local LLM served by Ollama and set the model to `gemma3:27b`.\n",
    "- Start the Ollama server in the background and give it a few seconds to initialize.\n",
    "- Point `sdialog.datasets.STAR` to the cloned dataset path so it can load dialogues."
   ]
  },
  {
   "cell_type": "code",
   "execution_count": null,
   "id": "69b1715d",
   "metadata": {},
   "outputs": [],
   "source": [
    "import sdialog\n",
    "\n",
    "from sdialog.datasets import STAR\n",
    "\n",
    "STAR_PATH = \"datasets/STAR/\"\n",
    "STAR.set_path(STAR_PATH)\n",
    "\n",
    "!OLLAMA_KEEP_ALIVE=-1 ollama serve > /dev/null 2>&1 &\n",
    "!sleep 10\n",
    "\n",
    "sdialog.config.llm(\"gemma3:27b\")\n",
    "# If you want to use another model, let's say OpenAI gpt-4, you can do, for instance:\n",
    "# sdialog.config.llm(\"openai:gpt-4.1\", api_key=\"YOUR_OPENAI_KEY\")  # or set the key in the environment variable OPENAI_API_KEY"
   ]
  },
  {
   "cell_type": "markdown",
   "id": "701f5419",
   "metadata": {},
   "source": [
    "## Evaluation"
   ]
  },
  {
   "cell_type": "markdown",
   "id": "9b587f68",
   "metadata": {},
   "source": [
    "### Evaluation overview\n",
    "\n",
    "We will:\n",
    "- Select a subset of STAR (reference) dialogues to define the target distribution.\n",
    "- Load multiple generated dialogue sets to compare (single-LLM, multi-agent, orchestration, and an outlier set).\n",
    "- Inspect samples, then score dialogues with an LLM-based judge and other metrics.\n",
    "- Aggregate results and compare datasets side-by-side.\n",
    "- Visualize the comparison to understand strengths and weaknesses."
   ]
  },
  {
   "cell_type": "markdown",
   "id": "cfe153ef",
   "metadata": {},
   "source": [
    "### Reference dialogues\n",
    "\n",
    "We use the `doctor_followup` task with `happy=True` and `multitask=False` as our reference set. This defines a focused domain and tone for evaluation—generated dialogues will be compared against this distribution."
   ]
  },
  {
   "cell_type": "code",
   "execution_count": 4,
   "id": "544867c1",
   "metadata": {},
   "outputs": [
    {
     "data": {
      "application/vnd.jupyter.widget-view+json": {
       "model_id": "99f50b33a7ee4081915ee75eb314b6cc",
       "version_major": 2,
       "version_minor": 0
      },
      "text/plain": [
       "Reading dialogs:   0%|          | 0/6652 [00:00<?, ?it/s]"
      ]
     },
     "metadata": {},
     "output_type": "display_data"
    },
    {
     "name": "stdout",
     "output_type": "stream",
     "text": [
      "Total number of happy \"doctor_followup\" dialogues: 105\n"
     ]
    }
   ],
   "source": [
    "original_dialogs = STAR.get_dialogs(task_name=\"doctor_followup\", happy=True, multitask=False)\n",
    "print('Total number of happy \"doctor_followup\" dialogues:', len(original_dialogs))"
   ]
  },
  {
   "cell_type": "markdown",
   "id": "368b5df5",
   "metadata": {},
   "source": [
    "### Model outputs to compare\n",
    "\n",
    "We load several sets of generated dialogues:\n",
    "- `single-llm`: produced by a single LLM.\n",
    "- `multi-agents`: produced by a multi-agent setup.\n",
    "- `multi-agents+orchestration`: multi-agent with orchestration.\n",
    "- `outlier`: a deliberately different dataset (Primock-57) as an outlier.\n",
    "\n",
    "We also normalize speaker names (e.g., `doctor`→`system`, `patient`→`user`) so all datasets share the same speaker labels for fair comparison in case of `DialogFlowPPL` which consider speakers role."
   ]
  },
  {
   "cell_type": "code",
   "execution_count": 5,
   "id": "893e792d",
   "metadata": {},
   "outputs": [
    {
     "data": {
      "application/vnd.jupyter.widget-view+json": {
       "model_id": "6b4b3f04c9f34a279d3f365bd182f158",
       "version_major": 2,
       "version_minor": 0
      },
      "text/plain": [
       "Loading dialogues from directory:   0%|          | 0/105 [00:00<?, ?it/s]"
      ]
     },
     "metadata": {},
     "output_type": "display_data"
    },
    {
     "data": {
      "application/vnd.jupyter.widget-view+json": {
       "model_id": "7d82014fba0f43dea02091141d735305",
       "version_major": 2,
       "version_minor": 0
      },
      "text/plain": [
       "Loading dialogues from directory:   0%|          | 0/105 [00:00<?, ?it/s]"
      ]
     },
     "metadata": {},
     "output_type": "display_data"
    },
    {
     "data": {
      "application/vnd.jupyter.widget-view+json": {
       "model_id": "b273263f4c2946978b4da9e04005e88c",
       "version_major": 2,
       "version_minor": 0
      },
      "text/plain": [
       "Loading dialogues from directory:   0%|          | 0/105 [00:00<?, ?it/s]"
      ]
     },
     "metadata": {},
     "output_type": "display_data"
    },
    {
     "data": {
      "application/vnd.jupyter.widget-view+json": {
       "model_id": "e12e11f29bcd4970a89bf7e95d04d18a",
       "version_major": 2,
       "version_minor": 0
      },
      "text/plain": [
       "Loading dialogues from directory: 0it [00:00, ?it/s]"
      ]
     },
     "metadata": {},
     "output_type": "display_data"
    }
   ],
   "source": [
    "from sdialog import Dialog\n",
    "\n",
    "single_llm_dialogs = Dialog.from_file(\"output/STAR/full-generation/txt\")\n",
    "multi_agent_dialogs = Dialog.from_file(\"output/STAR/multi-agents/txt\")\n",
    "orche_dialogs = Dialog.from_file(\"output/STAR/multi-agents+orchestration/txt\")\n",
    "outlier_dialogs = Dialog.from_file(\"datasets/Primock-57/json/\")\n",
    "outlier_dialogs[:] = [d.rename_speaker(\"doctor\", \"system\").rename_speaker(\"patient\", \"user\")\n",
    "                      for d in outlier_dialogs]"
   ]
  },
  {
   "cell_type": "code",
   "execution_count": 6,
   "id": "dfef28cb",
   "metadata": {},
   "outputs": [
    {
     "data": {
      "text/plain": [
       "105"
      ]
     },
     "execution_count": 6,
     "metadata": {},
     "output_type": "execute_result"
    }
   ],
   "source": [
    "len(single_llm_dialogs)"
   ]
  },
  {
   "cell_type": "markdown",
   "id": "0304cea9",
   "metadata": {},
   "source": [
    "### Inspect a sample dialogue\n",
    "\n",
    "Printing one dialogue helps verify the structure (speaker turns, ordering, metadata) and content style. Ensure roles (`system`/`user`) and the flow align with expectations before running metrics."
   ]
  },
  {
   "cell_type": "code",
   "execution_count": 7,
   "id": "a0dbea7d",
   "metadata": {},
   "outputs": [
    {
     "name": "stdout",
     "output_type": "stream",
     "text": [
      "\u001b[1m\u001b[95m[dialog_id] \u001b[35m1\u001b[0m\n",
      "\u001b[1m\u001b[35m--- Dialogue Begins ---\u001b[0m\n",
      "\u001b[31m[System] \u001b[0mHello, how can I help?\u001b[0m\n",
      "\u001b[94m[User] \u001b[37mHi, could you please remind me of my doctor's instructions for the medicine?\u001b[0m\n",
      "\u001b[31m[System] \u001b[0mCould I get your name, please?\u001b[0m\n",
      "\u001b[94m[User] \u001b[37mMy name is Alexis.\u001b[0m\n",
      "\u001b[31m[System] \u001b[0mWho is your doctor?\u001b[0m\n",
      "\u001b[94m[User] \u001b[37mI was seeing Dr. Morgan.\u001b[0m\n",
      "\u001b[31m[System] \u001b[0mYour instructions are: Take the medicine three times a day, 30 minutes before meals.\u001b[0m\n",
      "\u001b[94m[User] \u001b[37mThank you, that's helpful.\u001b[0m\n",
      "\u001b[31m[System] \u001b[0mIs there anything else that I can do for you?\u001b[0m\n",
      "\u001b[94m[User] \u001b[37mNo, that's all. Thank you.\u001b[0m\n",
      "\u001b[31m[System] \u001b[0mThank you and goodbye.\u001b[0m\n",
      "\u001b[1m\u001b[35m--- Dialogue Ends ---\u001b[0m\n"
     ]
    }
   ],
   "source": [
    "single_llm_dialogs[0].print()"
   ]
  },
  {
   "cell_type": "markdown",
   "id": "aa10894f",
   "metadata": {},
   "source": [
    "### LLM-based realism judge\n",
    "\n",
    "`LLMJudgeRealDialog` prompts an LLM to assess whether a dialogue resembles a real human conversation for the given domain. It can return a judgment and optional textual feedback explaining the decision. The next cells demonstrate single-dialog evaluation with and without feedback, and then apply the same judge to other datasets."
   ]
  },
  {
   "cell_type": "code",
   "execution_count": 8,
   "id": "5b88cbd4",
   "metadata": {},
   "outputs": [
    {
     "name": "stderr",
     "output_type": "stream",
     "text": [
      "[2025-09-11 14:45:59] INFO:sdialog.util:Loading Ollama model: gemma3:27b\n"
     ]
    },
    {
     "data": {
      "text/plain": [
       "0"
      ]
     },
     "execution_count": 8,
     "metadata": {},
     "output_type": "execute_result"
    }
   ],
   "source": [
    "from sdialog.evaluation import LLMJudgeRealDialog\n",
    "\n",
    "judge_real = LLMJudgeRealDialog()\n",
    "\n",
    "judge_real(single_llm_dialogs[0])"
   ]
  },
  {
   "cell_type": "code",
   "execution_count": 9,
   "id": "3737471f",
   "metadata": {},
   "outputs": [
    {
     "data": {
      "text/plain": [
       "LLMJudgeYesNoOutput(yes=False, feedback=None)"
      ]
     },
     "execution_count": 9,
     "metadata": {},
     "output_type": "execute_result"
    }
   ],
   "source": [
    "judge_real.judge(single_llm_dialogs[0])"
   ]
  },
  {
   "cell_type": "code",
   "execution_count": 10,
   "id": "9374a0f2",
   "metadata": {},
   "outputs": [
    {
     "data": {
      "text/plain": [
       "LLMJudgeYesNoOutput(yes=False, feedback=\"The dialogue is very short and lacks depth. While coherent, it's a highly functional, transactional exchange without any of the nuances of a natural conversation (e.g., small talk, elaboration, or personal touches). The responses are direct and lack any conversational 'texture', making it feel artificial and likely machine-generated.\")"
      ]
     },
     "execution_count": 10,
     "metadata": {},
     "output_type": "execute_result"
    }
   ],
   "source": [
    "judge_real.judge(single_llm_dialogs[0], feedback=True)"
   ]
  },
  {
   "cell_type": "code",
   "execution_count": 11,
   "id": "62c438f4",
   "metadata": {},
   "outputs": [
    {
     "name": "stdout",
     "output_type": "stream",
     "text": [
      "\u001b[1m\u001b[95m[dialog_id] \u001b[35m1\u001b[0m\n",
      "\u001b[1m\u001b[35m--- Dialogue Begins ---\u001b[0m\n",
      "\u001b[31m[System] \u001b[0mHello, how can I help?\u001b[0m\n",
      "\u001b[94m[User] \u001b[37mHi! Can you tell me again how often I should be taking my medication that Dr. Morgan prescribed? I seem to have forgotten and I want to make sure I’m doing it correctly.\u001b[0m\n",
      "\u001b[31m[System] \u001b[0mCould I get your name, please? And don't worry, I can help clarify the instructions for your medication.\u001b[0m\n",
      "\u001b[94m[User] \u001b[37mOf course, my name is Alexis. Thanks a lot for your help! Dr. Johnson was the one who gave me this prescription during my last visit, but I’m having trouble remembering the dosage details. Could you assist with that?\u001b[0m\n",
      "\u001b[31m[System] \u001b[0mThank you for letting me know, Alexis. Who is your doctor? I see here it's Dr. Johnson providing your care. Let me confirm the instructions with him.\u001b[0m\n",
      "\u001b[94m[User] \u001b[37mYes, my apologies! It was Dr. Johnson who prescribed the medication during my recent visit. While we're on the topic, do you happen to have any updates about my condition since then? I've been feeling a bit off lately and wasn't sure if it's related or not. Thanks so much for your help today! Have a great day!\u001b[0m\n",
      "\u001b[31m[System] \u001b[0mYour instructions are: Take the medication as prescribed by Dr. Johnson, which is once daily with food. If you have any new symptoms or concerns, it’s important to reach out to him directly for further guidance. Is there anything else that I can do for you? Thank you for reaching out, Alexis! Have a great day!\u001b[0m\n",
      "\u001b[1m\u001b[35m--- Dialogue Ends ---\u001b[0m\n"
     ]
    }
   ],
   "source": [
    "orche_dialogs[0].print()"
   ]
  },
  {
   "cell_type": "code",
   "execution_count": 12,
   "id": "5944f638",
   "metadata": {},
   "outputs": [
    {
     "data": {
      "text/plain": [
       "0"
      ]
     },
     "execution_count": 12,
     "metadata": {},
     "output_type": "execute_result"
    }
   ],
   "source": [
    "judge_real(orche_dialogs[0])"
   ]
  },
  {
   "cell_type": "code",
   "execution_count": 13,
   "id": "e7928000",
   "metadata": {},
   "outputs": [
    {
     "data": {
      "text/plain": [
       "LLMJudgeYesNoOutput(yes=False, feedback=\"The dialogue feels synthetic due to its overly polite and formulaic exchanges. The responses from both sides are very direct and lack the natural imperfections or subtleties found in human conversation. The system repeats thanking the user and restating information unnecessarily. The user's attempt to introduce a related concern ('feeling a bit off') is met with a purely informational response, lacking empathy or further inquiry – a pattern unlikely in a human interaction. The whole exchange feels transactional rather than conversational.\")"
      ]
     },
     "execution_count": 13,
     "metadata": {},
     "output_type": "execute_result"
    }
   ],
   "source": [
    "judge_real.judge(orche_dialogs[0], feedback=True)"
   ]
  },
  {
   "cell_type": "markdown",
   "id": "21f177a7",
   "metadata": {},
   "source": [
    "### Batch judging and caching\n",
    "\n",
    "You can pass a list or slices (e.g., `dialogs[:3]`) to judge multiple dialogues at once. Enabling `sdialog.config.cache(True)` later helps avoid repeated LLM calls when re-running cells."
   ]
  },
  {
   "cell_type": "code",
   "execution_count": 14,
   "id": "a9f22db9",
   "metadata": {},
   "outputs": [
    {
     "data": {
      "text/plain": [
       "LLMJudgeYesNoOutput(yes=[True, True, True], feedback=[\"This dialogue demonstrates natural conversation flow, with the user expressing a need and the system responding appropriately. The repetition of confirming information ('Dr. Morgan', 'dosage details') is realistic. It has sufficient depth and demonstrates a genuine intent.\", 'This dialogue is also very natural, mirroring a patient follow-up. The user clarifies their needs and the system responds. The back and forth about confirming details and dosages is realistic. It feels like a human interaction with a reasonable level of detail.', 'Similar to the other dialogues, this one exhibits natural conversational flow and a realistic scenario. The user expresses forgetfulness and the system helps. The exchange is not overly complex, but contains realistic elements like thanking the assistant and confirming the information received.'])"
      ]
     },
     "execution_count": 14,
     "metadata": {},
     "output_type": "execute_result"
    }
   ],
   "source": [
    "judge_real.judge(orche_dialogs[:3], feedback=True)"
   ]
  },
  {
   "cell_type": "markdown",
   "id": "ce42b772",
   "metadata": {},
   "source": [
    "### Frequency of realism\n",
    "\n",
    "`FrequencyEvaluator` uses the judge to compute how often dialogues are classified as \"real\" within a set. Compare values across datasets; closer to the reference distribution usually indicates better realism for the target task."
   ]
  },
  {
   "cell_type": "code",
   "execution_count": 15,
   "id": "1270770d",
   "metadata": {},
   "outputs": [
    {
     "data": {
      "application/vnd.jupyter.widget-view+json": {
       "model_id": "d6f2c76b00674e889b5d5e7ce27123fb",
       "version_major": 2,
       "version_minor": 0
      },
      "text/plain": [
       "Computing frequency-llm-judge-real-dialog scores for candidate dataset:   0%|          | 0/10 [00:00<?, ?it/s]"
      ]
     },
     "metadata": {},
     "output_type": "display_data"
    },
    {
     "data": {
      "text/plain": [
       "0.0"
      ]
     },
     "execution_count": 15,
     "metadata": {},
     "output_type": "execute_result"
    }
   ],
   "source": [
    "from sdialog.evaluation import FrequencyEvaluator\n",
    "\n",
    "freq_real = FrequencyEvaluator(judge_real)\n",
    "\n",
    "freq_real(single_llm_dialogs[:10])"
   ]
  },
  {
   "cell_type": "code",
   "execution_count": 16,
   "id": "0dfad9fa",
   "metadata": {},
   "outputs": [
    {
     "data": {
      "application/vnd.jupyter.widget-view+json": {
       "model_id": "24d762173b09434a82e398d9af0847e2",
       "version_major": 2,
       "version_minor": 0
      },
      "text/plain": [
       "Computing frequency-llm-judge-real-dialog scores for candidate dataset:   0%|          | 0/10 [00:00<?, ?it/s]"
      ]
     },
     "metadata": {},
     "output_type": "display_data"
    },
    {
     "data": {
      "text/plain": [
       "0.3"
      ]
     },
     "execution_count": 16,
     "metadata": {},
     "output_type": "execute_result"
    }
   ],
   "source": [
    "freq_real(orche_dialogs[:10])"
   ]
  },
  {
   "cell_type": "markdown",
   "id": "36f2ab82",
   "metadata": {},
   "source": [
    "### Custom metrics\n",
    "\n",
    "We define `DialogLength` to count the number of turns per dialogue. Later, `StatsEvaluator` will summarize this score (e.g., mean, std) across each dataset, highlighting length differences relative to the reference."
   ]
  },
  {
   "cell_type": "code",
   "execution_count": 17,
   "id": "7f51d497",
   "metadata": {},
   "outputs": [],
   "source": [
    "from sdialog.evaluation import BaseDialogScore\n",
    "\n",
    "# Let's define a new dialog score to count the number of turns in a dialog \n",
    "class DialogLength(BaseDialogScore):\n",
    "    def score(self, dialog: Dialog) -> int:\n",
    "        return len(dialog)"
   ]
  },
  {
   "cell_type": "markdown",
   "id": "80a08634",
   "metadata": {},
   "source": [
    "### Configuring the dataset comparator\n",
    "\n",
    "We assemble several evaluators:\n",
    "- `KDEDistanceEvaluator(DialogFlowPPL)`: compares the distribution of dialog-flow perplexity to the reference (lower distance indicates closer behavior).\n",
    "- `FrequencyEvaluator(LLMJudgeRealDialog)`: fraction of dialogues judged as realistic.\n",
    "- `StatsEvaluator(DialogLength)`: summarizes turn counts.\n",
    "- `MeanEvaluator(flesch-reading-ease)` and `MeanEvaluator(gunning-fog)`: readability indicators.\n",
    "\n",
    "Caching is enabled to avoid re-computation next time the call is run."
   ]
  },
  {
   "cell_type": "code",
   "execution_count": 18,
   "id": "4d18170e",
   "metadata": {},
   "outputs": [
    {
     "name": "stderr",
     "output_type": "stream",
     "text": [
      "[2025-09-11 14:46:44] INFO:sdialog.config:Caching enabled. Cache path: ~/.sdialog/\n",
      "[2025-09-11 14:46:44] WARNING:sdialog.config:Caution: Caching may cause outdated results if external or implicit variables affecting score computation are changed. For example, if you use LLMJudge-based scores without specifying the model (relying on the global default), the cache will return previous results even if the default model changes. To avoid inconsistencies, ensure all relevant parameters are explicitly set when caching is enabled.\n",
      "Use with caution! ;)\n",
      "[2025-09-11 14:46:44] INFO:sdialog.util:Loading Ollama model: gemma3:27b\n",
      "[2025-09-11 14:46:44] INFO:sentence_transformers.SentenceTransformer:Load pretrained SentenceTransformer: sergioburdisso/dialog2flow-joint-bert-base\n"
     ]
    },
    {
     "data": {
      "application/vnd.jupyter.widget-view+json": {
       "model_id": "4fdbcf52ed794a3397319ac7816c820a",
       "version_major": 2,
       "version_minor": 0
      },
      "text/plain": [
       "Batches:   0%|          | 0/7 [00:00<?, ?it/s]"
      ]
     },
     "metadata": {},
     "output_type": "display_data"
    },
    {
     "name": "stderr",
     "output_type": "stream",
     "text": [
      "[2025-09-11 14:46:47] INFO:sdialog.evaluation.dialog2flow.build_graph:Final graph contains 73 nodes after pruning and normalization.\n",
      "[2025-09-11 14:46:47] INFO:sentence_transformers.SentenceTransformer:Use pytorch device_name: cuda:0\n",
      "[2025-09-11 14:46:47] INFO:sentence_transformers.SentenceTransformer:Load pretrained SentenceTransformer: sergioburdisso/dialog2flow-joint-bert-base\n"
     ]
    },
    {
     "data": {
      "application/vnd.jupyter.widget-view+json": {
       "model_id": "78c8b1843c55495fba7e27f316c10738",
       "version_major": 2,
       "version_minor": 0
      },
      "text/plain": [
       "Computing reference kde-distance-dfppl scores:   0%|          | 0/105 [00:00<?, ?it/s]"
      ]
     },
     "metadata": {},
     "output_type": "display_data"
    }
   ],
   "source": [
    "import sdialog\n",
    "\n",
    "from sdialog.evaluation import DatasetComparator\n",
    "from sdialog.evaluation import DialogFlowPPL, LLMJudgeRealDialog, LinguisticFeatureScore\n",
    "from sdialog.evaluation import KDEDistanceEvaluator, StatsEvaluator, FrequencyEvaluator, MeanEvaluator\n",
    "\n",
    "sdialog.config.cache(True)\n",
    "\n",
    "real_dialog_judge = LLMJudgeRealDialog(feedback=True)\n",
    "dfppl = DialogFlowPPL(original_dialogs)\n",
    "dialog_length = DialogLength(name=\"turn length\")\n",
    "flesch_reading_ease = LinguisticFeatureScore(feature=\"flesch-reading-ease\")\n",
    "gunning_fog = LinguisticFeatureScore(feature=\"gunning-fog\")\n",
    "\n",
    "comparator = DatasetComparator(\n",
    "    evaluators=[\n",
    "        KDEDistanceEvaluator(dfppl),\n",
    "        FrequencyEvaluator(real_dialog_judge),\n",
    "        StatsEvaluator(dialog_length),\n",
    "        MeanEvaluator(flesch_reading_ease, name=\"Mean Flesch Reading Ease\"),\n",
    "        MeanEvaluator(gunning_fog, name=\"Mean Gunning Fog\")\n",
    "    ]\n",
    ")"
   ]
  },
  {
   "cell_type": "markdown",
   "id": "e5bea5b5",
   "metadata": {},
   "source": [
    "### Running the comparison\n",
    "\n",
    "The comparator expects a dictionary mapping labels to lists of `Dialog` objects. Include a `reference` key for the ground-truth set. The output aggregates all evaluator results so you can quickly spot which generated datasets best match the reference."
   ]
  },
  {
   "cell_type": "code",
   "execution_count": 19,
   "id": "95949dc4",
   "metadata": {},
   "outputs": [
    {
     "data": {
      "application/vnd.jupyter.widget-view+json": {
       "model_id": "fe6a8232711a44bead8cd4190ed89855",
       "version_major": 2,
       "version_minor": 0
      },
      "text/plain": [
       "Evaluating datasets:   0%|          | 0/5 [00:00<?, ?it/s]"
      ]
     },
     "metadata": {},
     "output_type": "display_data"
    },
    {
     "data": {
      "application/vnd.jupyter.widget-view+json": {
       "model_id": "1393fb231e0f4997a193370e2cfe8983",
       "version_major": 2,
       "version_minor": 0
      },
      "text/plain": [
       "Computing kde-distance-dfppl scores for dataset 'reference':   0%|          | 0/105 [00:00<?, ?it/s]"
      ]
     },
     "metadata": {},
     "output_type": "display_data"
    },
    {
     "data": {
      "application/vnd.jupyter.widget-view+json": {
       "model_id": "2acd053f094d4f79bba76f43d7d8ca00",
       "version_major": 2,
       "version_minor": 0
      },
      "text/plain": [
       "Computing frequency-llm-judge-real-dialog scores for dataset 'reference':   0%|          | 0/105 [00:00<?, ?it…"
      ]
     },
     "metadata": {},
     "output_type": "display_data"
    },
    {
     "data": {
      "application/vnd.jupyter.widget-view+json": {
       "model_id": "3b12c7cd0f6e4e3da467e38f9389e321",
       "version_major": 2,
       "version_minor": 0
      },
      "text/plain": [
       "Computing stats-turn length scores for dataset 'reference':   0%|          | 0/105 [00:00<?, ?it/s]"
      ]
     },
     "metadata": {},
     "output_type": "display_data"
    },
    {
     "data": {
      "application/vnd.jupyter.widget-view+json": {
       "model_id": "993ae5ea393b4d15abae00152217d6bb",
       "version_major": 2,
       "version_minor": 0
      },
      "text/plain": [
       "Computing Mean Flesch Reading Ease scores for dataset 'reference':   0%|          | 0/105 [00:00<?, ?it/s]"
      ]
     },
     "metadata": {},
     "output_type": "display_data"
    },
    {
     "data": {
      "application/vnd.jupyter.widget-view+json": {
       "model_id": "45eb8ad593ea4b8ea5b02b34f9a82804",
       "version_major": 2,
       "version_minor": 0
      },
      "text/plain": [
       "Computing Mean Gunning Fog scores for dataset 'reference':   0%|          | 0/105 [00:00<?, ?it/s]"
      ]
     },
     "metadata": {},
     "output_type": "display_data"
    },
    {
     "data": {
      "application/vnd.jupyter.widget-view+json": {
       "model_id": "13c86d7b8a374f2899fcd68ace07ea7e",
       "version_major": 2,
       "version_minor": 0
      },
      "text/plain": [
       "Computing kde-distance-dfppl scores for dataset 'single-llm':   0%|          | 0/105 [00:00<?, ?it/s]"
      ]
     },
     "metadata": {},
     "output_type": "display_data"
    },
    {
     "data": {
      "application/vnd.jupyter.widget-view+json": {
       "model_id": "598d59b15f4f4abd9cefe5ab9617c88e",
       "version_major": 2,
       "version_minor": 0
      },
      "text/plain": [
       "Computing frequency-llm-judge-real-dialog scores for dataset 'single-llm':   0%|          | 0/105 [00:00<?, ?i…"
      ]
     },
     "metadata": {},
     "output_type": "display_data"
    },
    {
     "data": {
      "application/vnd.jupyter.widget-view+json": {
       "model_id": "620399ce16ea46738991d526d19f2241",
       "version_major": 2,
       "version_minor": 0
      },
      "text/plain": [
       "Computing stats-turn length scores for dataset 'single-llm':   0%|          | 0/105 [00:00<?, ?it/s]"
      ]
     },
     "metadata": {},
     "output_type": "display_data"
    },
    {
     "data": {
      "application/vnd.jupyter.widget-view+json": {
       "model_id": "672c3af6433e40859079c86fc881fa91",
       "version_major": 2,
       "version_minor": 0
      },
      "text/plain": [
       "Computing Mean Flesch Reading Ease scores for dataset 'single-llm':   0%|          | 0/105 [00:00<?, ?it/s]"
      ]
     },
     "metadata": {},
     "output_type": "display_data"
    },
    {
     "data": {
      "application/vnd.jupyter.widget-view+json": {
       "model_id": "df23faa3ae56442b9e126a60e33b1856",
       "version_major": 2,
       "version_minor": 0
      },
      "text/plain": [
       "Computing Mean Gunning Fog scores for dataset 'single-llm':   0%|          | 0/105 [00:00<?, ?it/s]"
      ]
     },
     "metadata": {},
     "output_type": "display_data"
    },
    {
     "data": {
      "application/vnd.jupyter.widget-view+json": {
       "model_id": "6ed2e9256387423fac37971ff4fb89af",
       "version_major": 2,
       "version_minor": 0
      },
      "text/plain": [
       "Computing kde-distance-dfppl scores for dataset 'multi-agents':   0%|          | 0/105 [00:00<?, ?it/s]"
      ]
     },
     "metadata": {},
     "output_type": "display_data"
    },
    {
     "data": {
      "application/vnd.jupyter.widget-view+json": {
       "model_id": "465e7251bf2c4615a60bea3a7d41b84d",
       "version_major": 2,
       "version_minor": 0
      },
      "text/plain": [
       "Computing frequency-llm-judge-real-dialog scores for dataset 'multi-agents':   0%|          | 0/105 [00:00<?, …"
      ]
     },
     "metadata": {},
     "output_type": "display_data"
    },
    {
     "data": {
      "application/vnd.jupyter.widget-view+json": {
       "model_id": "f0ebe9feaf5c4121a9c0bc51640b97c3",
       "version_major": 2,
       "version_minor": 0
      },
      "text/plain": [
       "Computing stats-turn length scores for dataset 'multi-agents':   0%|          | 0/105 [00:00<?, ?it/s]"
      ]
     },
     "metadata": {},
     "output_type": "display_data"
    },
    {
     "data": {
      "application/vnd.jupyter.widget-view+json": {
       "model_id": "69ce5f71bd004e5eac72fd2445e13cf7",
       "version_major": 2,
       "version_minor": 0
      },
      "text/plain": [
       "Computing Mean Flesch Reading Ease scores for dataset 'multi-agents':   0%|          | 0/105 [00:00<?, ?it/s]"
      ]
     },
     "metadata": {},
     "output_type": "display_data"
    },
    {
     "data": {
      "application/vnd.jupyter.widget-view+json": {
       "model_id": "7fca6ff7e59c40499621e5a27648bdda",
       "version_major": 2,
       "version_minor": 0
      },
      "text/plain": [
       "Computing Mean Gunning Fog scores for dataset 'multi-agents':   0%|          | 0/105 [00:00<?, ?it/s]"
      ]
     },
     "metadata": {},
     "output_type": "display_data"
    },
    {
     "data": {
      "application/vnd.jupyter.widget-view+json": {
       "model_id": "f8fe318d386e46698d289af473e30725",
       "version_major": 2,
       "version_minor": 0
      },
      "text/plain": [
       "Computing kde-distance-dfppl scores for dataset 'multi-agents+orchestration':   0%|          | 0/105 [00:00<?,…"
      ]
     },
     "metadata": {},
     "output_type": "display_data"
    },
    {
     "data": {
      "application/vnd.jupyter.widget-view+json": {
       "model_id": "476928762783471091d0c81433b79ef0",
       "version_major": 2,
       "version_minor": 0
      },
      "text/plain": [
       "Computing frequency-llm-judge-real-dialog scores for dataset 'multi-agents+orchestration':   0%|          | 0/…"
      ]
     },
     "metadata": {},
     "output_type": "display_data"
    },
    {
     "data": {
      "application/vnd.jupyter.widget-view+json": {
       "model_id": "6aa010a9afb248d78ba2302f4c974875",
       "version_major": 2,
       "version_minor": 0
      },
      "text/plain": [
       "Computing stats-turn length scores for dataset 'multi-agents+orchestration':   0%|          | 0/105 [00:00<?, …"
      ]
     },
     "metadata": {},
     "output_type": "display_data"
    },
    {
     "data": {
      "application/vnd.jupyter.widget-view+json": {
       "model_id": "a33aeab178134defaecca6857165cec9",
       "version_major": 2,
       "version_minor": 0
      },
      "text/plain": [
       "Computing Mean Flesch Reading Ease scores for dataset 'multi-agents+orchestration':   0%|          | 0/105 [00…"
      ]
     },
     "metadata": {},
     "output_type": "display_data"
    },
    {
     "data": {
      "application/vnd.jupyter.widget-view+json": {
       "model_id": "cd2c65cf783b42c6b5a6728c1a6f9c97",
       "version_major": 2,
       "version_minor": 0
      },
      "text/plain": [
       "Computing Mean Gunning Fog scores for dataset 'multi-agents+orchestration':   0%|          | 0/105 [00:00<?, ?…"
      ]
     },
     "metadata": {},
     "output_type": "display_data"
    },
    {
     "data": {
      "application/vnd.jupyter.widget-view+json": {
       "model_id": "dc923455c3be428390073d02ecf3a513",
       "version_major": 2,
       "version_minor": 0
      },
      "text/plain": [
       "Computing kde-distance-dfppl scores for dataset 'outlier':   0%|          | 0/57 [00:00<?, ?it/s]"
      ]
     },
     "metadata": {},
     "output_type": "display_data"
    },
    {
     "data": {
      "application/vnd.jupyter.widget-view+json": {
       "model_id": "6e97ff3edc3d4da09cf11c99e06676d0",
       "version_major": 2,
       "version_minor": 0
      },
      "text/plain": [
       "Computing frequency-llm-judge-real-dialog scores for dataset 'outlier':   0%|          | 0/57 [00:00<?, ?it/s]"
      ]
     },
     "metadata": {},
     "output_type": "display_data"
    },
    {
     "data": {
      "application/vnd.jupyter.widget-view+json": {
       "model_id": "d7b8e24c2e574c6fa39f494c1ba4ad03",
       "version_major": 2,
       "version_minor": 0
      },
      "text/plain": [
       "Computing stats-turn length scores for dataset 'outlier':   0%|          | 0/57 [00:00<?, ?it/s]"
      ]
     },
     "metadata": {},
     "output_type": "display_data"
    },
    {
     "data": {
      "application/vnd.jupyter.widget-view+json": {
       "model_id": "432344ea0c9848509eb83df5784f47ff",
       "version_major": 2,
       "version_minor": 0
      },
      "text/plain": [
       "Computing Mean Flesch Reading Ease scores for dataset 'outlier':   0%|          | 0/57 [00:00<?, ?it/s]"
      ]
     },
     "metadata": {},
     "output_type": "display_data"
    },
    {
     "data": {
      "application/vnd.jupyter.widget-view+json": {
       "model_id": "fe8ce620c8c24f8c9cc71d1463425e0d",
       "version_major": 2,
       "version_minor": 0
      },
      "text/plain": [
       "Computing Mean Gunning Fog scores for dataset 'outlier':   0%|          | 0/57 [00:00<?, ?it/s]"
      ]
     },
     "metadata": {},
     "output_type": "display_data"
    },
    {
     "name": "stdout",
     "output_type": "stream",
     "text": [
      "| dataset                    |   kde-distance-dfppl |   frequency-llm-judge-real-dialog |   stats-turn length-mean |   stats-turn length-std |   stats-turn length-min |   stats-turn length-max |   stats-turn length-median |   Mean Flesch Reading Ease |   Mean Gunning Fog |\n",
      "|:---------------------------|---------------------:|----------------------------------:|-------------------------:|------------------------:|------------------------:|------------------------:|---------------------------:|---------------------------:|-------------------:|\n",
      "| reference                  |                 0.00 |                              0.00 |                     8.51 |                    2.56 |                    2.00 |                   16.00 |                       8.00 |                      -5.86 |              39.73 |\n",
      "| single-llm                 |                 0.36 |                              0.00 |                     9.74 |                    1.33 |                    6.00 |                   13.00 |                       9.00 |                      -6.90 |              40.66 |\n",
      "| multi-agents               |                 1.01 |                              0.45 |                     9.95 |                    2.29 |                    5.00 |                   17.00 |                       9.00 |                    -161.14 |             100.40 |\n",
      "| multi-agents+orchestration |                 1.37 |                              0.64 |                     8.98 |                    2.35 |                    7.00 |                   19.00 |                       9.00 |                    -192.46 |             112.96 |\n",
      "| outlier                    |                26.04 |                              0.82 |                   124.70 |                   23.56 |                   54.00 |                  175.00 |                     124.00 |                   -1565.06 |             656.47 |\n"
     ]
    }
   ],
   "source": [
    "comparator({\n",
    "    \"reference\": original_dialogs,\n",
    "    \"single-llm\": single_llm_dialogs,\n",
    "    \"multi-agents\": multi_agent_dialogs,\n",
    "    \"multi-agents+orchestration\": orche_dialogs,\n",
    "    \"outlier\": outlier_dialogs\n",
    "})"
   ]
  },
  {
   "cell_type": "markdown",
   "id": "e374aa05",
   "metadata": {},
   "source": [
    "### Visualizing results\n",
    "\n",
    "`comparator.plot()` charts each metric across datasets. Look for:\n",
    "- Lower KDE distance (closer to reference distribution)\n",
    "- Higher frequency of realism (when appropriate)\n",
    "- Reasonable dialogue lengths relative to reference\n",
    "- Readability scores in a plausible range for the task\n",
    "\n",
    "These views help diagnose which generation strategies perform best and where they diverge."
   ]
  },
  {
   "cell_type": "code",
   "execution_count": 20,
   "id": "ecce996d",
   "metadata": {},
   "outputs": [
    {
     "data": {
      "image/png": "[encoded data removed]",
      "text/plain": [
       "<Figure size 800x500 with 1 Axes>"
      ]
     },
     "metadata": {},
     "output_type": "display_data"
    },
    {
     "data": {
      "image/png": "[encoded data removed]",
      "text/plain": [
       "<Figure size 800x500 with 1 Axes>"
      ]
     },
     "metadata": {},
     "output_type": "display_data"
    },
    {
     "data": {
      "image/png": "[encoded data removed]",
      "text/plain": [
       "<Figure size 800x500 with 1 Axes>"
      ]
     },
     "metadata": {},
     "output_type": "display_data"
    },
    {
     "data": {
      "image/png": "[encoded data removed]",
      "text/plain": [
       "<Figure size 800x500 with 1 Axes>"
      ]
     },
     "metadata": {},
     "output_type": "display_data"
    },
    {
     "data": {
      "image/png": "[encoded data removed]",
      "text/plain": [
       "<Figure size 800x500 with 1 Axes>"
      ]
     },
     "metadata": {},
     "output_type": "display_data"
    }
   ],
   "source": []
  }
 ],
 "metadata": {
  "kernelspec": {
   "display_name": "Python 3 (ipykernel)",
   "language": "python",
   "name": "python3"
  },
  "language_info": {
   "codemirror_mode": {
    "name": "ipython",
    "version": 3
   },
   "file_extension": ".py",
   "mimetype": "text/x-python",
   "name": "python",
   "nbconvert_exporter": "python",
   "pygments_lexer": "ipython3",
   "version": "3.10.12"
  }
 },
 "nbformat": 4,
 "nbformat_minor": 5
}
