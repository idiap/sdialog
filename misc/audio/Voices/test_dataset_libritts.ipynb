{
 "cells": [
  {
   "cell_type": "code",
   "execution_count": 2,
   "id": "b73e6234",
   "metadata": {},
   "outputs": [
    {
     "name": "stderr",
     "output_type": "stream",
     "text": [
      "/Users/yanislabrak/opt/miniconda3/envs/jsalt/lib/python3.9/site-packages/tqdm/auto.py:21: TqdmWarning: IProgress not found. Please update jupyter and ipywidgets. See https://ipywidgets.readthedocs.io/en/stable/user_install.html\n",
      "  from .autonotebook import tqdm as notebook_tqdm\n"
     ]
    }
   ],
   "source": [
    "from datasets import load_dataset"
   ]
  },
  {
   "cell_type": "code",
   "execution_count": 3,
   "id": "0267fd24",
   "metadata": {},
   "outputs": [
    {
     "name": "stderr",
     "output_type": "stream",
     "text": [
      "Repo card metadata block was not found. Setting CardData to empty.\n"
     ]
    }
   ],
   "source": [
    "hf_dataset = \"sdialog/voices-libritts\"\n",
    "dataset = load_dataset(hf_dataset)"
   ]
  },
  {
   "cell_type": "code",
   "execution_count": 5,
   "id": "fb50b94f",
   "metadata": {},
   "outputs": [
    {
     "data": {
      "text/plain": [
       "{'speaker_id': 14,\n",
       " 'gender': 'F',\n",
       " 'name': 'Kristin LeMoine',\n",
       " 'subset': 'train-clean-360',\n",
       " 'audio': {'path': '/Users/yanislabrak/.cache/huggingface/hub/datasets--sdialog--voices-libritts/snapshots/fbefe71fd08c0f0387c4dc193636b5aa904f8622/audio/14_Kristin_LeMoine.wav',\n",
       "  'array': array([ 0.        ,  0.00015259, -0.00012207, ..., -0.00262451,\n",
       "         -0.01190186, -0.00335693]),\n",
       "  'sampling_rate': 24000},\n",
       " 'total_duration_s': 30.0,\n",
       " 'used_utterances': '[{\"path\": \"/lustre/fsmisc/dataset/LibriTTS/train-clean-360/14/208/14_208_000001_000000.wav\", \"duration_s\": 9.02}, {\"path\": \"/lustre/fsmisc/dataset/LibriTTS/train-clean-360/14/208/14_208_000001_000002.wav\", \"duration_s\": 21.61}]'}"
      ]
     },
     "execution_count": 5,
     "metadata": {},
     "output_type": "execute_result"
    }
   ],
   "source": [
    "dataset[\"train\"][0]"
   ]
  }
 ],
 "metadata": {
  "kernelspec": {
   "display_name": "jsalt",
   "language": "python",
   "name": "python3"
  },
  "language_info": {
   "codemirror_mode": {
    "name": "ipython",
    "version": 3
   },
   "file_extension": ".py",
   "mimetype": "text/x-python",
   "name": "python",
   "nbconvert_exporter": "python",
   "pygments_lexer": "ipython3",
   "version": "3.9.23"
  }
 },
 "nbformat": 4,
 "nbformat_minor": 5
}
