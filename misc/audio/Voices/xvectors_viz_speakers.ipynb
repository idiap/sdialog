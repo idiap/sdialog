{
 "cells": [
  {
   "cell_type": "code",
   "execution_count": 2,
   "id": "b73e6234",
   "metadata": {},
   "outputs": [
    {
     "name": "stderr",
     "output_type": "stream",
     "text": [
      "/Users/yanislabrak/opt/miniconda3/envs/jsalt/lib/python3.9/site-packages/tqdm/auto.py:21: TqdmWarning: IProgress not found. Please update jupyter and ipywidgets. See https://ipywidgets.readthedocs.io/en/stable/user_install.html\n",
      "  from .autonotebook import tqdm as notebook_tqdm\n"
     ]
    }
   ],
   "source": [
    "import torch\n",
    "from tqdm import tqdm\n",
    "from datasets import load_dataset"
   ]
  },
  {
   "cell_type": "code",
   "execution_count": 3,
   "id": "0267fd24",
   "metadata": {},
   "outputs": [
    {
     "name": "stderr",
     "output_type": "stream",
     "text": [
      "Repo card metadata block was not found. Setting CardData to empty.\n"
     ]
    }
   ],
   "source": [
    "hf_dataset = \"sdialog/voices-libritts\"\n",
    "dataset = load_dataset(hf_dataset)[\"train\"]"
   ]
  },
  {
   "cell_type": "code",
   "execution_count": 4,
   "id": "22b047c7",
   "metadata": {},
   "outputs": [],
   "source": [
    "from pyannote.audio import Model, Inference"
   ]
  },
  {
   "cell_type": "code",
   "execution_count": 5,
   "id": "e1733c7c",
   "metadata": {},
   "outputs": [
    {
     "name": "stderr",
     "output_type": "stream",
     "text": [
      "/Users/yanislabrak/opt/miniconda3/envs/jsalt/lib/python3.9/site-packages/pytorch_lightning/utilities/migration/migration.py:208: You have multiple `ModelCheckpoint` callback states in this checkpoint, but we found state keys that would end up colliding with each other after an upgrade, which means we can't differentiate which of your checkpoint callbacks needs which states. At least one of your `ModelCheckpoint` callbacks will not be able to reload the state.\n",
      "Lightning automatically upgraded your loaded checkpoint from v1.2.7 to v2.5.2. To apply the upgrade to your files permanently, run `python -m pytorch_lightning.utilities.upgrade_checkpoint ../../../../../../../.cache/torch/pyannote/models--pyannote--embedding/snapshots/4db4899737a38b2d618bbd74350915aa10293cb2/pytorch_model.bin`\n",
      "/Users/yanislabrak/opt/miniconda3/envs/jsalt/lib/python3.9/site-packages/pyannote/audio/core/model.py:692: UserWarning: Model has been trained with a task-dependent loss function. Set 'strict' to False to load the model without its loss function and prevent this warning from appearing. \n",
      "  warnings.warn(msg)\n",
      "Lightning automatically upgraded your loaded checkpoint from v1.2.7 to v2.5.2. To apply the upgrade to your files permanently, run `python -m pytorch_lightning.utilities.upgrade_checkpoint ../../../../../../../.cache/torch/pyannote/models--pyannote--embedding/snapshots/4db4899737a38b2d618bbd74350915aa10293cb2/pytorch_model.bin`\n"
     ]
    },
    {
     "name": "stdout",
     "output_type": "stream",
     "text": [
      "Model was trained with pyannote.audio 0.0.1, yours is 3.3.2. Bad things might happen unless you revert pyannote.audio to 0.x.\n",
      "Model was trained with torch 1.8.1+cu102, yours is 2.2.2. Bad things might happen unless you revert torch to 1.x.\n",
      "Model was trained with pyannote.audio 0.0.1, yours is 3.3.2. Bad things might happen unless you revert pyannote.audio to 0.x.\n",
      "Model was trained with torch 1.8.1+cu102, yours is 2.2.2. Bad things might happen unless you revert torch to 1.x.\n"
     ]
    },
    {
     "name": "stderr",
     "output_type": "stream",
     "text": [
      "/Users/yanislabrak/opt/miniconda3/envs/jsalt/lib/python3.9/site-packages/pytorch_lightning/core/saving.py:195: Found keys that are not in the model state dict but in the checkpoint: ['loss_func.W']\n"
     ]
    }
   ],
   "source": [
    "pyannote_model = Model.from_pretrained(\"pyannote/embedding\")\n",
    "inference = Inference(pyannote_model, window=\"whole\")"
   ]
  },
  {
   "cell_type": "code",
   "execution_count": 6,
   "id": "7490594e",
   "metadata": {},
   "outputs": [
    {
     "data": {
      "text/plain": [
       "{'speaker_id': 14,\n",
       " 'gender': 'F',\n",
       " 'name': 'Kristin LeMoine',\n",
       " 'subset': 'train-clean-360',\n",
       " 'age': -1,\n",
       " 'audio': {'path': '/Users/yanislabrak/.cache/huggingface/hub/datasets--sdialog--voices-libritts/snapshots/69cc148ad7799e2a8889dd4d3fb9309c28e97435/audio/14_Kristin_LeMoine.wav',\n",
       "  'array': array([ 0.        ,  0.00015259, -0.00012207, ..., -0.00262451,\n",
       "         -0.01190186, -0.00335693]),\n",
       "  'sampling_rate': 24000},\n",
       " 'total_duration_s': 30.0,\n",
       " 'used_utterances': '[{\"path\": \"/lustre/fsmisc/dataset/LibriTTS/train-clean-360/14/208/14_208_000001_000000.wav\", \"duration_s\": 9.02}, {\"path\": \"/lustre/fsmisc/dataset/LibriTTS/train-clean-360/14/208/14_208_000001_000002.wav\", \"duration_s\": 21.61}]'}"
      ]
     },
     "execution_count": 6,
     "metadata": {},
     "output_type": "execute_result"
    }
   ],
   "source": [
    "dataset[0]"
   ]
  },
  {
   "cell_type": "code",
   "execution_count": null,
   "id": "fb50b94f",
   "metadata": {},
   "outputs": [],
   "source": [
    "xvectors = {}\n",
    "\n",
    "for d in tqdm(dataset):\n",
    "    embedding = inference(d[\"audio\"][\"path\"])\n",
    "    xvectors[d[\"speaker_id\"]] = embedding"
   ]
  },
  {
   "cell_type": "code",
   "execution_count": null,
   "id": "2ae04f50",
   "metadata": {},
   "outputs": [],
   "source": [
    "# Save the xvectors in a directory with the speaker_id as the name\n",
    "\n",
    "import os\n",
    "import pickle\n",
    "\n",
    "output_dir = \"./embeddings\"\n",
    "\n",
    "if not os.path.exists(output_dir):\n",
    "    os.makedirs(output_dir)\n",
    "\n",
    "# Save the xvectors dict in a pickle file\n",
    "with open(os.path.join(output_dir, \"xvectors.pkl\"), \"wb\") as f:\n",
    "    pickle.dump(xvectors, f)"
   ]
  },
  {
   "cell_type": "code",
   "execution_count": 9,
   "id": "6e32538c",
   "metadata": {},
   "outputs": [],
   "source": [
    "# Load the xvectors from the pickle file\n",
    "\n",
    "import os\n",
    "import pickle\n",
    "\n",
    "output_dir = \"./embeddings\"\n",
    "\n",
    "with open(os.path.join(output_dir, \"xvectors.pkl\"), \"rb\") as f:\n",
    "    xvectors = pickle.load(f)"
   ]
  },
  {
   "cell_type": "code",
   "execution_count": null,
   "id": "e255a275",
   "metadata": {},
   "outputs": [
    {
     "data": {
      "text/plain": [
       "array([ 2.37690716e+01, -2.14281654e+01, -1.68038235e+01,  8.15864944e+00,\n",
       "        1.10632124e+01,  5.18813934e+01, -2.24518757e+01, -3.13857517e+01,\n",
       "        5.65823021e+01,  1.83526249e+01, -5.86920643e+00, -3.48813515e+01,\n",
       "       -8.42868576e+01,  9.01657391e+00, -2.61165009e+01,  9.57922058e+01,\n",
       "        4.64984035e+00,  3.92423096e+01,  4.97142296e+01, -8.12264729e+00,\n",
       "        1.08447098e+02,  4.42806091e+01, -9.00812244e+00, -1.33130760e+01,\n",
       "       -7.25070572e+00,  1.04212265e+01, -6.13870621e+01, -1.10190716e+01,\n",
       "        3.58142509e+01, -3.64577460e+00,  2.17553139e+00,  5.21060600e+01,\n",
       "       -1.44362278e+01,  2.91839733e+01, -3.04721260e+00,  7.55421677e+01,\n",
       "        1.99846401e+01,  3.19525776e+01,  1.91178894e+01, -7.08852863e+00,\n",
       "       -3.90039864e+01, -4.39150620e+01, -1.88958473e+01, -7.77976465e+00,\n",
       "       -1.91791725e+01, -2.71798382e+01,  5.12386246e+01, -2.67730179e+01,\n",
       "       -4.22060356e+01, -3.16135824e-01, -4.16276016e+01,  2.79193592e+01,\n",
       "       -2.45209007e+01, -7.10781479e+01,  1.65102997e+01,  2.85239182e+01,\n",
       "        5.74675417e+00, -2.29631090e+00,  2.23721848e+01,  7.28085661e+00,\n",
       "       -2.99203758e+01, -4.65950928e+01,  6.00295944e+01, -3.82360878e+01,\n",
       "        6.16391296e+01, -1.56971674e+01, -1.53061247e+01,  1.17151916e-01,\n",
       "        1.34683819e+01, -2.57791348e+01, -3.15298405e+01, -2.86727982e+01,\n",
       "        1.47243149e+02,  3.25899353e+01,  8.37795792e+01,  6.41452713e+01,\n",
       "        5.36281738e+01, -8.24162903e+01, -2.54594250e+01, -5.90206671e+00,\n",
       "       -2.46065540e+01,  3.46315193e+01, -4.23429070e+01, -3.22443314e+01,\n",
       "       -2.02091274e+01, -1.65931606e+01, -2.31638889e+01,  6.91899796e+01,\n",
       "        2.62391396e+01, -4.13226471e+01,  2.17248573e+01, -7.03517838e+01,\n",
       "        5.65004196e+01, -5.02712631e+01, -2.13761578e+01,  2.01143665e+01,\n",
       "       -4.95960474e+00, -2.08637276e+01,  5.13657913e+01, -7.18327408e+01,\n",
       "        5.18015976e+01,  2.59441566e+01,  4.34002266e+01,  1.86622066e+01,\n",
       "       -4.78279686e+01,  3.95585084e+00,  6.69095802e+00, -6.82853079e+00,\n",
       "       -3.52155495e+01,  4.19546471e+01,  9.83931160e+00,  3.72720757e+01,\n",
       "       -5.86857367e+00,  3.97164230e+01,  3.81355667e+01,  4.03557920e+00,\n",
       "        1.38552237e+01, -1.80616798e+01,  1.33672237e+00, -3.54723663e+01,\n",
       "        3.57988052e+01, -4.23807716e+01, -5.45886765e+01, -1.20041571e+01,\n",
       "        3.47931213e+01, -1.22455049e+00,  3.66778221e+01,  2.31767826e+01,\n",
       "       -6.07256126e+00,  3.42730103e+01,  1.39598808e+01,  1.04787731e+00,\n",
       "        4.36713104e+01,  7.26235962e+00,  1.96441593e+01, -8.36545753e+00,\n",
       "        8.20078049e+01, -3.89925289e+00,  2.88451462e+01, -1.84154243e+01,\n",
       "        8.71299133e+01, -4.97711372e+01,  1.61724091e+01, -3.35940094e+01,\n",
       "       -2.37156982e+01, -7.61030960e+01, -6.46071396e+01, -3.94187737e+01,\n",
       "       -5.55358839e+00, -9.41143417e+00, -3.41089363e+01, -1.05287094e+01,\n",
       "        1.55420876e+01,  1.71747723e+01,  4.46272240e+01,  4.53671913e+01,\n",
       "        6.22265005e+00,  3.79708529e-01,  2.67484608e+01, -9.45070386e-01,\n",
       "        1.61331196e+01, -1.32691221e+01,  6.10775528e+01, -7.94314384e+00,\n",
       "       -5.53242445e+00,  9.62380219e+00, -6.64417419e+01, -5.20661964e+01,\n",
       "        2.95909100e+01, -5.64563065e+01,  3.99782524e+01,  4.52420311e+01,\n",
       "        1.65554543e+01, -4.64767265e+01,  3.74038963e+01, -7.15183640e+01,\n",
       "       -6.51043549e+01, -4.78639555e+00,  1.53033028e+01,  1.30405340e+01,\n",
       "       -3.55631332e+01, -5.36967754e+00, -5.16581154e+00, -1.30551062e+01,\n",
       "        1.31985636e+01,  6.33577385e+01,  3.20235863e+01,  4.13185616e+01,\n",
       "        6.53576279e+01,  8.22625732e+01,  4.65871468e+01, -1.65616302e+01,\n",
       "        6.68912888e-01, -4.10272636e+01, -3.32594967e+00,  2.93162823e+01,\n",
       "       -3.73062286e+01, -7.95700836e+01, -1.07277390e+02, -1.06847458e+02,\n",
       "        1.04877529e+01,  3.81902390e+01,  1.54652920e+01,  1.80163078e+01,\n",
       "        8.48448639e+01, -2.17817163e+00, -1.46295719e+01, -1.72347603e+01,\n",
       "       -6.59113922e+01,  3.30903397e+01, -8.40380478e+01,  1.37766752e+01,\n",
       "        3.70993347e+01, -5.63682413e+00, -3.58457108e+01,  1.16443062e+00,\n",
       "        8.69829655e+00, -2.12195187e+01, -8.30340767e+00,  2.57866859e+01,\n",
       "       -5.65555334e+00,  3.02692966e+01, -2.25881457e+00, -4.59581375e+01,\n",
       "        6.73171854e+00, -3.49348373e+01,  3.97469711e+01, -1.10480185e+01,\n",
       "        1.62885356e+00,  1.97648697e+01,  6.86155701e+01,  2.19452934e+01,\n",
       "       -2.18122635e+01, -1.72505283e+01,  2.44576530e+01,  5.75941467e+01,\n",
       "        4.81621094e+01, -1.25787773e+01,  1.04579983e+01, -1.66567593e+01,\n",
       "       -1.52981558e+01,  8.09714127e+01, -3.20421829e+01, -1.73456249e+01,\n",
       "       -1.03055573e+02, -4.05503798e+00, -1.82703400e+01, -3.86776276e+01,\n",
       "       -1.09571823e+02, -2.51231022e+01,  1.59232569e+01, -1.55188332e+01,\n",
       "        2.68240285e+00,  2.10400791e+01,  2.39912224e+01,  2.59408417e+01,\n",
       "        7.95823822e+01, -5.62157211e+01, -3.56544228e+01, -5.16598740e+01,\n",
       "       -3.51077042e+01, -2.03300838e+01, -7.77047501e+01,  1.81513271e+01,\n",
       "        3.83720245e+01,  3.83887177e+01,  7.52308960e+01,  2.57750759e+01,\n",
       "       -8.36905479e+00,  1.21146927e+01, -7.05449390e+00, -1.44117308e+01,\n",
       "        1.82375450e+01, -3.34413223e+01,  1.09178858e+01, -2.78318596e+01,\n",
       "        3.99991341e+01,  8.46514225e+00, -3.15885601e+01, -8.26613426e+00,\n",
       "        5.05140257e+00,  5.75484772e+01,  5.04321518e+01, -3.15914574e+01,\n",
       "        4.93912983e+00,  3.47013054e+01,  9.31664848e+00, -3.65938797e+01,\n",
       "       -3.04879832e+00,  1.23662872e+01,  4.75298271e+01,  3.64453735e+01,\n",
       "       -8.36921310e+01, -3.87189007e+00,  1.78059330e+01, -3.45786667e+01,\n",
       "        3.45969582e+01, -7.96752501e+00,  2.06883774e+01,  1.27080421e+01,\n",
       "        7.01072502e+00, -2.99695053e+01, -2.80483513e+01, -1.59900725e+00,\n",
       "       -1.34679956e+01,  1.22400427e+01, -1.14448338e+01,  4.26570930e+01,\n",
       "        3.47077637e+01, -2.75868073e+01,  3.35196114e+01, -1.75612354e+01,\n",
       "       -2.22390766e+01, -4.01046333e+01, -6.29502726e+00,  1.21028204e+01,\n",
       "       -3.46495781e+01, -3.03877354e+01,  3.72062378e+01, -5.26692543e+01,\n",
       "       -7.78579044e+00,  3.32536926e+01,  6.22499352e+01, -9.89812756e+00,\n",
       "       -9.01488304e+00, -9.84903812e+00, -1.51723251e+01,  6.02203598e+01,\n",
       "       -6.83052673e+01, -5.57710152e+01,  6.84201670e+00,  2.94344330e+00,\n",
       "        5.00303221e+00,  1.43212528e+01, -5.73535156e+01, -3.99602699e+01,\n",
       "       -1.38809204e+01,  2.81664944e+01,  3.94307823e+01, -1.49814987e+00,\n",
       "        1.41112738e+01,  5.54195518e+01, -6.90438557e+00, -1.13242712e+01,\n",
       "       -1.12843704e+02,  6.11634922e+00,  5.04532776e+01, -1.49612579e+01,\n",
       "        1.18897705e+01, -2.81788683e+00, -3.48725433e+01,  1.00295668e+01,\n",
       "        4.50064964e+01, -1.34096336e+01,  1.19733620e+00,  2.49985743e+00,\n",
       "        1.03971624e+00,  2.89606361e+01, -4.56709175e+01, -3.58911667e+01,\n",
       "        2.79321346e+01,  1.74344997e+01, -2.38981361e+01,  5.64002266e+01,\n",
       "       -1.93343277e+01,  6.08117409e+01,  2.89820461e+01,  2.61014595e+01,\n",
       "        2.69792252e+01,  3.62083435e+01, -9.49456215e+00, -4.30039263e+00,\n",
       "       -1.94742947e+01,  9.48972034e+00,  9.88072968e+00, -5.05282784e+00,\n",
       "        5.05096054e+01, -7.58250809e+00, -6.24567184e+01, -4.23748827e+00,\n",
       "        3.13938351e+01, -4.36795731e+01, -1.88897686e+01,  2.09978867e+01,\n",
       "       -7.65035725e+00, -6.62676697e+01, -3.28656502e+01, -4.55316391e+01,\n",
       "       -2.32204628e+01,  5.58100052e+01, -2.30880890e+01, -5.55274887e+01,\n",
       "        2.96512032e+01,  1.37670250e+01,  6.01308632e+01,  2.03784637e+01,\n",
       "       -5.31829491e+01, -1.70592384e+01,  6.27087822e+01,  5.90244408e+01,\n",
       "        2.69304180e+01, -1.75223103e+01,  1.94881821e+01,  6.16235008e+01,\n",
       "       -2.46590576e+01,  3.98499918e+00, -2.27672844e+01,  3.18763676e+01,\n",
       "       -3.26399498e+01, -1.49261236e+01, -6.52289658e+01, -2.49452858e+01,\n",
       "        5.93792305e+01,  1.26701107e+01, -1.84736710e+01, -3.70421181e+01,\n",
       "       -3.20962524e+01,  9.95646000e+00, -9.46727085e+00,  6.19144058e+00,\n",
       "        8.48513641e+01, -1.81591702e+01,  5.74212503e+00,  2.27921085e+01,\n",
       "       -2.74142227e+01,  1.08232376e+02,  4.70559263e+00,  4.42999573e+01,\n",
       "        1.14712489e+00,  5.63870468e+01, -6.21693039e+01,  2.89077454e+01,\n",
       "       -5.85032997e+01,  1.78522377e+01,  6.93208847e+01, -3.70691681e+01,\n",
       "       -8.50734520e+00, -4.57907982e+01, -7.30812225e+01,  2.11891479e+01,\n",
       "       -8.78099060e+00,  5.49899254e+01, -7.13718567e+01,  1.23476715e+01,\n",
       "       -1.17319641e+01, -1.87632580e+01, -2.16294975e+01,  1.99079227e+01,\n",
       "        3.53453560e+01,  5.27960396e+01,  3.79730568e+01, -4.14438677e+00,\n",
       "        7.71212339e+00, -2.08459091e+01, -1.67846584e+01,  5.04265499e+00,\n",
       "        5.76344919e+00, -4.35491419e+00,  2.39075317e+01, -6.25816202e+00,\n",
       "        3.45781288e+01, -3.60053787e+01, -1.08443747e+01,  3.74476967e+01,\n",
       "       -2.84050865e+01, -2.00702858e+01,  3.77683411e+01, -5.56359482e+01,\n",
       "        2.70663204e+01,  6.06488762e+01,  3.29909096e+01,  1.91075954e+01,\n",
       "       -2.14040470e+01,  4.48917351e+01, -3.52420158e+01, -6.12105465e+00,\n",
       "       -4.77746429e+01, -6.75480042e+01,  2.09965539e+00, -7.24845219e+00,\n",
       "        3.77691102e+00, -2.89808178e+01,  1.21469498e+01,  8.04687042e+01,\n",
       "        5.16305618e+01, -1.32355070e+01,  2.23151283e+01, -8.42189121e+00,\n",
       "       -3.53740158e+01,  9.37332153e+00, -3.95736909e+00,  4.10933137e-01,\n",
       "        3.81066284e+01, -7.68989716e+01, -1.29408741e+01,  4.91610222e+01,\n",
       "        3.33842125e+01,  1.12364321e+01,  4.51450615e+01,  7.09912949e+01,\n",
       "        2.25067253e+01, -2.12965813e+01, -1.20648689e+01,  1.60372086e+01,\n",
       "       -3.48333130e+01,  5.88753128e+00, -8.69204521e+00, -5.55072517e+01,\n",
       "        4.52562904e+01, -4.33495255e+01, -5.16160507e+01,  5.35414362e+00],\n",
       "      dtype=float32)"
      ]
     },
     "execution_count": 14,
     "metadata": {},
     "output_type": "execute_result"
    }
   ],
   "source": [
    "print(\"List of identifiers:\")\n",
    "xvectors.keys()\n",
    "\n",
    "print(\"xvector embedding for identifier 14:\")\n",
    "xvectors[14]"
   ]
  }
 ],
 "metadata": {
  "kernelspec": {
   "display_name": "jsalt",
   "language": "python",
   "name": "python3"
  },
  "language_info": {
   "codemirror_mode": {
    "name": "ipython",
    "version": 3
   },
   "file_extension": ".py",
   "mimetype": "text/x-python",
   "name": "python",
   "nbconvert_exporter": "python",
   "pygments_lexer": "ipython3",
   "version": "3.9.23"
  }
 },
 "nbformat": 4,
 "nbformat_minor": 5
}
