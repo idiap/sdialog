{
 "cells": [
  {
   "cell_type": "code",
   "execution_count": null,
   "id": "b73e6234",
   "metadata": {},
   "outputs": [],
   "source": [
    "import torch\n",
    "from tqdm import tqdm\n",
    "from datasets import load_dataset"
   ]
  },
  {
   "cell_type": "code",
   "execution_count": null,
   "id": "0267fd24",
   "metadata": {},
   "outputs": [],
   "source": [
    "hf_dataset = \"sdialog/voices-libritts\"\n",
    "dataset = load_dataset(hf_dataset)[\"train\"]"
   ]
  },
  {
   "cell_type": "code",
   "execution_count": null,
   "id": "22b047c7",
   "metadata": {},
   "outputs": [],
   "source": [
    "from pyannote.audio import Model, Inference"
   ]
  },
  {
   "cell_type": "code",
   "execution_count": null,
   "id": "e1733c7c",
   "metadata": {},
   "outputs": [],
   "source": [
    "pyannote_model = Model.from_pretrained(\"pyannote/embedding\")\n",
    "inference = Inference(pyannote_model, window=\"whole\")"
   ]
  },
  {
   "cell_type": "code",
   "execution_count": null,
   "id": "7490594e",
   "metadata": {},
   "outputs": [],
   "source": [
    "dataset[0]"
   ]
  },
  {
   "cell_type": "code",
   "execution_count": null,
   "id": "fb50b94f",
   "metadata": {},
   "outputs": [],
   "source": [
    "xvectors = {}\n",
    "\n",
    "for d in tqdm(dataset):\n",
    "    embedding = inference(d[\"audio\"][\"path\"])\n",
    "    xvectors[d[\"speaker_id\"]] = embedding"
   ]
  },
  {
   "cell_type": "code",
   "execution_count": null,
   "id": "2ae04f50",
   "metadata": {},
   "outputs": [],
   "source": [
    "# Save the xvectors in a directory with the speaker_id as the name\n",
    "\n",
    "import os\n",
    "import pickle\n",
    "\n",
    "output_dir = \"./embeddings\"\n",
    "\n",
    "if not os.path.exists(output_dir):\n",
    "    os.makedirs(output_dir)\n",
    "\n",
    "# Save the xvectors dict in a pickle file\n",
    "with open(os.path.join(output_dir, \"xvectors.pkl\"), \"wb\") as f:\n",
    "    pickle.dump(xvectors, f)"
   ]
  },
  {
   "cell_type": "code",
   "execution_count": null,
   "id": "6e32538c",
   "metadata": {},
   "outputs": [],
   "source": [
    "# Load the xvectors from the pickle file\n",
    "\n",
    "import os\n",
    "import pickle\n",
    "\n",
    "output_dir = \"./embeddings\"\n",
    "\n",
    "with open(os.path.join(output_dir, \"xvectors.pkl\"), \"rb\") as f:\n",
    "    xvectors = pickle.load(f)"
   ]
  },
  {
   "cell_type": "code",
   "execution_count": null,
   "id": "e255a275",
   "metadata": {},
   "outputs": [],
   "source": [
    "print(\"List of identifiers:\")\n",
    "print(xvectors.keys())\n",
    "\n",
    "print(\"xvector embedding for identifier 14:\")\n",
    "print(xvectors[14])"
   ]
  }
 ],
 "metadata": {
  "kernelspec": {
   "display_name": "jsalt",
   "language": "python",
   "name": "python3"
  },
  "language_info": {
   "codemirror_mode": {
    "name": "ipython",
    "version": 3
   },
   "file_extension": ".py",
   "mimetype": "text/x-python",
   "name": "python",
   "nbconvert_exporter": "python",
   "pygments_lexer": "ipython3",
   "version": "3.9.23"
  }
 },
 "nbformat": 4,
 "nbformat_minor": 5
}
