{
 "cells": [
  {
   "cell_type": "code",
   "execution_count": null,
   "metadata": {},
   "outputs": [],
   "source": [
    "%module load ffmpeg-XXX"
   ]
  },
  {
   "cell_type": "code",
   "execution_count": null,
   "metadata": {},
   "outputs": [],
   "source": [
    "!git clone https://github.com/cyrta/dscaper\n",
    "!pip install -e ./dscaper"
   ]
  },
  {
   "cell_type": "code",
   "execution_count": null,
   "metadata": {},
   "outputs": [],
   "source": [
    "# On MacOS\n",
    "!brew install ffmpeg\n",
    "!brew install sox"
   ]
  },
  {
   "cell_type": "code",
   "execution_count": null,
   "metadata": {},
   "outputs": [],
   "source": [
    "!CFLAGS=\"-I/Users/yanislabrak/opt/miniconda3/envs/sdialog/include\" LDFLAGS=\"-L/Users/yanislabrak/opt/miniconda3/envs/sdialog/lib\" pip install -e dscaper --force-reinstall --no-cache-dir"
   ]
  },
  {
   "cell_type": "code",
   "execution_count": null,
   "metadata": {},
   "outputs": [],
   "source": [
    "import scaper\n",
    "from scaper.dscaper_datatypes import DscaperAudio, DscaperTimeline, DscaperBackground, DscaperEvent, DscaperGenerate"
   ]
  },
  {
   "cell_type": "code",
   "execution_count": null,
   "metadata": {},
   "outputs": [],
   "source": [
    "DATA_PATH = \"./dcaper_data\"\n",
    "dsc = scaper.Dscaper(dscaper_base_path=DATA_PATH)"
   ]
  },
  {
   "cell_type": "code",
   "execution_count": null,
   "metadata": {},
   "outputs": [],
   "source": [
    "utterances = [\"./outputs/2first_dialog_audio_elevenlabs.wav\" for _ in range(5)]\n",
    "\n",
    "for utt in utterances:\n",
    "    metadata = DscaperAudio(library=\"dialog_1\", label=\"speaker_A\", filename=\"turn_1.wav\")\n",
    "    resp = dsc.store_audio(utt, metadata)\n",
    "    if resp.status != \"success\":\n",
    "        print(\"Problem!\")"
   ]
  },
  {
   "cell_type": "code",
   "execution_count": null,
   "metadata": {},
   "outputs": [],
   "source": [
    "audio_events = [[\n",
    "    \"./outputs/keyboard_typing.wav\",\n",
    "    \"room_objects\",\n",
    "    \"keyboard_typing\",\n",
    "    f\"keyboard_typing_{i}.wav\"\n",
    "] for i in range(5)]\n",
    "\n",
    "for audio_event in audio_events:\n",
    "    metadata = DscaperAudio(library=audio_event[1], label=audio_event[2], filename=audio_event[3])\n",
    "    resp = dsc.store_audio(audio_event[0], metadata)\n",
    "    if resp.status != \"success\":\n",
    "        print(\"Problem!\")"
   ]
  },
  {
   "cell_type": "code",
   "execution_count": null,
   "metadata": {},
   "outputs": [],
   "source": [
    "audio_events = [[\n",
    "    \"./outputs/ac_noise.wav\",\n",
    "    \"background\",\n",
    "    \"ac_noise\",\n",
    "    f\"ac_noise_{i}.wav\"\n",
    "] for i in range(2)]\n",
    "\n",
    "for audio_event in audio_events:\n",
    "    metadata = DscaperAudio(library=audio_event[1], label=audio_event[2], filename=audio_event[3])\n",
    "    resp = dsc.store_audio(audio_event[0], metadata)\n",
    "    if resp.status != \"success\":\n",
    "        print(\"Problem!\")"
   ]
  },
  {
   "cell_type": "markdown",
   "metadata": {},
   "source": [
    "# Build the timeline"
   ]
  },
  {
   "cell_type": "code",
   "execution_count": null,
   "metadata": {},
   "outputs": [],
   "source": [
    "timeline_metadata = DscaperTimeline(name=\"dialog_1\", duration=60.0, description=\"Test timeline\") # WARNING: time\n",
    "dsc.create_timeline(timeline_metadata)"
   ]
  },
  {
   "cell_type": "markdown",
   "metadata": {},
   "source": [
    "## Background are repeated"
   ]
  },
  {
   "cell_type": "code",
   "execution_count": null,
   "metadata": {},
   "outputs": [],
   "source": [
    "background_metadata = DscaperBackground(\n",
    "    library=\"background\",\n",
    "    label=[\"const\", \"ac_noise\"],\n",
    "    source_file=[\"choose\",\"[]\"]\n",
    ")\n",
    "dsc.add_background(\"dialog_1\", background_metadata) # Repeat it indefinitely"
   ]
  },
  {
   "cell_type": "markdown",
   "metadata": {},
   "source": [
    "## Event are fixed elements"
   ]
  },
  {
   "cell_type": "code",
   "execution_count": null,
   "metadata": {},
   "outputs": [],
   "source": [
    "event_metadata = DscaperEvent(\n",
    "    library=\"room_objects\",\n",
    "    label=[\"const\", \"keyboard_typing\"],\n",
    "    source_file=[\"choose\",\"[]\"],\n",
    "    event_time=[\"const\",\"20\"], # 20s after the start of the timeline\n",
    "    event_duration=None, # [\"const\",\"1\"] 1s duration\n",
    "    position=\"seat_1\", # need to be generated at the same time as the SNR\n",
    "    speaker=None, # speaker_1 if utterance\n",
    "    text=None, # \"Hello, how are you?\" if utterance\n",
    ")\n",
    "dsc.add_event(\"dialog_1\", event_metadata)"
   ]
  },
  {
   "cell_type": "code",
   "execution_count": null,
   "metadata": {},
   "outputs": [],
   "source": [
    "utt_metadata = DscaperEvent(\n",
    "    library=\"room_objects\",\n",
    "    label=[\"const\", \"keyboard_typing\"],\n",
    "    source_file=[\"choose\",\"[]\"],\n",
    "    event_time=[\"const\",\"20\"], # 20s after the start of the timeline\n",
    "    event_duration=None, # [\"const\",\"1\"] 1s duration\n",
    "    position=\"door\", # need to be generated at the same time as the SNR\n",
    "    speaker=\"speaker_1\",\n",
    "    text=\"Hello how are you\",\n",
    ")\n",
    "dsc.add_event(\"dialog_1\", utt_metadata)"
   ]
  },
  {
   "cell_type": "code",
   "execution_count": null,
   "metadata": {},
   "outputs": [],
   "source": [
    "generate_metadata = DscaperGenerate(seed=0, save_isolated_positions=True)\n",
    "resp = dsc.generate_timeline(\"dialog_1\", generate_metadata)\n",
    "\n",
    "content = DscaperGenerate(**resp.content)\n",
    "print(\"ID:\",content.id)\n",
    "# Pavel need: DATA_PATH > generate > id"
   ]
  },
  {
   "cell_type": "markdown",
   "metadata": {},
   "source": [
    "# For the timeline annotation viz"
   ]
  },
  {
   "cell_type": "code",
   "execution_count": null,
   "metadata": {},
   "outputs": [],
   "source": [
    "import misc.jams_to_rttm as jams2rttm\n",
    "import misc.jams_to_textgrid as jams2textgrid"
   ]
  },
  {
   "cell_type": "code",
   "execution_count": null,
   "metadata": {},
   "outputs": [],
   "source": [
    "jams_path = \"/path/to/input.jams\"\n",
    "rttm_path = \"/path/to/output.rttm\"\n",
    "jams2rttm.jams_to_rttm(jams_path, rttm_path)"
   ]
  },
  {
   "cell_type": "code",
   "execution_count": null,
   "metadata": {},
   "outputs": [],
   "source": [
    "jams_path = \"/path/to/input.jams\"\n",
    "textgrid_path = \"/path/to/output.textgrid\"\n",
    "jams2textgrid.jams_to_textgrid(jams_path, textgrid_path)"
   ]
  }
 ],
 "metadata": {
  "kernelspec": {
   "display_name": "sdialog",
   "language": "python",
   "name": "python3"
  },
  "language_info": {
   "codemirror_mode": {
    "name": "ipython",
    "version": 3
   },
   "file_extension": ".py",
   "mimetype": "text/x-python",
   "name": "python",
   "nbconvert_exporter": "python",
   "pygments_lexer": "ipython3",
   "version": "3.11.13"
  }
 },
 "nbformat": 4,
 "nbformat_minor": 2
}
